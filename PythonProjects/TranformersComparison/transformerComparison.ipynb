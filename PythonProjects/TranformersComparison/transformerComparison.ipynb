{
 "cells": [
  {
   "cell_type": "markdown",
   "metadata": {},
   "source": [
    "###  Comparison between best Deep Learning Models for Tabular data  using *mushroom_cleaned* dataset\n",
    "\n",
    "I'm going to use these models:\n",
    "- #### TabNet\n",
    "- #### TabTransforner\n",
    "- #### SAINT\n",
    "- #### TF-Transformer\n",
    "\n",
    "For each model I will get the execution time, loss, Test  Accuracy and their parameters archiving a minimum of .85 in val accuracy.\n",
    "\n",
    "Every model have a training-testing size --> 80-20 with a random_seed=42, an *ADAM optimizer* and a *BCEWwithLogistLoss loss function*"
   ]
  },
  {
   "cell_type": "markdown",
   "metadata": {},
   "source": [
    "#### Imports"
   ]
  },
  {
   "cell_type": "code",
   "execution_count": 13,
   "metadata": {},
   "outputs": [],
   "source": [
    "import numpy as np\n",
    "import pandas as pd\n",
    "import time\n",
    "# Preprocessing \n",
    "from sklearn.model_selection import train_test_split\n",
    "from sklearn.preprocessing import LabelEncoder\n",
    "#\n",
    "import torch\n",
    "import torch.nn as nn\n",
    "# Models\n",
    "from tab_transformer_pytorch import TabTransformer\n",
    "from saint_pytorch import SAINT\n",
    "# Metrics\n",
    "from sklearn.metrics import accuracy_score"
   ]
  },
  {
   "cell_type": "code",
   "execution_count": 12,
   "metadata": {},
   "outputs": [],
   "source": [
    "time_Model = {}"
   ]
  },
  {
   "cell_type": "markdown",
   "metadata": {},
   "source": [
    "#### Load Data"
   ]
  },
  {
   "cell_type": "code",
   "execution_count": 3,
   "metadata": {},
   "outputs": [
    {
     "name": "stdout",
     "output_type": "stream",
     "text": [
      "<class 'pandas.core.frame.DataFrame'>\n",
      "RangeIndex: 54035 entries, 0 to 54034\n",
      "Data columns (total 9 columns):\n",
      " #   Column           Non-Null Count  Dtype  \n",
      "---  ------           --------------  -----  \n",
      " 0   cap-diameter     54035 non-null  int64  \n",
      " 1   cap-shape        54035 non-null  int64  \n",
      " 2   gill-attachment  54035 non-null  int64  \n",
      " 3   gill-color       54035 non-null  int64  \n",
      " 4   stem-height      54035 non-null  float64\n",
      " 5   stem-width       54035 non-null  int64  \n",
      " 6   stem-color       54035 non-null  int64  \n",
      " 7   season           54035 non-null  float64\n",
      " 8   class            54035 non-null  int64  \n",
      "dtypes: float64(2), int64(7)\n",
      "memory usage: 3.7 MB\n"
     ]
    }
   ],
   "source": [
    "dataset = pd.read_csv('mushroom_cleaned.csv', sep=',')\n",
    "dataset.info()"
   ]
  },
  {
   "cell_type": "markdown",
   "metadata": {},
   "source": [
    "##### Data treatment common for each model"
   ]
  },
  {
   "cell_type": "code",
   "execution_count": 14,
   "metadata": {},
   "outputs": [],
   "source": [
    "categorical_cols = ['cap-diameter','cap-shape', 'gill-attachment', 'gill-color', 'stem-width', 'stem-color']\n",
    "continuous_cols = ['stem-height', 'season']\n",
    "label_col = 'class'\n",
    "#\n",
    "labelEncodersTabTransformer = {}\n",
    "#\n",
    "for col in categorical_cols: \n",
    "    le = LabelEncoder();\n",
    "    dataset[col] = le.fit_transform(dataset[col])\n",
    "    labelEncodersTabTransformer[col] = le\n",
    "# Split data into 'data' and 'labels'\n",
    "X = dataset.drop(label_col, axis=1)\n",
    "y = dataset[label_col]\n",
    "# Split into training and testing\n",
    "X_train, X_test, y_train, y_test = train_test_split(X, y, test_size=0.2, random_state=42)\n",
    "# Separate categorical and continous features\n",
    "X_train_cat =   X_train[categorical_cols].values\n",
    "X_train_cont =  X_train[continuous_cols].values\n",
    "#\n",
    "X_test_cat =    X_test[categorical_cols].values\n",
    "X_test_cont =   X_test[continuous_cols].values\n",
    "#\n",
    "# Convert to PyTorch Tensors\n",
    "X_train_cat_tensor =    torch.tensor(X_train_cat,       dtype=torch.long)\n",
    "X_train_cont_tensor =   torch.tensor(X_train_cont,      dtype=torch.float)\n",
    "y_train_tensor =        torch.tensor(y_train.values,    dtype=torch.float)\n",
    "# \n",
    "X_test_cat_tensor =     torch.tensor(X_test_cat, dtype=torch.long)\n",
    "X_test_cont_tensor =    torch.tensor(X_test_cont, dtype=torch.float)\n",
    "y_test_tensor =         torch.tensor(y_test.values, dtype=torch.float)"
   ]
  },
  {
   "cell_type": "markdown",
   "metadata": {},
   "source": [
    "### TabTransformer"
   ]
  },
  {
   "cell_type": "markdown",
   "metadata": {},
   "source": [
    "#### Define the model + Optimizer + Loss function"
   ]
  },
  {
   "cell_type": "code",
   "execution_count": 7,
   "metadata": {},
   "outputs": [],
   "source": [
    "# Parameters\n",
    "NUM_UNIQUE_CATEGORIES = [dataset[col].nunique() for col in categorical_cols]\n",
    "NUM_CONTINOUS  = len(continuous_cols)\n",
    "DIM = 32\n",
    "DIM_OUT = 1\n",
    "DEPTH = 6\n",
    "HEADS = 8\n",
    "ATTN_DROPOUT = .1\n",
    "FF_DROPOUT = .1"
   ]
  },
  {
   "cell_type": "code",
   "execution_count": 8,
   "metadata": {},
   "outputs": [],
   "source": [
    "modelTabTrans = TabTransformer(\n",
    "    categories=NUM_UNIQUE_CATEGORIES,\n",
    "    num_continuous=NUM_CONTINOUS,\n",
    "    dim=DIM,\n",
    "    dim_out=DIM_OUT,\n",
    "    depth=DEPTH,\n",
    "    heads=HEADS,\n",
    "    attn_dropout=ATTN_DROPOUT,\n",
    "    ff_dropout=FF_DROPOUT\n",
    ")"
   ]
  },
  {
   "cell_type": "code",
   "execution_count": 9,
   "metadata": {},
   "outputs": [],
   "source": [
    "# Optimizer + Loss function\n",
    "optimizer = torch.optim.Adam(modelTabTrans.parameters(), lr=1e-3)\n",
    "criterion = nn.BCEWithLogitsLoss()"
   ]
  },
  {
   "cell_type": "markdown",
   "metadata": {},
   "source": [
    "#### TabTransformer Train"
   ]
  },
  {
   "cell_type": "code",
   "execution_count": null,
   "metadata": {},
   "outputs": [],
   "source": [
    "loss_TabTrans = [] # loss per epoch\n",
    "ini_time = time.time()\n",
    "modelTabTrans.train()\n",
    "for epoch in range(15):\n",
    "    optimizer.zero_grad()\n",
    "    output = modelTabTrans(X_train_cat_tensor, X_train_cont_tensor)\n",
    "    loss = criterion(output.squeeze(), y_train_tensor)\n",
    "    loss.backward()\n",
    "    optimizer.step()\n",
    "    loss_TabTrans.append(loss.item())\n",
    "    print(f'Epoch {epoch+1}, Loss: {loss.item()}')\n",
    "time_Model['TabTransformer'] = time.time() - ini_time"
   ]
  },
  {
   "cell_type": "markdown",
   "metadata": {},
   "source": [
    "#### TabTransformer Evaluation"
   ]
  },
  {
   "cell_type": "code",
   "execution_count": null,
   "metadata": {},
   "outputs": [],
   "source": [
    "modelTabTrans.eval()\n",
    "with torch.no_grad():\n",
    "    # Test Loss\n",
    "    test_output = modelTabTrans(X_test_cat_tensor, X_test_cont_tensor)\n",
    "    test_loss = criterion(test_output.squeeze(), y_test_tensor)\n",
    "    print(f'Test Loss: {test_loss.item()}')\n",
    "    # Accuracy\n",
    "    test_preds = torch.sigmoid(test_output).squeeze().round()\n",
    "    accuracy = accuracy_score(y_test_tensor.numpy(), y_test_tensor)\n",
    "    print(f'Test Accuracy: {accuracy * 100:.4f}%')"
   ]
  },
  {
   "cell_type": "markdown",
   "metadata": {},
   "source": [
    "### TF-Transformer\n",
    "\n",
    "No tenemos una implementación directa de TF-Transformer en PyTorch o Skleaern."
   ]
  },
  {
   "cell_type": "markdown",
   "metadata": {},
   "source": [
    "### SAINt"
   ]
  },
  {
   "cell_type": "markdown",
   "metadata": {},
   "source": []
  }
 ],
 "metadata": {
  "kernelspec": {
   "display_name": ".python-venv",
   "language": "python",
   "name": "python3"
  },
  "language_info": {
   "codemirror_mode": {
    "name": "ipython",
    "version": 3
   },
   "file_extension": ".py",
   "mimetype": "text/x-python",
   "name": "python",
   "nbconvert_exporter": "python",
   "pygments_lexer": "ipython3",
   "version": "3.9.6"
  }
 },
 "nbformat": 4,
 "nbformat_minor": 2
}
