{
 "cells": [
  {
   "cell_type": "markdown",
   "metadata": {},
   "source": [
    "###  Comparison between best Deep Learning Models for Tabular data  using *mushroom_cleaned* dataset\n",
    "\n",
    "I'm going to use these models:\n",
    "- #### TabTransforner\n",
    "- #### TabNet\n",
    "- #### CatBoost\n",
    "- #### XGBoost\n",
    "\n",
    "For each model I will get the execution time, loss, Test  Accuracy and their parameters archiving a minimum of .85 in val accuracy.\n",
    "\n",
    "Every model have a training-testing size --> 80-20 with a random_seed=42, an *ADAM optimizer* and a *BCEWwithLogistLoss loss function*"
   ]
  },
  {
   "cell_type": "markdown",
   "metadata": {},
   "source": [
    "#### Imports"
   ]
  },
  {
   "cell_type": "code",
   "execution_count": 9,
   "metadata": {},
   "outputs": [],
   "source": [
    "import numpy as np\n",
    "import pandas as pd\n",
    "import time\n",
    "import matplotlib.pyplot as plt\n",
    "# Preprocessing \n",
    "from sklearn.model_selection import train_test_split\n",
    "from sklearn.preprocessing import LabelEncoder\n",
    "#\n",
    "import torch\n",
    "import torch.nn as nn\n",
    "# Models\n",
    "from tab_transformer_pytorch import TabTransformer\n",
    "# Metrics\n",
    "from sklearn.metrics import accuracy_score, roc_auc_score, roc_curve"
   ]
  },
  {
   "cell_type": "code",
   "execution_count": 10,
   "metadata": {},
   "outputs": [],
   "source": [
    "results = {\n",
    "    'Model': [],\n",
    "    'Training Time (s)': [],\n",
    "    'Test Accuracy': [],\n",
    "    'AUC' : []\n",
    "}"
   ]
  },
  {
   "cell_type": "markdown",
   "metadata": {},
   "source": [
    "#### Load Data"
   ]
  },
  {
   "cell_type": "code",
   "execution_count": 85,
   "metadata": {},
   "outputs": [
    {
     "name": "stdout",
     "output_type": "stream",
     "text": [
      "<class 'pandas.core.frame.DataFrame'>\n",
      "RangeIndex: 54035 entries, 0 to 54034\n",
      "Data columns (total 9 columns):\n",
      " #   Column           Non-Null Count  Dtype  \n",
      "---  ------           --------------  -----  \n",
      " 0   cap-diameter     54035 non-null  int64  \n",
      " 1   cap-shape        54035 non-null  int64  \n",
      " 2   gill-attachment  54035 non-null  int64  \n",
      " 3   gill-color       54035 non-null  int64  \n",
      " 4   stem-height      54035 non-null  float64\n",
      " 5   stem-width       54035 non-null  int64  \n",
      " 6   stem-color       54035 non-null  int64  \n",
      " 7   season           54035 non-null  float64\n",
      " 8   class            54035 non-null  int64  \n",
      "dtypes: float64(2), int64(7)\n",
      "memory usage: 3.7 MB\n"
     ]
    }
   ],
   "source": [
    "dataset = pd.read_csv('mushroom_cleaned.csv', sep=',')\n",
    "dataset.info()"
   ]
  },
  {
   "cell_type": "markdown",
   "metadata": {},
   "source": [
    "##### Data treatment common for each model"
   ]
  },
  {
   "cell_type": "code",
   "execution_count": 86,
   "metadata": {},
   "outputs": [],
   "source": [
    "categorical_cols = ['cap-diameter','cap-shape', 'gill-attachment', 'gill-color', 'stem-width', 'stem-color']\n",
    "continuous_cols = ['stem-height', 'season']\n",
    "label_col = 'class'\n",
    "#\n",
    "labelEncodersTabTransformer = {}\n",
    "#\n",
    "for col in categorical_cols: \n",
    "    le = LabelEncoder();\n",
    "    dataset[col] = le.fit_transform(dataset[col])\n",
    "    labelEncodersTabTransformer[col] = le\n",
    "# Split data into 'data' and 'labels'\n",
    "X = dataset.drop(label_col, axis=1)\n",
    "y = dataset[label_col]\n",
    "# Split into training and testing\n",
    "X_train, X_test, y_train, y_test = train_test_split(X, y, test_size=0.2, random_state=42)\n",
    "# Separate categorical and continous features\n",
    "X_train_cat =   X_train[categorical_cols].values\n",
    "X_train_cont =  X_train[continuous_cols].values\n",
    "#\n",
    "X_test_cat =    X_test[categorical_cols].values\n",
    "X_test_cont =   X_test[continuous_cols].values\n",
    "#\n",
    "# Convert to PyTorch Tensors\n",
    "X_train_cat_tensor =    torch.tensor(X_train_cat,       dtype=torch.long)\n",
    "X_train_cont_tensor =   torch.tensor(X_train_cont,      dtype=torch.float)\n",
    "y_train_tensor =        torch.tensor(y_train.values,    dtype=torch.float)\n",
    "# \n",
    "X_test_cat_tensor =     torch.tensor(X_test_cat, dtype=torch.long)\n",
    "X_test_cont_tensor =    torch.tensor(X_test_cont, dtype=torch.float)\n",
    "y_test_tensor =         torch.tensor(y_test.values, dtype=torch.float)"
   ]
  },
  {
   "cell_type": "markdown",
   "metadata": {},
   "source": [
    "### TabTransformer"
   ]
  },
  {
   "cell_type": "markdown",
   "metadata": {},
   "source": [
    "#### Define the model + Optimizer + Loss function"
   ]
  },
  {
   "cell_type": "code",
   "execution_count": 15,
   "metadata": {},
   "outputs": [],
   "source": [
    "# Parameters\n",
    "NUM_UNIQUE_CATEGORIES = [dataset[col].nunique() for col in categorical_cols]\n",
    "NUM_CONTINOUS  = len(continuous_cols)\n",
    "DIM = 32\n",
    "DIM_OUT = 1\n",
    "DEPTH = 6\n",
    "HEADS = 8\n",
    "ATTN_DROPOUT = .1\n",
    "FF_DROPOUT = .1"
   ]
  },
  {
   "cell_type": "code",
   "execution_count": 16,
   "metadata": {},
   "outputs": [],
   "source": [
    "modelTabTrans = TabTransformer(\n",
    "    categories=NUM_UNIQUE_CATEGORIES,\n",
    "    num_continuous=NUM_CONTINOUS,\n",
    "    dim=DIM,\n",
    "    dim_out=DIM_OUT,\n",
    "    depth=DEPTH,\n",
    "    heads=HEADS,\n",
    "    attn_dropout=ATTN_DROPOUT,\n",
    "    ff_dropout=FF_DROPOUT\n",
    ")"
   ]
  },
  {
   "cell_type": "code",
   "execution_count": 17,
   "metadata": {},
   "outputs": [],
   "source": [
    "# Optimizer + Loss function\n",
    "optimizer = torch.optim.Adam(modelTabTrans.parameters(), lr=1e-3)\n",
    "criterion = nn.BCEWithLogitsLoss()"
   ]
  },
  {
   "cell_type": "markdown",
   "metadata": {},
   "source": [
    "#### TabTransformer Train"
   ]
  },
  {
   "cell_type": "code",
   "execution_count": 18,
   "metadata": {},
   "outputs": [
    {
     "name": "stdout",
     "output_type": "stream",
     "text": [
      "Epoch 1, Loss: 0.7031704783439636\n",
      "Epoch 2, Loss: 0.7093916535377502\n",
      "Epoch 3, Loss: 0.6453656554222107\n",
      "Epoch 4, Loss: 0.6308826804161072\n",
      "Epoch 5, Loss: 0.6224784255027771\n",
      "Epoch 6, Loss: 0.5909332633018494\n",
      "Epoch 7, Loss: 0.5672847628593445\n",
      "Epoch 8, Loss: 0.5623806118965149\n",
      "Epoch 9, Loss: 0.5410106778144836\n",
      "Epoch 10, Loss: 0.5209521055221558\n",
      "Epoch 11, Loss: 0.5130075216293335\n",
      "Epoch 12, Loss: 0.49755892157554626\n",
      "Epoch 13, Loss: 0.4814178943634033\n",
      "Epoch 14, Loss: 0.4703806936740875\n",
      "Epoch 15, Loss: 0.4514971971511841\n"
     ]
    }
   ],
   "source": [
    "loss_TabTrans = [] # loss per epoch\n",
    "ini_time = time.time()\n",
    "modelTabTrans.train()\n",
    "for epoch in range(15):\n",
    "    optimizer.zero_grad()\n",
    "    output = modelTabTrans(X_train_cat_tensor, X_train_cont_tensor)\n",
    "    loss = criterion(output.squeeze(), y_train_tensor)\n",
    "    loss.backward()\n",
    "    optimizer.step()\n",
    "    loss_TabTrans.append(loss.item())\n",
    "    print(f'Epoch {epoch+1}, Loss: {loss.item()}')\n",
    "training_time_TabTransformer = time.time() - ini_time"
   ]
  },
  {
   "cell_type": "markdown",
   "metadata": {},
   "source": [
    "#### TabTransformer Evaluation"
   ]
  },
  {
   "cell_type": "code",
   "execution_count": 19,
   "metadata": {},
   "outputs": [
    {
     "name": "stdout",
     "output_type": "stream",
     "text": [
      "Test Loss: 0.4310368597507477\n",
      "Test Accuracy: 100.0000%\n",
      "Test AUC: 0.8836\n"
     ]
    }
   ],
   "source": [
    "modelTabTrans.eval()\n",
    "with torch.no_grad():\n",
    "    # Test Loss\n",
    "    test_output = modelTabTrans(X_test_cat_tensor, X_test_cont_tensor)\n",
    "    test_loss = criterion(test_output.squeeze(), y_test_tensor)\n",
    "    print(f'Test Loss: {test_loss.item()}')\n",
    "    # Accuracy\n",
    "    test_preds = torch.sigmoid(test_output).squeeze().round()\n",
    "    accuracy = accuracy_score(y_test_tensor.numpy(), y_test_tensor)\n",
    "    print(f'Test Accuracy: {accuracy * 100:.4f}%')\n",
    "    # AUC\n",
    "    test_probs = torch.sigmoid(test_output).squeeze().numpy()\n",
    "    fpr_tabtrans, tpr_tabtrans, _ = roc_curve(y_test, test_probs)\n",
    "    roc_auc_tabtrns = roc_auc_score(y_test, test_probs)\n",
    "    print(f'Test AUC: {roc_auc_tabtrns:.4f}')"
   ]
  },
  {
   "cell_type": "markdown",
   "metadata": {},
   "source": [
    "Guardamos todo en el diccionario resultados"
   ]
  },
  {
   "cell_type": "code",
   "execution_count": 20,
   "metadata": {},
   "outputs": [],
   "source": [
    "results['Model'].append('TabTransformer')\n",
    "results['Training Time (s)'].append(training_time_TabTransformer)\n",
    "results['Test Accuracy'].append(accuracy)\n",
    "results['AUC'].append(roc_auc_tabtrns)"
   ]
  },
  {
   "cell_type": "markdown",
   "metadata": {},
   "source": [
    "### TF-Transformer\n",
    "\n",
    "No tenemos una implementación directa de TF-Transformer en PyTorch o Skleaern."
   ]
  },
  {
   "cell_type": "markdown",
   "metadata": {},
   "source": [
    "### SAINT"
   ]
  },
  {
   "cell_type": "markdown",
   "metadata": {},
   "source": [
    "Importamos SAINT desde nuestra fuente de librerías, si no está descargar la librería desde :\n",
    "*git clone https://github.com/somepago/saint*"
   ]
  },
  {
   "cell_type": "markdown",
   "metadata": {},
   "source": [
    "No podemos probar el SAINT ya que es una librería generada para la ejecución de entrenamientos y testeos de modelos tipo SAINT por comando usando aceleración por GPU y no dispongo de los núcleos CUDA suficientes para que sea verdaderamente efectivo"
   ]
  },
  {
   "cell_type": "markdown",
   "metadata": {},
   "source": [
    "### TabNet"
   ]
  },
  {
   "cell_type": "code",
   "execution_count": 21,
   "metadata": {},
   "outputs": [],
   "source": [
    "from pytorch_tabnet.tab_model import TabNetClassifier"
   ]
  },
  {
   "cell_type": "code",
   "execution_count": 22,
   "metadata": {},
   "outputs": [
    {
     "name": "stderr",
     "output_type": "stream",
     "text": [
      "/Users/alejandro/Documents/Repositorios/alejandromadrid/.python-venv/lib/python3.9/site-packages/pytorch_tabnet/abstract_model.py:82: UserWarning: Device used : cpu\n",
      "  warnings.warn(f\"Device used : {self.device}\")\n"
     ]
    }
   ],
   "source": [
    "modelTabNet = TabNetClassifier(\n",
    "    n_d= 32, n_a=32, n_steps=5, gamma=1.5, n_independent=2, n_shared=2,\n",
    "    cat_idxs=[i for i in range(len(categorical_cols))],\n",
    "    cat_dims=[dataset[col].nunique() for col in categorical_cols],\n",
    "    cat_emb_dim=1,\n",
    "    optimizer_fn=torch.optim.Adam,\n",
    "    optimizer_params=dict(lr=2e-2),\n",
    "    scheduler_params={\"step_size\":10, \"gamma\":0.9},\n",
    "    scheduler_fn=torch.optim.lr_scheduler.StepLR,\n",
    "    mask_type='sparsemax'\n",
    ")"
   ]
  },
  {
   "cell_type": "code",
   "execution_count": 23,
   "metadata": {},
   "outputs": [
    {
     "name": "stderr",
     "output_type": "stream",
     "text": [
      "/Users/alejandro/Documents/Repositorios/alejandromadrid/.python-venv/lib/python3.9/site-packages/pytorch_tabnet/abstract_model.py:687: UserWarning: No early stopping will be performed, last training weights will be used.\n",
      "  warnings.warn(wrn_msg)\n"
     ]
    },
    {
     "name": "stdout",
     "output_type": "stream",
     "text": [
      "epoch 0  | loss: 0.70732 | test_auc: 0.63611 |  0:00:05s\n",
      "epoch 1  | loss: 0.59771 | test_auc: 0.71279 |  0:00:09s\n",
      "epoch 2  | loss: 0.55356 | test_auc: 0.79524 |  0:00:13s\n",
      "epoch 3  | loss: 0.53332 | test_auc: 0.82095 |  0:00:17s\n",
      "epoch 4  | loss: 0.48863 | test_auc: 0.86548 |  0:00:21s\n",
      "epoch 5  | loss: 0.45256 | test_auc: 0.88555 |  0:00:26s\n",
      "epoch 6  | loss: 0.42428 | test_auc: 0.90558 |  0:00:31s\n",
      "epoch 7  | loss: 0.40643 | test_auc: 0.8989  |  0:00:36s\n",
      "epoch 8  | loss: 0.39537 | test_auc: 0.91399 |  0:00:40s\n",
      "epoch 9  | loss: 0.3986  | test_auc: 0.91976 |  0:00:45s\n",
      "Test Accuracy: 83.11%\n",
      "Test AUC: 0.92\n"
     ]
    }
   ],
   "source": [
    "start_time = time.time()\n",
    "modelTabNet.fit(\n",
    "    X_train=np.hstack([X_train_cat, X_train_cont]),\n",
    "    y_train=y_train.values,\n",
    "    eval_set=[(np.hstack([X_test_cat, X_test_cont]), y_test.values)],\n",
    "    eval_name=['test'],\n",
    "    eval_metric=['auc'],\n",
    "    max_epochs=10,\n",
    "    patience=0,\n",
    "    batch_size=1024,\n",
    "    virtual_batch_size=128\n",
    ")\n",
    "training_time_tabnet = time.time() - start_time\n",
    "\n",
    "test_probs = modelTabNet.predict_proba(np.hstack([X_test_cat, X_test_cont]))[:, 1]\n",
    "test_preds = (test_probs > 0.5).astype(int)\n",
    "accuracy_tabnet = accuracy_score(y_test, test_preds)\n",
    "print(f'Test Accuracy: {accuracy_tabnet * 100:.2f}%')\n",
    "\n",
    "fpr_tabnet, tpr_tabnet, _ = roc_curve(y_test, test_probs)\n",
    "roc_auc_tabnet = roc_auc_score(y_test, test_probs)\n",
    "print(f'Test AUC: {roc_auc_tabnet:.2f}')"
   ]
  },
  {
   "cell_type": "markdown",
   "metadata": {},
   "source": [
    "Guardamos todo en el diccionario"
   ]
  },
  {
   "cell_type": "code",
   "execution_count": 25,
   "metadata": {},
   "outputs": [],
   "source": [
    "results['Model'].append('TabNet')\n",
    "results['Training Time (s)'].append(training_time_tabnet)\n",
    "results['Test Accuracy'].append(accuracy_tabnet)\n",
    "results['AUC'].append(roc_auc_tabnet)"
   ]
  },
  {
   "cell_type": "markdown",
   "metadata": {},
   "source": [
    "### Conclusiones\n",
    "\n",
    "Como no he podido usar los 4 métodos más usados seguiré la lista para hacer una comparación de mínimo 4 métodos."
   ]
  },
  {
   "cell_type": "markdown",
   "metadata": {},
   "source": []
  },
  {
   "cell_type": "markdown",
   "metadata": {},
   "source": [
    "### LightGMB"
   ]
  },
  {
   "cell_type": "markdown",
   "metadata": {},
   "source": [
    "Es un algoritmo de alto rendimiento basado en el boosting. Este es un algoritmo conocido por la eficiencia en el entrenamiento"
   ]
  },
  {
   "cell_type": "markdown",
   "metadata": {},
   "source": [
    "Este algoritmo no me deja ejecutarlo en macOS por problemas que desconozco y la alterativa es ejecutar en Windows o usar contenedores Docker."
   ]
  },
  {
   "cell_type": "markdown",
   "metadata": {},
   "source": [
    "### CatBoost"
   ]
  },
  {
   "cell_type": "markdown",
   "metadata": {},
   "source": [
    "Es un algoritmo que usa el boosting de gradiente desarrollado por Yandex. Se destaca por manejar automáticamente variables categóricas y tiene un buen rendimiento con datos tabulares."
   ]
  },
  {
   "cell_type": "code",
   "execution_count": 27,
   "metadata": {},
   "outputs": [],
   "source": [
    "from catboost import CatBoostClassifier"
   ]
  },
  {
   "cell_type": "markdown",
   "metadata": {},
   "source": [
    "#### Configuramos el modelo"
   ]
  },
  {
   "cell_type": "code",
   "execution_count": 28,
   "metadata": {},
   "outputs": [],
   "source": [
    "modelCatBoost = CatBoostClassifier (\n",
    "    iterations=100,\n",
    "    learning_rate=.05,\n",
    "    depth=6,\n",
    "    eval_metric='AUC',\n",
    "    verbose=10,\n",
    "    cat_features=categorical_cols\n",
    ")\n"
   ]
  },
  {
   "cell_type": "markdown",
   "metadata": {},
   "source": [
    "#### Entrenamos el modelo"
   ]
  },
  {
   "cell_type": "code",
   "execution_count": 29,
   "metadata": {},
   "outputs": [
    {
     "name": "stdout",
     "output_type": "stream",
     "text": [
      "0:\ttest: 0.8157660\tbest: 0.8157660 (0)\ttotal: 28ms\tremaining: 2.77s\n",
      "10:\ttest: 0.8622404\tbest: 0.8622404 (10)\ttotal: 117ms\tremaining: 944ms\n",
      "20:\ttest: 0.8850844\tbest: 0.8850844 (20)\ttotal: 190ms\tremaining: 714ms\n",
      "30:\ttest: 0.9007778\tbest: 0.9007778 (30)\ttotal: 262ms\tremaining: 583ms\n",
      "40:\ttest: 0.9115564\tbest: 0.9115564 (40)\ttotal: 333ms\tremaining: 479ms\n",
      "50:\ttest: 0.9190101\tbest: 0.9190101 (50)\ttotal: 412ms\tremaining: 396ms\n",
      "60:\ttest: 0.9249647\tbest: 0.9249647 (60)\ttotal: 500ms\tremaining: 319ms\n",
      "70:\ttest: 0.9328259\tbest: 0.9328259 (70)\ttotal: 589ms\tremaining: 241ms\n",
      "80:\ttest: 0.9383811\tbest: 0.9383811 (80)\ttotal: 675ms\tremaining: 158ms\n",
      "90:\ttest: 0.9425015\tbest: 0.9425015 (90)\ttotal: 752ms\tremaining: 74.4ms\n",
      "99:\ttest: 0.9454913\tbest: 0.9454913 (99)\ttotal: 822ms\tremaining: 0us\n",
      "\n",
      "bestTest = 0.9454913263\n",
      "bestIteration = 99\n",
      "\n"
     ]
    }
   ],
   "source": [
    "start_time = time.time()\n",
    "modelCatBoost.fit(X_train, y_train, eval_set=(X_test, y_test), early_stopping_rounds=10)\n",
    "training_time_catboost = time.time() - start_time"
   ]
  },
  {
   "cell_type": "markdown",
   "metadata": {},
   "source": [
    "#### Predicción y evaluación"
   ]
  },
  {
   "cell_type": "code",
   "execution_count": 30,
   "metadata": {},
   "outputs": [
    {
     "name": "stdout",
     "output_type": "stream",
     "text": [
      "Test Accuracy: 85.9998\n",
      "Test AUC: 0.9455\n"
     ]
    }
   ],
   "source": [
    "test_preds = modelCatBoost.predict_proba(X_test)[:,1]\n",
    "test_preds_binary = (test_preds > .5).astype(int)\n",
    "accuracy_catboost = accuracy_score(y_test, test_preds_binary)\n",
    "print(f'Test Accuracy: {accuracy_catboost * 100:.4f}')\n",
    "#\n",
    "fpr_catboost, tpr_catboost, _ = roc_curve(y_test, test_preds)\n",
    "roc_auc_catboost = roc_auc_score(y_test, test_preds)\n",
    "print(f'Test AUC: {roc_auc_catboost:.4f}')"
   ]
  },
  {
   "cell_type": "markdown",
   "metadata": {},
   "source": [
    "Guardamos todo en results"
   ]
  },
  {
   "cell_type": "code",
   "execution_count": 31,
   "metadata": {},
   "outputs": [],
   "source": [
    "results['Model'].append('CatBoost')\n",
    "results['Training Time (s)'].append(training_time_catboost)\n",
    "results['Test Accuracy'].append(accuracy_catboost)\n",
    "results['AUC'].append(roc_auc_catboots)"
   ]
  },
  {
   "cell_type": "markdown",
   "metadata": {},
   "source": [
    "### XGBoost"
   ]
  },
  {
   "cell_type": "markdown",
   "metadata": {},
   "source": [
    "El XGBoost es un modelo optimizado para el aprendizaje en árboles de decisión."
   ]
  },
  {
   "cell_type": "code",
   "execution_count": 77,
   "metadata": {},
   "outputs": [],
   "source": [
    "import xgboost as xbg"
   ]
  },
  {
   "cell_type": "markdown",
   "metadata": {},
   "source": [
    "#### Preprocess para XGBoost"
   ]
  },
  {
   "cell_type": "code",
   "execution_count": 91,
   "metadata": {},
   "outputs": [],
   "source": [
    "dtrain =    xbg.DMatrix(X_train, label=y_train)\n",
    "dtest =     xbg.DMatrix(X_test, label=y_test)"
   ]
  },
  {
   "cell_type": "markdown",
   "metadata": {},
   "source": [
    "#### Configuración de modelo"
   ]
  },
  {
   "cell_type": "code",
   "execution_count": 92,
   "metadata": {},
   "outputs": [],
   "source": [
    "params = {\n",
    "    'objective': 'binary:logistic',\n",
    "    'eval_metric': 'logloss',\n",
    "    'eta': 0.05,\n",
    "    'max_depth': 6\n",
    "}"
   ]
  },
  {
   "cell_type": "code",
   "execution_count": 90,
   "metadata": {},
   "outputs": [
    {
     "data": {
      "text/plain": [
       "((43228, 8), (10807, 8), (43228,), (10807,))"
      ]
     },
     "execution_count": 90,
     "metadata": {},
     "output_type": "execute_result"
    }
   ],
   "source": [
    "X_train.shape, X_test.shape, y_train.shape, y_test.shape"
   ]
  },
  {
   "cell_type": "markdown",
   "metadata": {},
   "source": [
    "#### Entrenamiento del modelo"
   ]
  },
  {
   "cell_type": "code",
   "execution_count": 93,
   "metadata": {},
   "outputs": [
    {
     "name": "stdout",
     "output_type": "stream",
     "text": [
      "[0]\teval-logloss:0.67187\n",
      "[1]\teval-logloss:0.65623\n",
      "[2]\teval-logloss:0.64146\n",
      "[3]\teval-logloss:0.62704\n",
      "[4]\teval-logloss:0.61461\n",
      "[5]\teval-logloss:0.60167\n",
      "[6]\teval-logloss:0.58999\n",
      "[7]\teval-logloss:0.57763\n",
      "[8]\teval-logloss:0.56696\n",
      "[9]\teval-logloss:0.55324\n",
      "[10]\teval-logloss:0.54317\n",
      "[11]\teval-logloss:0.53229\n",
      "[12]\teval-logloss:0.52447\n",
      "[13]\teval-logloss:0.51285\n",
      "[14]\teval-logloss:0.50206\n",
      "[15]\teval-logloss:0.49234\n",
      "[16]\teval-logloss:0.48669\n",
      "[17]\teval-logloss:0.47926\n",
      "[18]\teval-logloss:0.47227\n",
      "[19]\teval-logloss:0.46424\n",
      "[20]\teval-logloss:0.45786\n",
      "[21]\teval-logloss:0.45005\n",
      "[22]\teval-logloss:0.44383\n",
      "[23]\teval-logloss:0.43669\n",
      "[24]\teval-logloss:0.43075\n",
      "[25]\teval-logloss:0.42516\n",
      "[26]\teval-logloss:0.41991\n",
      "[27]\teval-logloss:0.41255\n",
      "[28]\teval-logloss:0.40787\n",
      "[29]\teval-logloss:0.40350\n",
      "[30]\teval-logloss:0.39693\n",
      "[31]\teval-logloss:0.39266\n",
      "[32]\teval-logloss:0.38860\n",
      "[33]\teval-logloss:0.38240\n",
      "[34]\teval-logloss:0.37805\n",
      "[35]\teval-logloss:0.37435\n",
      "[36]\teval-logloss:0.37092\n",
      "[37]\teval-logloss:0.36764\n",
      "[38]\teval-logloss:0.36211\n",
      "[39]\teval-logloss:0.35760\n",
      "[40]\teval-logloss:0.35334\n",
      "[41]\teval-logloss:0.35066\n",
      "[42]\teval-logloss:0.34780\n",
      "[43]\teval-logloss:0.34497\n",
      "[44]\teval-logloss:0.34221\n",
      "[45]\teval-logloss:0.33978\n",
      "[46]\teval-logloss:0.33438\n",
      "[47]\teval-logloss:0.33174\n",
      "[48]\teval-logloss:0.32943\n",
      "[49]\teval-logloss:0.32510\n",
      "[50]\teval-logloss:0.32303\n",
      "[51]\teval-logloss:0.32136\n",
      "[52]\teval-logloss:0.31930\n",
      "[53]\teval-logloss:0.31537\n",
      "[54]\teval-logloss:0.31406\n",
      "[55]\teval-logloss:0.31120\n",
      "[56]\teval-logloss:0.30749\n",
      "[57]\teval-logloss:0.30584\n",
      "[58]\teval-logloss:0.30126\n",
      "[59]\teval-logloss:0.29937\n",
      "[60]\teval-logloss:0.29806\n",
      "[61]\teval-logloss:0.29409\n",
      "[62]\teval-logloss:0.29143\n",
      "[63]\teval-logloss:0.29008\n",
      "[64]\teval-logloss:0.28910\n",
      "[65]\teval-logloss:0.28595\n",
      "[66]\teval-logloss:0.28355\n",
      "[67]\teval-logloss:0.27924\n",
      "[68]\teval-logloss:0.27545\n",
      "[69]\teval-logloss:0.27341\n",
      "[70]\teval-logloss:0.27242\n",
      "[71]\teval-logloss:0.27066\n",
      "[72]\teval-logloss:0.26957\n",
      "[73]\teval-logloss:0.26854\n",
      "[74]\teval-logloss:0.26642\n",
      "[75]\teval-logloss:0.26546\n",
      "[76]\teval-logloss:0.26231\n",
      "[77]\teval-logloss:0.25896\n",
      "[78]\teval-logloss:0.25723\n",
      "[79]\teval-logloss:0.25523\n",
      "[80]\teval-logloss:0.25436\n",
      "[81]\teval-logloss:0.25147\n",
      "[82]\teval-logloss:0.24965\n",
      "[83]\teval-logloss:0.24836\n",
      "[84]\teval-logloss:0.24761\n",
      "[85]\teval-logloss:0.24487\n",
      "[86]\teval-logloss:0.24408\n",
      "[87]\teval-logloss:0.24194\n",
      "[88]\teval-logloss:0.23917\n",
      "[89]\teval-logloss:0.23855\n",
      "[90]\teval-logloss:0.23656\n",
      "[91]\teval-logloss:0.23239\n",
      "[92]\teval-logloss:0.23070\n",
      "[93]\teval-logloss:0.22944\n",
      "[94]\teval-logloss:0.22777\n",
      "[95]\teval-logloss:0.22710\n",
      "[96]\teval-logloss:0.22480\n",
      "[97]\teval-logloss:0.22315\n",
      "[98]\teval-logloss:0.22166\n",
      "[99]\teval-logloss:0.22117\n"
     ]
    }
   ],
   "source": [
    "start_time = time.time()\n",
    "modelXGB = xbg.train(params, dtrain, num_boost_round=100, evals=[(dtest, 'eval')], early_stopping_rounds=10)\n",
    "training_time_xbg = time.time() - start_time"
   ]
  },
  {
   "cell_type": "markdown",
   "metadata": {},
   "source": [
    "#### Predicción y evaluación"
   ]
  },
  {
   "cell_type": "code",
   "execution_count": 95,
   "metadata": {},
   "outputs": [],
   "source": [
    "# Accuracy\n",
    "test_preds_xgb = modelXGB.predict(dtest)\n",
    "test_preds_binary_xgb = (test_preds_xgb > .5).astype(int)\n",
    "accuracy_xgb = accuracy_score(y_test, test_preds_binary_xgb)\n",
    "# AUC score\n",
    "fpr_xgb, tpr_xgb, _ = roc_curve(y_test, test_preds_xgb)\n",
    "roc_auc_xgb = roc_auc_score(y_test, test_preds_xgb)"
   ]
  },
  {
   "cell_type": "markdown",
   "metadata": {},
   "source": [
    "Guardamos todo en el diccionario"
   ]
  },
  {
   "cell_type": "code",
   "execution_count": 96,
   "metadata": {},
   "outputs": [],
   "source": [
    "results['Model'].append('XGBoost')\n",
    "results['Training Time (s)'].append(training_time_xbg)\n",
    "results['Test Accuracy'].append(accuracy_xgb)\n",
    "results['AUC'].append(roc_auc_xgb)"
   ]
  },
  {
   "cell_type": "markdown",
   "metadata": {},
   "source": []
  },
  {
   "cell_type": "markdown",
   "metadata": {},
   "source": [
    "### Comparación de Resultados"
   ]
  },
  {
   "cell_type": "code",
   "execution_count": 100,
   "metadata": {},
   "outputs": [
    {
     "ename": "NameError",
     "evalue": "name 'tpr_argmax' is not defined",
     "output_type": "error",
     "traceback": [
      "\u001b[0;31m---------------------------------------------------------------------------\u001b[0m",
      "\u001b[0;31mNameError\u001b[0m                                 Traceback (most recent call last)",
      "Cell \u001b[0;32mIn[100], line 38\u001b[0m\n\u001b[1;32m     36\u001b[0m \u001b[38;5;66;03m#\u001b[39;00m\n\u001b[1;32m     37\u001b[0m axes[\u001b[38;5;241m0\u001b[39m][\u001b[38;5;241m3\u001b[39m]\u001b[38;5;241m.\u001b[39mplot(fpr_xgb, tpr_xgb, label\u001b[38;5;241m=\u001b[39m\u001b[38;5;124mf\u001b[39m\u001b[38;5;124m'\u001b[39m\u001b[38;5;124mSGBoost ROC Curve\u001b[39m\u001b[38;5;124m'\u001b[39m, color\u001b[38;5;241m=\u001b[39m\u001b[38;5;124m'\u001b[39m\u001b[38;5;124mred\u001b[39m\u001b[38;5;124m'\u001b[39m)\n\u001b[0;32m---> 38\u001b[0m axes[\u001b[38;5;241m0\u001b[39m][\u001b[38;5;241m3\u001b[39m]\u001b[38;5;241m.\u001b[39mscatter([fpr_xgb[np\u001b[38;5;241m.\u001b[39margmax(tpr_xgb)]], [\u001b[43mtpr_argmax\u001b[49m[np\u001b[38;5;241m.\u001b[39margmax(tpr_xgb)]], label\u001b[38;5;241m=\u001b[39m\u001b[38;5;124mf\u001b[39m\u001b[38;5;124m'\u001b[39m\u001b[38;5;124mXGBoost AUC=\u001b[39m\u001b[38;5;132;01m{\u001b[39;00mroc_auc_xgb\u001b[38;5;132;01m:\u001b[39;00m\u001b[38;5;124m.4f\u001b[39m\u001b[38;5;132;01m}\u001b[39;00m\u001b[38;5;124m'\u001b[39m, s\u001b[38;5;241m=\u001b[39m\u001b[38;5;241m100\u001b[39m, marker\u001b[38;5;241m=\u001b[39m\u001b[38;5;124m'\u001b[39m\u001b[38;5;124mo\u001b[39m\u001b[38;5;124m'\u001b[39m, color\u001b[38;5;241m=\u001b[39m\u001b[38;5;124m'\u001b[39m\u001b[38;5;124mred\u001b[39m\u001b[38;5;124m'\u001b[39m)\n\u001b[1;32m     39\u001b[0m \u001b[38;5;66;03m#\u001b[39;00m\n\u001b[1;32m     40\u001b[0m axes[\u001b[38;5;241m0\u001b[39m][\u001b[38;5;241m3\u001b[39m]\u001b[38;5;241m.\u001b[39mplot([\u001b[38;5;241m0\u001b[39m,\u001b[38;5;241m1\u001b[39m], [\u001b[38;5;241m0\u001b[39m,\u001b[38;5;241m1\u001b[39m], color\u001b[38;5;241m=\u001b[39m\u001b[38;5;124m'\u001b[39m\u001b[38;5;124mnavy\u001b[39m\u001b[38;5;124m'\u001b[39m, linestyle\u001b[38;5;241m=\u001b[39m\u001b[38;5;124m'\u001b[39m\u001b[38;5;124m--\u001b[39m\u001b[38;5;124m'\u001b[39m)\n",
      "\u001b[0;31mNameError\u001b[0m: name 'tpr_argmax' is not defined"
     ]
    },
    {
     "data": {
      "image/png": "[encoded data removed]",
      "text/plain": [
       "<Figure size 2000x1000 with 8 Axes>"
      ]
     },
     "metadata": {},
     "output_type": "display_data"
    }
   ],
   "source": [
    "colors = ['blue', 'orange', 'green', 'red', 'purple', 'yellow', 'brown', 'pink', 'black']\n",
    "colors_fit = [color for color in colors[:len(results['Model'])]] # Así solo usamos los colores que necesitamos\n",
    "#\n",
    "results_df = pd.DataFrame(results)\n",
    "\n",
    "# Ahora nos hacemos unas gráficas comparativas\n",
    "fig, axes = plt.subplots(2, 4, figsize=(20,10))\n",
    "\n",
    "# Tiempos de entrenamiento\n",
    "axes[0][0].bar(results_df['Model'], results_df['Training Time (s)'], color=colors_fit)\n",
    "axes[0][0].set_title('Trainig Time')\n",
    "axes[0][0].set_xlabel('Model')\n",
    "axes[0][0].set_ylabel('Time (s)')\n",
    "\n",
    "# Accuracy\n",
    "axes[0][1].bar(results_df['Model'], results_df['Test Accuracy'], color=colors_fit)\n",
    "axes[0][1].set_title('Test Accuracy')\n",
    "axes[0][1].set_xlabel('Model')\n",
    "axes[0][1].set_ylabel('Accuracy')\n",
    "\n",
    "# AUC\n",
    "axes[0][2].bar(results_df['Model'], results_df['AUC'], color=colors_fit)\n",
    "axes[0][2].set_title('Test AUC')\n",
    "axes[0][2].set_xlabel('Model')\n",
    "axes[0][2].set_ylabel('AUC')\n",
    "\n",
    "# Todas las ROC\n",
    "axes[0][3].plot(fpr_tabtrans, tpr_tabtrans, label=f'TabTransformer', color='blue')\n",
    "axes[0][3].scatter([fpr_tabtrans[np.argmax(tpr_tabtrans)]], [roc_auc_tabtrns], label=f'TabTransformer AUC={roc_auc_tabtrns:.4f}', s=100, marker='o', color='blue')\n",
    "#\n",
    "axes[0][3].plot(fpr_tabnet, tpr_tabnet, label=f'TabNet ROC Curve', color='orange')\n",
    "axes[0][3].scatter([fpr_tabnet[np.argmax(tpr_tabnet)]], [tpr_tabnet[np.argmax(tpr_tabnet)]], label=f'TabNet AUC={roc_auc_tabnet:.4f}', s=100, marker='o', color='orange')\n",
    "#\n",
    "axes[0][3].plot(fpr_catboost, tpr_catboost, label=f'CatBoost ROC Curve', color='green')\n",
    "axes[0][3].scatter([fpr_tabtrans[np.argmax(tpr_tabtrans)]], [tpr_tabtrans[np.argmax(tpr_tabtrans)]], label=f'TabTransformer AUC={roc_auc_tabtrns:.4f}', s=100, marker='o', color='green')\n",
    "#\n",
    "axes[0][3].plot(fpr_xgb, tpr_xgb, label=f'SGBoost ROC Curve', color='red')\n",
    "axes[0][3].scatter([fpr_xgb[np.argmax(tpr_xgb)]], [tpr_argmax[np.argmax(tpr_xgb)]], label=f'XGBoost AUC={roc_auc_xgb:.4f}', s=100, marker='o', color='red')\n",
    "#\n",
    "axes[0][3].plot([0,1], [0,1], color='navy', linestyle='--')\n",
    "axes[0][3].set_title('ROC Comparative')\n",
    "axes[0][3].legend(loc='lower right')\n",
    "\n",
    "# Curvas ROC \n",
    "# TabTransformer\n",
    "axes[1][0].plot(fpr_tabtrans, tpr_tabtrans, label=f'TabTransformer ROC Curve')\n",
    "axes[1][0].plot([0,1], [0,1], color='navy', linestyle='--')\n",
    "axes[1][0].scatter([fpr_tabtrans[np.argmax(tpr_tabtrans)]], [tpr_tabtrans[np.argmax(tpr_tabtrans)]], label=f'TabTransformer AUC={roc_auc_tabtrns:.4f}', s=100, marker='o', color='red')\n",
    "axes[1][0].set_title(f'ROC Curve for TabTransformer AUC={roc_auc_tabtrns:.4f}')\n",
    "axes[1][0].legend(loc='lower right')\n",
    "# TabNet\n",
    "axes[1][1].plot(fpr_tabnet, tpr_tabnet, label=f'TabNet ROC Curve')\n",
    "axes[1][1].scatter([fpr_tabnet[np.argmax(tpr_tabnet)]], [tpr_tabnet[np.argmax(tpr_tabnet)]], label=f'TabNet AUC={roc_auc_tabnet:.4f}', s=100, marker='o', color='red')\n",
    "axes[1][1].plot([0,1], [0,1], color='navy', linestyle='--')\n",
    "axes[1][1].set_title(f'ROC Curve for TabNet AUC={roc_auc_tabnet:.4f}')\n",
    "axes[1][1].legend(loc='lower right')\n",
    "# CatBoost\n",
    "axes[1][2].plot(fpr_catboost, tpr_catboost, label=f'CatBoost ROC Curve')\n",
    "axes[1][2].plot([0,1], [0,1], color='navy', linestyle='--')\n",
    "axes[1][2].scatter([fpr_catboost[np.argmax(tpr_catboost)]], [tpr_catboost[np.argmax(tpr_argmax)]], label=f'CatBoost AUC={roc_auc_catboost:.4f}', s=100, marker='o', color='red')\n",
    "axes[1][2].set_title(f'ROC Curve for CatBoost AUC={roc_auc_catboost:.4f}')\n",
    "axes[1][2].legend(loc='lower right')\n",
    "# XGBoost\n",
    "axes[1][3].plot(fpr_xgb, tpr_xgb, label=f'SGBoost ROC Curve')\n",
    "axes[1][3].plot([0,1], [0,1], color='navy', linestyle='--')\n",
    "axes[1][3].scatter([fpr_xgb[np.argmax(tpr_xgb)]], [tpr_argmax[np.argmax(tpr_xgb)]], label=f'XGBoost AUC={roc_auc_xgb:.4f}', s=100, marker='o', color='red')\n",
    "axes[1][3].set_title(f'ROC Curve for XGBoost AUC={roc_auc_xgb:.4f}')\n",
    "axes[1][3].legend(loc='lower right')\n",
    "\n",
    "plt.tight_layout()\n",
    "plt.show()"
   ]
  },
  {
   "cell_type": "code",
   "execution_count": null,
   "metadata": {},
   "outputs": [],
   "source": []
  }
 ],
 "metadata": {
  "kernelspec": {
   "display_name": ".python-venv",
   "language": "python",
   "name": "python3"
  },
  "language_info": {
   "codemirror_mode": {
    "name": "ipython",
    "version": 3
   },
   "file_extension": ".py",
   "mimetype": "text/x-python",
   "name": "python",
   "nbconvert_exporter": "python",
   "pygments_lexer": "ipython3",
   "version": "3.9.6"
  }
 },
 "nbformat": 4,
 "nbformat_minor": 2
}
