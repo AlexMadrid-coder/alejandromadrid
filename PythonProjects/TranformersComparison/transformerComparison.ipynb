{
 "cells": [
  {
   "cell_type": "markdown",
   "metadata": {},
   "source": [
    "###  Comparison between best Deep Learning Models for Tabular data  using *mushroom_cleaned* dataset\n",
    "\n",
    "I'm going to use these models:\n",
    "- #### TabNet\n",
    "- #### TabTransforner\n",
    "- #### SAINT\n",
    "- #### TF-Transformer\n",
    "\n",
    "For each model I will get the execution time, loss, Test  Accuracy and their parameters archiving a minimum of .85 in val accuracy.\n",
    "\n",
    "Every model have a training-testing size --> 80-20 with a random_seed=42, an *ADAM optimizer* and a *BCEWwithLogistLoss loss function*"
   ]
  },
  {
   "cell_type": "markdown",
   "metadata": {},
   "source": [
    "#### Imports"
   ]
  },
  {
   "cell_type": "code",
   "execution_count": 1,
   "metadata": {},
   "outputs": [],
   "source": [
    "import numpy as np\n",
    "import pandas as pd\n",
    "import time\n",
    "# Preprocessing \n",
    "from sklearn.model_selection import train_test_split\n",
    "from sklearn.preprocessing import LabelEncoder\n",
    "#\n",
    "import torch\n",
    "import torch.nn as nn\n",
    "# Models\n",
    "from tab_transformer_pytorch import TabTransformer\n",
    "# Metrics\n",
    "from sklearn.metrics import accuracy_score, roc_auc_score, roc_curve"
   ]
  },
  {
   "cell_type": "code",
   "execution_count": 2,
   "metadata": {},
   "outputs": [],
   "source": [
    "time_Model = {}"
   ]
  },
  {
   "cell_type": "markdown",
   "metadata": {},
   "source": [
    "#### Load Data"
   ]
  },
  {
   "cell_type": "code",
   "execution_count": 3,
   "metadata": {},
   "outputs": [
    {
     "name": "stdout",
     "output_type": "stream",
     "text": [
      "<class 'pandas.core.frame.DataFrame'>\n",
      "RangeIndex: 54035 entries, 0 to 54034\n",
      "Data columns (total 9 columns):\n",
      " #   Column           Non-Null Count  Dtype  \n",
      "---  ------           --------------  -----  \n",
      " 0   cap-diameter     54035 non-null  int64  \n",
      " 1   cap-shape        54035 non-null  int64  \n",
      " 2   gill-attachment  54035 non-null  int64  \n",
      " 3   gill-color       54035 non-null  int64  \n",
      " 4   stem-height      54035 non-null  float64\n",
      " 5   stem-width       54035 non-null  int64  \n",
      " 6   stem-color       54035 non-null  int64  \n",
      " 7   season           54035 non-null  float64\n",
      " 8   class            54035 non-null  int64  \n",
      "dtypes: float64(2), int64(7)\n",
      "memory usage: 3.7 MB\n"
     ]
    }
   ],
   "source": [
    "dataset = pd.read_csv('mushroom_cleaned.csv', sep=',')\n",
    "dataset.info()"
   ]
  },
  {
   "cell_type": "markdown",
   "metadata": {},
   "source": [
    "##### Data treatment common for each model"
   ]
  },
  {
   "cell_type": "code",
   "execution_count": 4,
   "metadata": {},
   "outputs": [],
   "source": [
    "categorical_cols = ['cap-diameter','cap-shape', 'gill-attachment', 'gill-color', 'stem-width', 'stem-color']\n",
    "continuous_cols = ['stem-height', 'season']\n",
    "label_col = 'class'\n",
    "#\n",
    "labelEncodersTabTransformer = {}\n",
    "#\n",
    "for col in categorical_cols: \n",
    "    le = LabelEncoder();\n",
    "    dataset[col] = le.fit_transform(dataset[col])\n",
    "    labelEncodersTabTransformer[col] = le\n",
    "# Split data into 'data' and 'labels'\n",
    "X = dataset.drop(label_col, axis=1)\n",
    "y = dataset[label_col]\n",
    "# Split into training and testing\n",
    "X_train, X_test, y_train, y_test = train_test_split(X, y, test_size=0.2, random_state=42)\n",
    "# Separate categorical and continous features\n",
    "X_train_cat =   X_train[categorical_cols].values\n",
    "X_train_cont =  X_train[continuous_cols].values\n",
    "#\n",
    "X_test_cat =    X_test[categorical_cols].values\n",
    "X_test_cont =   X_test[continuous_cols].values\n",
    "#\n",
    "# Convert to PyTorch Tensors\n",
    "X_train_cat_tensor =    torch.tensor(X_train_cat,       dtype=torch.long)\n",
    "X_train_cont_tensor =   torch.tensor(X_train_cont,      dtype=torch.float)\n",
    "y_train_tensor =        torch.tensor(y_train.values,    dtype=torch.float)\n",
    "# \n",
    "X_test_cat_tensor =     torch.tensor(X_test_cat, dtype=torch.long)\n",
    "X_test_cont_tensor =    torch.tensor(X_test_cont, dtype=torch.float)\n",
    "y_test_tensor =         torch.tensor(y_test.values, dtype=torch.float)"
   ]
  },
  {
   "cell_type": "markdown",
   "metadata": {},
   "source": [
    "### TabTransformer"
   ]
  },
  {
   "cell_type": "markdown",
   "metadata": {},
   "source": [
    "#### Define the model + Optimizer + Loss function"
   ]
  },
  {
   "cell_type": "code",
   "execution_count": null,
   "metadata": {},
   "outputs": [],
   "source": [
    "# Parameters\n",
    "NUM_UNIQUE_CATEGORIES = [dataset[col].nunique() for col in categorical_cols]\n",
    "NUM_CONTINOUS  = len(continuous_cols)\n",
    "DIM = 32\n",
    "DIM_OUT = 1\n",
    "DEPTH = 6\n",
    "HEADS = 8\n",
    "ATTN_DROPOUT = .1\n",
    "FF_DROPOUT = .1"
   ]
  },
  {
   "cell_type": "code",
   "execution_count": null,
   "metadata": {},
   "outputs": [],
   "source": [
    "modelTabTrans = TabTransformer(\n",
    "    categories=NUM_UNIQUE_CATEGORIES,\n",
    "    num_continuous=NUM_CONTINOUS,\n",
    "    dim=DIM,\n",
    "    dim_out=DIM_OUT,\n",
    "    depth=DEPTH,\n",
    "    heads=HEADS,\n",
    "    attn_dropout=ATTN_DROPOUT,\n",
    "    ff_dropout=FF_DROPOUT\n",
    ")"
   ]
  },
  {
   "cell_type": "code",
   "execution_count": null,
   "metadata": {},
   "outputs": [],
   "source": [
    "# Optimizer + Loss function\n",
    "optimizer = torch.optim.Adam(modelTabTrans.parameters(), lr=1e-3)\n",
    "criterion = nn.BCEWithLogitsLoss()"
   ]
  },
  {
   "cell_type": "markdown",
   "metadata": {},
   "source": [
    "#### TabTransformer Train"
   ]
  },
  {
   "cell_type": "code",
   "execution_count": null,
   "metadata": {},
   "outputs": [],
   "source": [
    "loss_TabTrans = [] # loss per epoch\n",
    "ini_time = time.time()\n",
    "modelTabTrans.train()\n",
    "for epoch in range(15):\n",
    "    optimizer.zero_grad()\n",
    "    output = modelTabTrans(X_train_cat_tensor, X_train_cont_tensor)\n",
    "    loss = criterion(output.squeeze(), y_train_tensor)\n",
    "    loss.backward()\n",
    "    optimizer.step()\n",
    "    loss_TabTrans.append(loss.item())\n",
    "    print(f'Epoch {epoch+1}, Loss: {loss.item()}')\n",
    "time_Model['TabTransformer'] = time.time() - ini_time"
   ]
  },
  {
   "cell_type": "markdown",
   "metadata": {},
   "source": [
    "#### TabTransformer Evaluation"
   ]
  },
  {
   "cell_type": "code",
   "execution_count": null,
   "metadata": {},
   "outputs": [],
   "source": [
    "modelTabTrans.eval()\n",
    "with torch.no_grad():\n",
    "    # Test Loss\n",
    "    test_output = modelTabTrans(X_test_cat_tensor, X_test_cont_tensor)\n",
    "    test_loss = criterion(test_output.squeeze(), y_test_tensor)\n",
    "    print(f'Test Loss: {test_loss.item()}')\n",
    "    # Accuracy\n",
    "    test_preds = torch.sigmoid(test_output).squeeze().round()\n",
    "    accuracy = accuracy_score(y_test_tensor.numpy(), y_test_tensor)\n",
    "    print(f'Test Accuracy: {accuracy * 100:.4f}%')"
   ]
  },
  {
   "cell_type": "markdown",
   "metadata": {},
   "source": [
    "### TF-Transformer\n",
    "\n",
    "No tenemos una implementación directa de TF-Transformer en PyTorch o Skleaern."
   ]
  },
  {
   "cell_type": "markdown",
   "metadata": {},
   "source": [
    "### SAINT"
   ]
  },
  {
   "cell_type": "markdown",
   "metadata": {},
   "source": [
    "Importamos SAINT desde nuestra fuente de librerías, si no está descargar la librería desde :\n",
    "*git clone https://github.com/somepago/saint*"
   ]
  },
  {
   "cell_type": "markdown",
   "metadata": {},
   "source": [
    "No podemos probar el SAINT ya que es una librería generada para la ejecución de entrenamientos y testeos de modelos tipo SAINT por comando usando aceleración por GPU y no dispongo de los núcleos CUDA suficientes para que sea verdaderamente efectivo"
   ]
  },
  {
   "cell_type": "markdown",
   "metadata": {},
   "source": [
    "### TabNet"
   ]
  },
  {
   "cell_type": "code",
   "execution_count": 13,
   "metadata": {},
   "outputs": [],
   "source": [
    "from pytorch_tabnet.tab_model import TabNetClassifier"
   ]
  },
  {
   "cell_type": "code",
   "execution_count": 15,
   "metadata": {},
   "outputs": [
    {
     "name": "stderr",
     "output_type": "stream",
     "text": [
      "/Users/alejandro/Documents/Repositorios/alejandromadrid/.python-venv/lib/python3.9/site-packages/pytorch_tabnet/abstract_model.py:82: UserWarning: Device used : cpu\n",
      "  warnings.warn(f\"Device used : {self.device}\")\n"
     ]
    }
   ],
   "source": [
    "modelTabNet = TabNetClassifier(\n",
    "    n_d= 32, n_a=32, n_steps=5, gamma=1.5, n_independent=2, n_shared=2,\n",
    "    cat_idxs=[i for i in range(len(categorical_cols))],\n",
    "    cat_dims=[dataset[col].nunique() for col in categorical_cols],\n",
    "    cat_emb_dim=1,\n",
    "    optimizer_fn=torch.optim.Adam,\n",
    "    optimizer_params=dict(lr=2e-2),\n",
    "    scheduler_params={\"step_size\":10, \"gamma\":0.9},\n",
    "    scheduler_fn=torch.optim.lr_scheduler.StepLR,\n",
    "    mask_type='sparsemax'\n",
    ")"
   ]
  },
  {
   "cell_type": "code",
   "execution_count": 17,
   "metadata": {},
   "outputs": [
    {
     "name": "stderr",
     "output_type": "stream",
     "text": [
      "/Users/alejandro/Documents/Repositorios/alejandromadrid/.python-venv/lib/python3.9/site-packages/pytorch_tabnet/abstract_model.py:687: UserWarning: No early stopping will be performed, last training weights will be used.\n",
      "  warnings.warn(wrn_msg)\n"
     ]
    },
    {
     "name": "stdout",
     "output_type": "stream",
     "text": [
      "epoch 0  | loss: 0.70732 | test_auc: 0.63611 |  0:00:04s\n",
      "epoch 1  | loss: 0.59771 | test_auc: 0.71279 |  0:00:08s\n",
      "epoch 2  | loss: 0.55356 | test_auc: 0.79524 |  0:00:12s\n",
      "epoch 3  | loss: 0.53332 | test_auc: 0.82095 |  0:00:16s\n",
      "epoch 4  | loss: 0.48863 | test_auc: 0.86548 |  0:00:20s\n",
      "epoch 5  | loss: 0.45256 | test_auc: 0.88555 |  0:00:24s\n",
      "epoch 6  | loss: 0.42428 | test_auc: 0.90558 |  0:00:27s\n",
      "epoch 7  | loss: 0.40643 | test_auc: 0.8989  |  0:00:33s\n",
      "epoch 8  | loss: 0.39537 | test_auc: 0.91399 |  0:00:37s\n",
      "epoch 9  | loss: 0.3986  | test_auc: 0.91976 |  0:00:43s\n",
      "Test Accuracy: 83.11%\n",
      "Test AUC: 0.92\n"
     ]
    }
   ],
   "source": [
    "start_time = time.time()\n",
    "modelTabNet.fit(\n",
    "    X_train=np.hstack([X_train_cat, X_train_cont]),\n",
    "    y_train=y_train.values,\n",
    "    eval_set=[(np.hstack([X_test_cat, X_test_cont]), y_test.values)],\n",
    "    eval_name=['test'],\n",
    "    eval_metric=['auc'],\n",
    "    max_epochs=10,\n",
    "    patience=0,\n",
    "    batch_size=1024,\n",
    "    virtual_batch_size=128\n",
    ")\n",
    "training_time_tabnet = time.time() - start_time\n",
    "\n",
    "test_probs = modelTabNet.predict_proba(np.hstack([X_test_cat, X_test_cont]))[:, 1]\n",
    "test_preds = (test_probs > 0.5).astype(int)\n",
    "accuracy_tabnet = accuracy_score(y_test, test_preds)\n",
    "print(f'Test Accuracy: {accuracy_tabnet * 100:.2f}%')\n",
    "\n",
    "fpr_tabnet, tpr_tabnet, _ = roc_curve(y_test, test_probs)\n",
    "roc_auc_tabnet = roc_auc_score(y_test, test_probs)\n",
    "print(f'Test AUC: {roc_auc_tabnet:.2f}')"
   ]
  },
  {
   "cell_type": "markdown",
   "metadata": {},
   "source": [
    "### Conclusiones\n",
    "\n",
    "Como no he podido usar los 4 métodos más usados seguiré la lista para hacer una comparación de mínimo 4 métodos."
   ]
  },
  {
   "cell_type": "markdown",
   "metadata": {},
   "source": []
  },
  {
   "cell_type": "markdown",
   "metadata": {},
   "source": [
    "### LightGMB"
   ]
  },
  {
   "cell_type": "markdown",
   "metadata": {},
   "source": [
    "Es un algoritmo de alto rendimiento basado en el boosting. Este es un algoritmo conocido por la eficiencia en el entrenamiento"
   ]
  },
  {
   "cell_type": "code",
   "execution_count": 5,
   "metadata": {},
   "outputs": [],
   "source": [
    "import lightgbm as lgb"
   ]
  },
  {
   "cell_type": "code",
   "execution_count": 6,
   "metadata": {},
   "outputs": [],
   "source": [
    "# Preparamos los datos para el modelo\n",
    "train_data_gmb =    lgb.Dataset(X_train, label=y_train)\n",
    "test_data_gmb =     lgb.Dataset(X_test, label=y_test, reference=train_data_gmb)"
   ]
  },
  {
   "cell_type": "markdown",
   "metadata": {},
   "source": [
    "#### Configuración del modelo"
   ]
  },
  {
   "cell_type": "code",
   "execution_count": 7,
   "metadata": {},
   "outputs": [],
   "source": [
    "params = {\n",
    "    'objective':        'binary',\n",
    "    'metric':           'binnary_logloss',\n",
    "    'boosting_type':    'gbdt',\n",
    "    'num_leaves':       31,\n",
    "    'learning_rate':    0.05,\n",
    "    'feature_fraction': 0.9\n",
    "}"
   ]
  },
  {
   "cell_type": "markdown",
   "metadata": {},
   "source": [
    "#### Entrenamiento del modelo"
   ]
  },
  {
   "cell_type": "code",
   "execution_count": 8,
   "metadata": {},
   "outputs": [
    {
     "ename": "",
     "evalue": "",
     "output_type": "error",
     "traceback": [
      "\u001b[1;31mEl kernel se bloqueó al ejecutar código en la celda actual o en una celda anterior. \n",
      "\u001b[1;31mRevise el código de las celdas para identificar una posible causa del error. \n",
      "\u001b[1;31mHaga clic <a href='https://aka.ms/vscodeJupyterKernelCrash'>aquí</a> para obtener más información. \n",
      "\u001b[1;31mVea Jupyter <a href='command:jupyter.viewOutput'>log</a> para obtener más detalles."
     ]
    }
   ],
   "source": [
    "start_time = time.time()\n",
    "modellGBM = lgb.train(params, train_data_gmb, num_boost_round=100, valid_sets=[test_data_gmb])\n",
    "training_time_lgbm = time.time() - start_time"
   ]
  },
  {
   "cell_type": "markdown",
   "metadata": {},
   "source": [
    "##### Predicción y evaluación"
   ]
  },
  {
   "cell_type": "code",
   "execution_count": null,
   "metadata": {},
   "outputs": [],
   "source": [
    "test_preds = modellGBM.predict(X_test, num_iteration=modellGBM.best_iteration)\n",
    "test_preds_binary = (test_preds > 0.5).astype(int)\n",
    "accuracy_lgbm = accuracy_score(y_test, test_preds_binary)\n",
    "print(f'Test Accuracy: {accuracy_lgbm * 100:.2f}%')\n",
    "\n",
    "fpr_lgbm, tpr_lgbm, _ = roc_curve(y_test, test_preds)\n",
    "roc_auc_lgbm = roc_auc_score(y_test, test_preds)\n",
    "print(f'Test AUC: {roc_auc_lgbm:.2f}')"
   ]
  },
  {
   "cell_type": "markdown",
   "metadata": {},
   "source": [
    "### CatBoost"
   ]
  },
  {
   "cell_type": "markdown",
   "metadata": {},
   "source": [
    "Es "
   ]
  },
  {
   "cell_type": "code",
   "execution_count": null,
   "metadata": {},
   "outputs": [],
   "source": []
  }
 ],
 "metadata": {
  "kernelspec": {
   "display_name": ".python-venv",
   "language": "python",
   "name": "python3"
  },
  "language_info": {
   "codemirror_mode": {
    "name": "ipython",
    "version": 3
   },
   "file_extension": ".py",
   "mimetype": "text/x-python",
   "name": "python",
   "nbconvert_exporter": "python",
   "pygments_lexer": "ipython3",
   "version": "3.9.6"
  }
 },
 "nbformat": 4,
 "nbformat_minor": 2
}
