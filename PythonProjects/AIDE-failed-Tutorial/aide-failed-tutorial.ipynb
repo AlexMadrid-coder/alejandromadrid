{
 "cells": [
  {
   "cell_type": "markdown",
   "metadata": {},
   "source": [
    "## Vamos a hacer un pequeño tutorial sobre como usar AIDE"
   ]
  },
  {
   "cell_type": "markdown",
   "metadata": {},
   "source": [
    "Vamos a ver una forma muy fácil y visual de como usar AIDE con los LLM de OpenAI, para ello necesitamos tener crédito en nuestra cartera de la API de OpenAI --> <a href=\"https://platform.openai.com/settings/organization/billing/overview\">Para ver como meter saldo visitar esta página</a>"
   ]
  },
  {
   "cell_type": "code",
   "execution_count": 1,
   "metadata": {},
   "outputs": [],
   "source": [
    "# IMPORTS \n",
    "from openai import OpenAI\n",
    "import aide"
   ]
  },
  {
   "cell_type": "markdown",
   "metadata": {},
   "source": [
    "Todas las librerías que uso en este fichero las podemos encontrar en el fichero <b>aideml-requirements.txt</b>\n",
    "\n",
    "Hacemos uso del import de OpenAI para poder ver la cantidad de modelos a los que podemos acceder"
   ]
  },
  {
   "cell_type": "code",
   "execution_count": 31,
   "metadata": {},
   "outputs": [],
   "source": [
    "lista_modelos = OpenAI().models.list().dict() # Con esto sacamos la lista de modelos y la convertimos en un diccionario"
   ]
  },
  {
   "cell_type": "code",
   "execution_count": 36,
   "metadata": {},
   "outputs": [
    {
     "name": "stdout",
     "output_type": "stream",
     "text": [
      "dall-e-3\n",
      "gpt-4-1106-preview\n",
      "whisper-1\n",
      "gpt-4o-2024-05-13\n",
      "babbage-002\n",
      "dall-e-2\n",
      "gpt-3.5-turbo-16k\n",
      "tts-1-hd-1106\n",
      "tts-1-hd\n",
      "gpt-3.5-turbo-instruct-0914\n",
      "gpt-3.5-turbo-instruct\n",
      "text-embedding-3-small\n",
      "gpt-4-turbo-2024-04-09\n",
      "tts-1\n",
      "gpt-4-turbo\n",
      "text-embedding-3-large\n",
      "gpt-3.5-turbo-1106\n",
      "gpt-4-0125-preview\n",
      "gpt-3.5-turbo-0125\n",
      "gpt-3.5-turbo\n",
      "gpt-3.5-turbo-0301\n",
      "gpt-4-turbo-preview\n",
      "tts-1-1106\n",
      "gpt-3.5-turbo-16k-0613\n",
      "gpt-3.5-turbo-0613\n",
      "gpt-4\n",
      "text-embedding-ada-002\n",
      "gpt-4-1106-vision-preview\n",
      "davinci-002\n",
      "gpt-4-0613\n",
      "gpt-4-vision-preview\n",
      "gpt-4o\n"
     ]
    }
   ],
   "source": [
    "for modelo in lista_modelos[\"data\"]:\n",
    "    print(modelo[\"id\"])"
   ]
  },
  {
   "cell_type": "markdown",
   "metadata": {},
   "source": [
    "Esta es la salida que deberías obtener al tener un mínimo de saldo en la cuenta, hay que pensar que cada modelo tiene su propio precio por token y que podemos consultar en la propia página de la <a href=\"https://openai.com/api/pricing/\">API de OpenAI</a>. Hay que tener en cuenta que los precios de entrada y salida son para cada millos de tokens procesados.\n",
    "\n",
    "Una vez elegido el modelo que queremos usar tenemos dos opciones de seleccionarlo,\n",
    "- (1) Cambiarlo por consola con el comando: <b>agent.code.model=\"modelo-a-usar\"</b>\n",
    "\n",
    "- (2) Cambiarlo en el fichero <b>config.yaml</b> de la extensión aide.\n",
    "\n",
    "Yo uso siempre la segunda forma, para ello nos dirijimos a la carpeta de nuetro entorno virtual --> navegamos hasta la carpeta <b>lib</b> --> seleccionamos la versión, en mi caso la <b>3.10.0</b> --> buscamos la carpeta <b>aide</b> --> dentro de la carpeta <b>utils</b> encontraremos el fichero <b>config.yaml</b>.\n",
    "\n",
    "En este fichero lo único que tenemos que cambiar son los dos parámetros llamados \"model\" tanto en la generación como en la validación, por defecto están asignados en \"gpt-4-turbo\" que es un buen modelo que no consume tanto crédito como \"gpt-4o\" o \"gpt-4\"."
   ]
  },
  {
   "cell_type": "markdown",
   "metadata": {},
   "source": [
    "Ahora vamos a seleccionar algún problema medianamente complejo de Kaggle y pasárselo al AIDE.\n",
    "\n",
    "Como primer dataset voy a usar un csv con más de 250K de pacientes de diabetes para hacer un clasificador,  no es una tarea muy complicada pero si sacar una buena accuracy y como ejemplo está más que bien"
   ]
  },
  {
   "cell_type": "code",
   "execution_count": 37,
   "metadata": {},
   "outputs": [],
   "source": [
    "# Definimos las variables que vamos a utilizar\n",
    "data_dir = \"./archive/\"\n",
    "goal = \"\"\"\n",
    "This dataset contains 3 files:\n",
    "\n",
    "    diabetes _ 012 _ health _ indicators _ BRFSS2015.csv is a clean dataset of 253,680 survey responses to the CDC's BRFSS2015. The target variable Diabetes_012 has 3 classes. 0 is for no diabetes or only during pregnancy, 1 is for prediabetes, and 2 is for diabetes. There is class imbalance in this dataset. This dataset has 21 feature variables\n",
    "    diabetes _ binary _ 5050split _ health _ indicators _ BRFSS2015.csv is a clean dataset of 70,692 survey responses to the CDC's BRFSS2015. It has an equal 50-50 split of respondents with no diabetes and with either prediabetes or diabetes. The target variable Diabetes_binary has 2 classes. 0 is for no diabetes, and 1 is for prediabetes or diabetes. This dataset has 21 feature variables and is balanced.\n",
    "    diabetes _ binary _ health _ indicators _ BRFSS2015.csv is a clean dataset of 253,680 survey responses to the CDC's BRFSS2015. The target variable Diabetes_binary has 2 classes. 0 is for no diabetes, and 1 is for prediabetes or diabetes. This dataset has 21 feature variables and is not balanced\n",
    "    \n",
    "    \n",
    "Can survey questions from the BRFSS provide accurate predictions of whether an individual has diabetes?\n",
    "What risk factors are most predictive of diabetes risk?\n",
    "Can we use a subset of the risk factors to accurately predict whether an individual has diabetes?\n",
    "Can we create a short form of questions from the BRFSS using feature selection to accurately predict if someone might have diabetes or is at high risk of diabetes?\n",
    "\n",
    "\"\"\"\n",
    "eval=\"Use RMSLE, f1-score and accuracy\""
   ]
  },
  {
   "cell_type": "markdown",
   "metadata": {},
   "source": [
    "Con estas declaraciones podemos ya probar el AIDE, para declaralo simplemente llamamos al constructor y le pasamos los 3 parámetros que acabamos de definir.\n",
    "\n",
    "El tercer parámetro <b>goal</b> es opcional pero siempre está bien poner como queremos que el modelo actue."
   ]
  },
  {
   "cell_type": "code",
   "execution_count": 38,
   "metadata": {},
   "outputs": [
    {
     "data": {
      "text/html": [
       "<pre style=\"white-space:pre;overflow-x:auto;line-height:normal;font-family:Menlo,'DejaVu Sans Mono',consolas,'Courier New',monospace\"></pre>\n"
      ],
      "text/plain": []
     },
     "metadata": {},
     "output_type": "display_data"
    }
   ],
   "source": [
    "experimento = aide.Experiment(\n",
    "    data_dir=data_dir,\n",
    "    goal=goal,\n",
    "    eval=eval\n",
    ")"
   ]
  },
  {
   "cell_type": "markdown",
   "metadata": {},
   "source": [
    "Una vez creada la instancia solo tenemos que hacerla correr, hay que tener en cuenta que el número de pasos que pongamos incrementará las iteraciones que el modelo intenta mejorar su solución propuesta y por tanto aumentará la cuota de la consulta.*"
   ]
  },
  {
   "cell_type": "code",
   "execution_count": 39,
   "metadata": {},
   "outputs": [
    {
     "name": "stdout",
     "output_type": "stream",
     "text": [
      "Plan + code extraction failed, retrying...\n",
      "Plan + code extraction failed, retrying...\n"
     ]
    },
    {
     "name": "stderr",
     "output_type": "stream",
     "text": [
      "/Users/alejandro/Documents/Repositorios/alejandromadrid/.aide-venv/lib/python3.10/site-packages/aide/utils/tree_export.py:34: RuntimeWarning: invalid value encountered in divide\n",
      "  layout = (layout - layout.min(axis=0)) / (layout.max(axis=0) - layout.min(axis=0))\n"
     ]
    },
    {
     "ename": "AssertionError",
     "evalue": "",
     "output_type": "error",
     "traceback": [
      "\u001b[0;31m---------------------------------------------------------------------------\u001b[0m",
      "\u001b[0;31mAssertionError\u001b[0m                            Traceback (most recent call last)",
      "Cell \u001b[0;32mIn[39], line 1\u001b[0m\n\u001b[0;32m----> 1\u001b[0m mejor_solucion \u001b[38;5;241m=\u001b[39m \u001b[43mexperimento\u001b[49m\u001b[38;5;241;43m.\u001b[39;49m\u001b[43mrun\u001b[49m\u001b[43m(\u001b[49m\u001b[43msteps\u001b[49m\u001b[38;5;241;43m=\u001b[39;49m\u001b[38;5;241;43m10\u001b[39;49m\u001b[43m)\u001b[49m\n",
      "File \u001b[0;32m~/Documents/Repositorios/alejandromadrid/.aide-venv/lib/python3.10/site-packages/aide/__init__.py:53\u001b[0m, in \u001b[0;36mExperiment.run\u001b[0;34m(self, steps)\u001b[0m\n\u001b[1;32m     51\u001b[0m \u001b[38;5;28;01mfor\u001b[39;00m _i \u001b[38;5;129;01min\u001b[39;00m \u001b[38;5;28mrange\u001b[39m(steps):\n\u001b[1;32m     52\u001b[0m     \u001b[38;5;28mself\u001b[39m\u001b[38;5;241m.\u001b[39magent\u001b[38;5;241m.\u001b[39mstep(exec_callback\u001b[38;5;241m=\u001b[39m\u001b[38;5;28mself\u001b[39m\u001b[38;5;241m.\u001b[39minterpreter\u001b[38;5;241m.\u001b[39mrun)\n\u001b[0;32m---> 53\u001b[0m     \u001b[43msave_run\u001b[49m\u001b[43m(\u001b[49m\u001b[38;5;28;43mself\u001b[39;49m\u001b[38;5;241;43m.\u001b[39;49m\u001b[43mcfg\u001b[49m\u001b[43m,\u001b[49m\u001b[43m \u001b[49m\u001b[38;5;28;43mself\u001b[39;49m\u001b[38;5;241;43m.\u001b[39;49m\u001b[43mjournal\u001b[49m\u001b[43m)\u001b[49m\n\u001b[1;32m     54\u001b[0m \u001b[38;5;28mself\u001b[39m\u001b[38;5;241m.\u001b[39minterpreter\u001b[38;5;241m.\u001b[39mcleanup_session()\n\u001b[1;32m     56\u001b[0m best_node \u001b[38;5;241m=\u001b[39m \u001b[38;5;28mself\u001b[39m\u001b[38;5;241m.\u001b[39mjournal\u001b[38;5;241m.\u001b[39mget_best_node(only_good\u001b[38;5;241m=\u001b[39m\u001b[38;5;28;01mFalse\u001b[39;00m)\n",
      "File \u001b[0;32m~/Documents/Repositorios/alejandromadrid/.aide-venv/lib/python3.10/site-packages/aide/utils/config.py:187\u001b[0m, in \u001b[0;36msave_run\u001b[0;34m(cfg, journal)\u001b[0m\n\u001b[1;32m    185\u001b[0m tree_export\u001b[38;5;241m.\u001b[39mgenerate(cfg, journal, cfg\u001b[38;5;241m.\u001b[39mlog_dir \u001b[38;5;241m/\u001b[39m \u001b[38;5;124m\"\u001b[39m\u001b[38;5;124mtree_plot.html\u001b[39m\u001b[38;5;124m\"\u001b[39m)\n\u001b[1;32m    186\u001b[0m \u001b[38;5;66;03m# save the best found solution\u001b[39;00m\n\u001b[0;32m--> 187\u001b[0m best_node \u001b[38;5;241m=\u001b[39m \u001b[43mjournal\u001b[49m\u001b[38;5;241;43m.\u001b[39;49m\u001b[43mget_best_node\u001b[49m\u001b[43m(\u001b[49m\u001b[43monly_good\u001b[49m\u001b[38;5;241;43m=\u001b[39;49m\u001b[38;5;28;43;01mFalse\u001b[39;49;00m\u001b[43m)\u001b[49m\n\u001b[1;32m    188\u001b[0m \u001b[38;5;28;01mwith\u001b[39;00m \u001b[38;5;28mopen\u001b[39m(cfg\u001b[38;5;241m.\u001b[39mlog_dir \u001b[38;5;241m/\u001b[39m \u001b[38;5;124m\"\u001b[39m\u001b[38;5;124mbest_solution.py\u001b[39m\u001b[38;5;124m\"\u001b[39m, \u001b[38;5;124m\"\u001b[39m\u001b[38;5;124mw\u001b[39m\u001b[38;5;124m\"\u001b[39m) \u001b[38;5;28;01mas\u001b[39;00m f:\n\u001b[1;32m    189\u001b[0m     f\u001b[38;5;241m.\u001b[39mwrite(best_node\u001b[38;5;241m.\u001b[39mcode)\n",
      "File \u001b[0;32m~/Documents/Repositorios/alejandromadrid/.aide-venv/lib/python3.10/site-packages/aide/journal.py:180\u001b[0m, in \u001b[0;36mJournal.get_best_node\u001b[0;34m(self, only_good)\u001b[0m\n\u001b[1;32m    178\u001b[0m \u001b[38;5;28;01melse\u001b[39;00m:\n\u001b[1;32m    179\u001b[0m     nodes \u001b[38;5;241m=\u001b[39m \u001b[38;5;28mself\u001b[39m\u001b[38;5;241m.\u001b[39mnodes\n\u001b[0;32m--> 180\u001b[0m \u001b[38;5;28;01mreturn\u001b[39;00m \u001b[38;5;28;43mmax\u001b[39;49m\u001b[43m(\u001b[49m\u001b[43mnodes\u001b[49m\u001b[43m,\u001b[49m\u001b[43m \u001b[49m\u001b[43mkey\u001b[49m\u001b[38;5;241;43m=\u001b[39;49m\u001b[38;5;28;43;01mlambda\u001b[39;49;00m\u001b[43m \u001b[49m\u001b[43mn\u001b[49m\u001b[43m:\u001b[49m\u001b[43m \u001b[49m\u001b[43mn\u001b[49m\u001b[38;5;241;43m.\u001b[39;49m\u001b[43mmetric\u001b[49m\u001b[43m)\u001b[49m\n",
      "File \u001b[0;32m~/Documents/Repositorios/alejandromadrid/.aide-venv/lib/python3.10/site-packages/aide/utils/metric.py:32\u001b[0m, in \u001b[0;36mMetricValue.__gt__\u001b[0;34m(self, other)\u001b[0m\n\u001b[1;32m     29\u001b[0m \u001b[38;5;28;01mif\u001b[39;00m other\u001b[38;5;241m.\u001b[39mvalue \u001b[38;5;129;01mis\u001b[39;00m \u001b[38;5;28;01mNone\u001b[39;00m:\n\u001b[1;32m     30\u001b[0m     \u001b[38;5;28;01mreturn\u001b[39;00m \u001b[38;5;28;01mTrue\u001b[39;00m\n\u001b[0;32m---> 32\u001b[0m \u001b[38;5;28;01massert\u001b[39;00m \u001b[38;5;28mtype\u001b[39m(\u001b[38;5;28mself\u001b[39m) \u001b[38;5;129;01mis\u001b[39;00m \u001b[38;5;28mtype\u001b[39m(other) \u001b[38;5;129;01mand\u001b[39;00m (\u001b[38;5;28mself\u001b[39m\u001b[38;5;241m.\u001b[39mmaximize \u001b[38;5;241m==\u001b[39m other\u001b[38;5;241m.\u001b[39mmaximize)\n\u001b[1;32m     34\u001b[0m \u001b[38;5;28;01mif\u001b[39;00m \u001b[38;5;28mself\u001b[39m\u001b[38;5;241m.\u001b[39mvalue \u001b[38;5;241m==\u001b[39m other\u001b[38;5;241m.\u001b[39mvalue:\n\u001b[1;32m     35\u001b[0m     \u001b[38;5;28;01mreturn\u001b[39;00m \u001b[38;5;28;01mFalse\u001b[39;00m\n",
      "\u001b[0;31mAssertionError\u001b[0m: "
     ]
    }
   ],
   "source": [
    "mejor_solucion = experimento.run(steps=10)"
   ]
  },
  {
   "cell_type": "markdown",
   "metadata": {},
   "source": [
    "Una vez ejecutado vamos a sacar por pantalla cuál es la mejor <b>matrix validation</b> que nos indica cuan buena es la solución propuesta así como el código generado --> este se guarda en un fichero dentro del directorio por si no queremos mostrar por pantalla el código.\n",
    "\n",
    "Además del código, AIDE genera un documento .html con un árbol para que podamos ver como ha desarrollado la o las soluciones propuestas así como por que ha elegido esa (interpretable)"
   ]
  },
  {
   "cell_type": "code",
   "execution_count": null,
   "metadata": {},
   "outputs": [],
   "source": [
    "print(f\"La mejor solución tiene una validación de --> {mejor_solucion.valid_metric}\")\n",
    "print(f\"El código de la mejor propuesta es: \\n {mejor_solucion.code}\")"
   ]
  },
  {
   "cell_type": "markdown",
   "metadata": {},
   "source": [
    "Esta ejecución ha costado <label style=\"color:red\">$0.78</label>\n",
    "\n",
    "Como esta ejecución ha fallado vamos a probar con otra forma de plantear el problema ya que la anterior ha fallado por no ser capaz de comprender todo lo necesario creo yo."
   ]
  },
  {
   "cell_type": "code",
   "execution_count": 41,
   "metadata": {},
   "outputs": [],
   "source": [
    "# Definimos las variables que vamos a utilizar\n",
    "data_dir = \"./archive/\"\n",
    "goal = \"\"\"\n",
    "This dataset has 2 files: \n",
    "    (1) diabetes_012_health_indicators_BRFSS2015.csv : clean dataset of 253680 survey. We have 3 classes (0) no diabetes, (1) prediabetes, (2) diabetes\n",
    "    (2) diabetes_binary_5050split_health_indicators_BRFSS2015.csv: clean dataset of 70692 survey. It has an equal 50-50 for non-diabetes and (pre-diabetes + diabetes). Has 2 classes (0) no diabetes, (1) pre or diabetes \n",
    "Can we create a predictor to estimate if our patient have or not diabetes, you can use the first dataset to split it into 80-20 training test to test if the classifier is good and try it on the second dataset.\n",
    "\"\"\"\n",
    "eval=\"f1-score\""
   ]
  },
  {
   "cell_type": "markdown",
   "metadata": {},
   "source": [
    "Para hacerlo más sencillo y masticable por aide he eliminado el tercer fichero csv que usamos como datos adicionales, así como acortar y simplificar las explicaciones de los datasets y cambiar las 4 preguntas que teníamos anteriormente como una oración. \n",
    "\n",
    "También hemos cambiado la métrica de evaluación a <b>f1-score</b> para poder tener la información tanto de la accuracy como el recall ya que es una media armónica de ambas."
   ]
  },
  {
   "cell_type": "code",
   "execution_count": 42,
   "metadata": {},
   "outputs": [
    {
     "data": {
      "text/html": [
       "<pre style=\"white-space:pre;overflow-x:auto;line-height:normal;font-family:Menlo,'DejaVu Sans Mono',consolas,'Courier New',monospace\"></pre>\n"
      ],
      "text/plain": []
     },
     "metadata": {},
     "output_type": "display_data"
    }
   ],
   "source": [
    "experimento2 = aide.Experiment(\n",
    "    data_dir=data_dir,\n",
    "    goal=goal,\n",
    "    eval=eval\n",
    ")"
   ]
  },
  {
   "cell_type": "markdown",
   "metadata": {},
   "source": [
    "Repetimos todo otra vez a ver si es la indicada. \n",
    "\n",
    "Las ejecuciones de estos tipos suelen durar de 5 a 15 según las pruebas que he realizado por lo que es normal que tarde."
   ]
  },
  {
   "cell_type": "code",
   "execution_count": 44,
   "metadata": {},
   "outputs": [
    {
     "name": "stderr",
     "output_type": "stream",
     "text": [
      "/Users/alejandro/Documents/Repositorios/alejandromadrid/.aide-venv/lib/python3.10/site-packages/aide/utils/tree_export.py:34: RuntimeWarning: invalid value encountered in divide\n",
      "  layout = (layout - layout.min(axis=0)) / (layout.max(axis=0) - layout.min(axis=0))\n"
     ]
    },
    {
     "ename": "AssertionError",
     "evalue": "",
     "output_type": "error",
     "traceback": [
      "\u001b[0;31m---------------------------------------------------------------------------\u001b[0m",
      "\u001b[0;31mAssertionError\u001b[0m                            Traceback (most recent call last)",
      "Cell \u001b[0;32mIn[44], line 1\u001b[0m\n\u001b[0;32m----> 1\u001b[0m mejor_solucion \u001b[38;5;241m=\u001b[39m \u001b[43mexperimento2\u001b[49m\u001b[38;5;241;43m.\u001b[39;49m\u001b[43mrun\u001b[49m\u001b[43m(\u001b[49m\u001b[43msteps\u001b[49m\u001b[38;5;241;43m=\u001b[39;49m\u001b[38;5;241;43m10\u001b[39;49m\u001b[43m)\u001b[49m\n",
      "File \u001b[0;32m~/Documents/Repositorios/alejandromadrid/.aide-venv/lib/python3.10/site-packages/aide/__init__.py:53\u001b[0m, in \u001b[0;36mExperiment.run\u001b[0;34m(self, steps)\u001b[0m\n\u001b[1;32m     51\u001b[0m \u001b[38;5;28;01mfor\u001b[39;00m _i \u001b[38;5;129;01min\u001b[39;00m \u001b[38;5;28mrange\u001b[39m(steps):\n\u001b[1;32m     52\u001b[0m     \u001b[38;5;28mself\u001b[39m\u001b[38;5;241m.\u001b[39magent\u001b[38;5;241m.\u001b[39mstep(exec_callback\u001b[38;5;241m=\u001b[39m\u001b[38;5;28mself\u001b[39m\u001b[38;5;241m.\u001b[39minterpreter\u001b[38;5;241m.\u001b[39mrun)\n\u001b[0;32m---> 53\u001b[0m     \u001b[43msave_run\u001b[49m\u001b[43m(\u001b[49m\u001b[38;5;28;43mself\u001b[39;49m\u001b[38;5;241;43m.\u001b[39;49m\u001b[43mcfg\u001b[49m\u001b[43m,\u001b[49m\u001b[43m \u001b[49m\u001b[38;5;28;43mself\u001b[39;49m\u001b[38;5;241;43m.\u001b[39;49m\u001b[43mjournal\u001b[49m\u001b[43m)\u001b[49m\n\u001b[1;32m     54\u001b[0m \u001b[38;5;28mself\u001b[39m\u001b[38;5;241m.\u001b[39minterpreter\u001b[38;5;241m.\u001b[39mcleanup_session()\n\u001b[1;32m     56\u001b[0m best_node \u001b[38;5;241m=\u001b[39m \u001b[38;5;28mself\u001b[39m\u001b[38;5;241m.\u001b[39mjournal\u001b[38;5;241m.\u001b[39mget_best_node(only_good\u001b[38;5;241m=\u001b[39m\u001b[38;5;28;01mFalse\u001b[39;00m)\n",
      "File \u001b[0;32m~/Documents/Repositorios/alejandromadrid/.aide-venv/lib/python3.10/site-packages/aide/utils/config.py:187\u001b[0m, in \u001b[0;36msave_run\u001b[0;34m(cfg, journal)\u001b[0m\n\u001b[1;32m    185\u001b[0m tree_export\u001b[38;5;241m.\u001b[39mgenerate(cfg, journal, cfg\u001b[38;5;241m.\u001b[39mlog_dir \u001b[38;5;241m/\u001b[39m \u001b[38;5;124m\"\u001b[39m\u001b[38;5;124mtree_plot.html\u001b[39m\u001b[38;5;124m\"\u001b[39m)\n\u001b[1;32m    186\u001b[0m \u001b[38;5;66;03m# save the best found solution\u001b[39;00m\n\u001b[0;32m--> 187\u001b[0m best_node \u001b[38;5;241m=\u001b[39m \u001b[43mjournal\u001b[49m\u001b[38;5;241;43m.\u001b[39;49m\u001b[43mget_best_node\u001b[49m\u001b[43m(\u001b[49m\u001b[43monly_good\u001b[49m\u001b[38;5;241;43m=\u001b[39;49m\u001b[38;5;28;43;01mFalse\u001b[39;49;00m\u001b[43m)\u001b[49m\n\u001b[1;32m    188\u001b[0m \u001b[38;5;28;01mwith\u001b[39;00m \u001b[38;5;28mopen\u001b[39m(cfg\u001b[38;5;241m.\u001b[39mlog_dir \u001b[38;5;241m/\u001b[39m \u001b[38;5;124m\"\u001b[39m\u001b[38;5;124mbest_solution.py\u001b[39m\u001b[38;5;124m\"\u001b[39m, \u001b[38;5;124m\"\u001b[39m\u001b[38;5;124mw\u001b[39m\u001b[38;5;124m\"\u001b[39m) \u001b[38;5;28;01mas\u001b[39;00m f:\n\u001b[1;32m    189\u001b[0m     f\u001b[38;5;241m.\u001b[39mwrite(best_node\u001b[38;5;241m.\u001b[39mcode)\n",
      "File \u001b[0;32m~/Documents/Repositorios/alejandromadrid/.aide-venv/lib/python3.10/site-packages/aide/journal.py:180\u001b[0m, in \u001b[0;36mJournal.get_best_node\u001b[0;34m(self, only_good)\u001b[0m\n\u001b[1;32m    178\u001b[0m \u001b[38;5;28;01melse\u001b[39;00m:\n\u001b[1;32m    179\u001b[0m     nodes \u001b[38;5;241m=\u001b[39m \u001b[38;5;28mself\u001b[39m\u001b[38;5;241m.\u001b[39mnodes\n\u001b[0;32m--> 180\u001b[0m \u001b[38;5;28;01mreturn\u001b[39;00m \u001b[38;5;28;43mmax\u001b[39;49m\u001b[43m(\u001b[49m\u001b[43mnodes\u001b[49m\u001b[43m,\u001b[49m\u001b[43m \u001b[49m\u001b[43mkey\u001b[49m\u001b[38;5;241;43m=\u001b[39;49m\u001b[38;5;28;43;01mlambda\u001b[39;49;00m\u001b[43m \u001b[49m\u001b[43mn\u001b[49m\u001b[43m:\u001b[49m\u001b[43m \u001b[49m\u001b[43mn\u001b[49m\u001b[38;5;241;43m.\u001b[39;49m\u001b[43mmetric\u001b[49m\u001b[43m)\u001b[49m\n",
      "File \u001b[0;32m~/Documents/Repositorios/alejandromadrid/.aide-venv/lib/python3.10/site-packages/aide/utils/metric.py:32\u001b[0m, in \u001b[0;36mMetricValue.__gt__\u001b[0;34m(self, other)\u001b[0m\n\u001b[1;32m     29\u001b[0m \u001b[38;5;28;01mif\u001b[39;00m other\u001b[38;5;241m.\u001b[39mvalue \u001b[38;5;129;01mis\u001b[39;00m \u001b[38;5;28;01mNone\u001b[39;00m:\n\u001b[1;32m     30\u001b[0m     \u001b[38;5;28;01mreturn\u001b[39;00m \u001b[38;5;28;01mTrue\u001b[39;00m\n\u001b[0;32m---> 32\u001b[0m \u001b[38;5;28;01massert\u001b[39;00m \u001b[38;5;28mtype\u001b[39m(\u001b[38;5;28mself\u001b[39m) \u001b[38;5;129;01mis\u001b[39;00m \u001b[38;5;28mtype\u001b[39m(other) \u001b[38;5;129;01mand\u001b[39;00m (\u001b[38;5;28mself\u001b[39m\u001b[38;5;241m.\u001b[39mmaximize \u001b[38;5;241m==\u001b[39m other\u001b[38;5;241m.\u001b[39mmaximize)\n\u001b[1;32m     34\u001b[0m \u001b[38;5;28;01mif\u001b[39;00m \u001b[38;5;28mself\u001b[39m\u001b[38;5;241m.\u001b[39mvalue \u001b[38;5;241m==\u001b[39m other\u001b[38;5;241m.\u001b[39mvalue:\n\u001b[1;32m     35\u001b[0m     \u001b[38;5;28;01mreturn\u001b[39;00m \u001b[38;5;28;01mFalse\u001b[39;00m\n",
      "\u001b[0;31mAssertionError\u001b[0m: "
     ]
    }
   ],
   "source": [
    "mejor_solucion = experimento2.run(steps=10)"
   ]
  },
  {
   "cell_type": "code",
   "execution_count": 45,
   "metadata": {},
   "outputs": [
    {
     "ename": "NameError",
     "evalue": "name 'mejor_solucion' is not defined",
     "output_type": "error",
     "traceback": [
      "\u001b[0;31m---------------------------------------------------------------------------\u001b[0m",
      "\u001b[0;31mNameError\u001b[0m                                 Traceback (most recent call last)",
      "Cell \u001b[0;32mIn[45], line 1\u001b[0m\n\u001b[0;32m----> 1\u001b[0m \u001b[38;5;28mprint\u001b[39m(\u001b[38;5;124mf\u001b[39m\u001b[38;5;124m\"\u001b[39m\u001b[38;5;124mLa mejor solución tiene una validación de --> \u001b[39m\u001b[38;5;132;01m{\u001b[39;00mmejor_solucion\u001b[38;5;241m.\u001b[39mvalid_metric\u001b[38;5;132;01m}\u001b[39;00m\u001b[38;5;124m\"\u001b[39m)\n\u001b[1;32m      2\u001b[0m \u001b[38;5;28mprint\u001b[39m(\u001b[38;5;124mf\u001b[39m\u001b[38;5;124m\"\u001b[39m\u001b[38;5;124mEl código de la mejor propuesta es: \u001b[39m\u001b[38;5;130;01m\\n\u001b[39;00m\u001b[38;5;124m \u001b[39m\u001b[38;5;132;01m{\u001b[39;00mmejor_solucion\u001b[38;5;241m.\u001b[39mcode\u001b[38;5;132;01m}\u001b[39;00m\u001b[38;5;124m\"\u001b[39m)\n",
      "\u001b[0;31mNameError\u001b[0m: name 'mejor_solucion' is not defined"
     ]
    }
   ],
   "source": [
    "print(f\"La mejor solución tiene una validación de --> {mejor_solucion.valid_metric}\")\n",
    "print(f\"El código de la mejor propuesta es: \\n {mejor_solucion.code}\")"
   ]
  },
  {
   "cell_type": "markdown",
   "metadata": {},
   "source": [
    "Parece ser que no es capaz de guardar el fichero donde toca pero si que tengo el documento .py \n",
    "\n",
    "Este es el contenido de ejecutar aide --> guardado en logs --> 2 --> best_solution.py"
   ]
  },
  {
   "cell_type": "code",
   "execution_count": 48,
   "metadata": {},
   "outputs": [
    {
     "name": "stdout",
     "output_type": "stream",
     "text": [
      "RMSLE: 0.42078933524206985, F1-Score: 0.3965432034760695, Accuracy: 0.8410990223904131\n"
     ]
    }
   ],
   "source": [
    "import pandas as pd\n",
    "from sklearn.model_selection import train_test_split\n",
    "from sklearn.ensemble import RandomForestClassifier\n",
    "from sklearn.metrics import mean_squared_log_error, f1_score, accuracy_score\n",
    "from sklearn.preprocessing import StandardScaler\n",
    "import numpy as np\n",
    "\n",
    "# Load the datasets\n",
    "df1 = pd.read_csv(\"./archive/diabetes_012_health_indicators_BRFSS2015.csv\")\n",
    "df2 = pd.read_csv(\"./archive/diabetes_binary_5050split_health_indicators_BRFSS2015.csv\")\n",
    "\n",
    "# Prepare the first dataset\n",
    "X = df1.drop(\"Diabetes_012\", axis=1)\n",
    "y = df1[\"Diabetes_012\"]\n",
    "X_train, X_test, y_train, y_test = train_test_split(\n",
    "    X, y, test_size=0.2, random_state=42\n",
    ")\n",
    "\n",
    "# Scale the features\n",
    "scaler = StandardScaler()\n",
    "X_train_scaled = scaler.fit_transform(X_train)\n",
    "X_test_scaled = scaler.transform(X_test)\n",
    "\n",
    "# Train the RandomForest model\n",
    "model = RandomForestClassifier(random_state=42)\n",
    "model.fit(X_train_scaled, y_train)\n",
    "\n",
    "# Predict on the test set\n",
    "y_pred = model.predict(X_test_scaled)\n",
    "\n",
    "# Calculate the evaluation metrics\n",
    "rmsle = np.sqrt(mean_squared_log_error(y_test, y_pred))\n",
    "f1 = f1_score(y_test, y_pred, average=\"macro\")\n",
    "accuracy = accuracy_score(y_test, y_pred)\n",
    "\n",
    "print(f\"RMSLE: {rmsle}, F1-Score: {f1}, Accuracy: {accuracy}\")\n",
    "\n",
    "# Apply the model to the second dataset\n",
    "X_new = df2.drop(\"Diabetes_binary\", axis=1)\n",
    "X_new_scaled = scaler.transform(X_new)\n",
    "y_new_pred = model.predict(X_new_scaled)\n",
    "\n",
    "# Save the predictions\n",
    "submission = pd.DataFrame({\"Diabetes_binary\": y_new_pred})\n",
    "submission.to_csv(\"./archive/submission.csv\", index=False)\n"
   ]
  },
  {
   "cell_type": "markdown",
   "metadata": {},
   "source": [
    "#### El total de esta ejecución ha sido de <label style=\"color:red\">$0.63</label>"
   ]
  }
 ],
 "metadata": {
  "kernelspec": {
   "display_name": ".aide-venv",
   "language": "python",
   "name": "python3"
  },
  "language_info": {
   "codemirror_mode": {
    "name": "ipython",
    "version": 3
   },
   "file_extension": ".py",
   "mimetype": "text/x-python",
   "name": "python",
   "nbconvert_exporter": "python",
   "pygments_lexer": "ipython3",
   "version": "3.10.0"
  }
 },
 "nbformat": 4,
 "nbformat_minor": 2
}
