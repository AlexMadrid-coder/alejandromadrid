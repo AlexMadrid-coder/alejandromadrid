{
 "cells": [
  {
   "cell_type": "code",
   "execution_count": 64,
   "metadata": {},
   "outputs": [],
   "source": [
    "import pandas as pd\n",
    "import numpy as np \n",
    "\n",
    "from sklearn.preprocessing import LabelEncoder\n"
   ]
  },
  {
   "cell_type": "code",
   "execution_count": 73,
   "metadata": {},
   "outputs": [
    {
     "name": "stderr",
     "output_type": "stream",
     "text": [
      "/var/folders/1l/cxqhmnt11g75c057bvpp1d4m0000gn/T/ipykernel_18128/239051544.py:1: DtypeWarning: Columns (22,32) have mixed types. Specify dtype option on import or set low_memory=False.\n",
      "  dataset = pd.read_csv('archive/Building_Permits.csv')\n"
     ]
    },
    {
     "data": {
      "text/plain": [
       "(198900, 43)"
      ]
     },
     "execution_count": 73,
     "metadata": {},
     "output_type": "execute_result"
    }
   ],
   "source": [
    "dataset = pd.read_csv('archive/Building_Permits.csv')\n",
    "dataset.shape"
   ]
  },
  {
   "cell_type": "code",
   "execution_count": 74,
   "metadata": {},
   "outputs": [
    {
     "name": "stdout",
     "output_type": "stream",
     "text": [
      "<class 'pandas.core.frame.DataFrame'>\n",
      "RangeIndex: 198900 entries, 0 to 198899\n",
      "Data columns (total 43 columns):\n",
      " #   Column                                  Non-Null Count   Dtype  \n",
      "---  ------                                  --------------   -----  \n",
      " 0   Permit Number                           198900 non-null  object \n",
      " 1   Permit Type                             198900 non-null  int64  \n",
      " 2   Permit Type Definition                  198900 non-null  object \n",
      " 3   Permit Creation Date                    198900 non-null  object \n",
      " 4   Block                                   198900 non-null  object \n",
      " 5   Lot                                     198900 non-null  object \n",
      " 6   Street Number                           198900 non-null  int64  \n",
      " 7   Street Number Suffix                    2216 non-null    object \n",
      " 8   Street Name                             198900 non-null  object \n",
      " 9   Street Suffix                           196132 non-null  object \n",
      " 10  Unit                                    29479 non-null   float64\n",
      " 11  Unit Suffix                             1961 non-null    object \n",
      " 12  Description                             198610 non-null  object \n",
      " 13  Current Status                          198900 non-null  object \n",
      " 14  Current Status Date                     198900 non-null  object \n",
      " 15  Filed Date                              198900 non-null  object \n",
      " 16  Issued Date                             183960 non-null  object \n",
      " 17  Completed Date                          97191 non-null   object \n",
      " 18  First Construction Document Date        183954 non-null  object \n",
      " 19  Structural Notification                 6922 non-null    object \n",
      " 20  Number of Existing Stories              156116 non-null  float64\n",
      " 21  Number of Proposed Stories              156032 non-null  float64\n",
      " 22  Voluntary Soft-Story Retrofit           35 non-null      object \n",
      " 23  Fire Only Permit                        18827 non-null   object \n",
      " 24  Permit Expiration Date                  147020 non-null  object \n",
      " 25  Estimated Cost                          160834 non-null  float64\n",
      " 26  Revised Cost                            192834 non-null  float64\n",
      " 27  Existing Use                            157786 non-null  object \n",
      " 28  Existing Units                          147362 non-null  float64\n",
      " 29  Proposed Use                            156461 non-null  object \n",
      " 30  Proposed Units                          147989 non-null  float64\n",
      " 31  Plansets                                161591 non-null  float64\n",
      " 32  TIDF Compliance                         2 non-null       object \n",
      " 33  Existing Construction Type              155534 non-null  float64\n",
      " 34  Existing Construction Type Description  155534 non-null  object \n",
      " 35  Proposed Construction Type              155738 non-null  float64\n",
      " 36  Proposed Construction Type Description  155738 non-null  object \n",
      " 37  Site Permit                             5359 non-null    object \n",
      " 38  Supervisor District                     197183 non-null  float64\n",
      " 39  Neighborhoods - Analysis Boundaries     197175 non-null  object \n",
      " 40  Zipcode                                 197184 non-null  float64\n",
      " 41  Location                                197200 non-null  object \n",
      " 42  Record ID                               198900 non-null  int64  \n",
      "dtypes: float64(12), int64(3), object(28)\n",
      "memory usage: 65.3+ MB\n"
     ]
    }
   ],
   "source": [
    "dataset.info()"
   ]
  },
  {
   "cell_type": "code",
   "execution_count": 75,
   "metadata": {},
   "outputs": [
    {
     "data": {
      "text/plain": [
       "8"
      ]
     },
     "execution_count": 75,
     "metadata": {},
     "output_type": "execute_result"
    }
   ],
   "source": [
    "len(dataset['Permit Type'].unique())"
   ]
  },
  {
   "cell_type": "markdown",
   "metadata": {},
   "source": [
    "Tenemos 8 tipos de permisos\n"
   ]
  },
  {
   "cell_type": "code",
   "execution_count": 76,
   "metadata": {},
   "outputs": [
    {
     "data": {
      "text/plain": [
       "8"
      ]
     },
     "execution_count": 76,
     "metadata": {},
     "output_type": "execute_result"
    }
   ],
   "source": [
    "len(dataset['Permit Type Definition'].unique())"
   ]
  },
  {
   "cell_type": "code",
   "execution_count": 77,
   "metadata": {},
   "outputs": [
    {
     "name": "stdout",
     "output_type": "stream",
     "text": [
      "<class 'pandas.core.frame.DataFrame'>\n",
      "RangeIndex: 198900 entries, 0 to 198899\n",
      "Data columns (total 41 columns):\n",
      " #   Column                                  Non-Null Count   Dtype  \n",
      "---  ------                                  --------------   -----  \n",
      " 0   Permit Type                             198900 non-null  int64  \n",
      " 1   Permit Creation Date                    198900 non-null  object \n",
      " 2   Block                                   198900 non-null  object \n",
      " 3   Lot                                     198900 non-null  object \n",
      " 4   Street Number                           198900 non-null  int64  \n",
      " 5   Street Number Suffix                    2216 non-null    object \n",
      " 6   Street Name                             198900 non-null  object \n",
      " 7   Street Suffix                           196132 non-null  object \n",
      " 8   Unit                                    29479 non-null   float64\n",
      " 9   Unit Suffix                             1961 non-null    object \n",
      " 10  Description                             198610 non-null  object \n",
      " 11  Current Status                          198900 non-null  object \n",
      " 12  Current Status Date                     198900 non-null  object \n",
      " 13  Filed Date                              198900 non-null  object \n",
      " 14  Issued Date                             183960 non-null  object \n",
      " 15  Completed Date                          97191 non-null   object \n",
      " 16  First Construction Document Date        183954 non-null  object \n",
      " 17  Structural Notification                 6922 non-null    object \n",
      " 18  Number of Existing Stories              156116 non-null  float64\n",
      " 19  Number of Proposed Stories              156032 non-null  float64\n",
      " 20  Voluntary Soft-Story Retrofit           35 non-null      object \n",
      " 21  Fire Only Permit                        18827 non-null   object \n",
      " 22  Permit Expiration Date                  147020 non-null  object \n",
      " 23  Estimated Cost                          160834 non-null  float64\n",
      " 24  Revised Cost                            192834 non-null  float64\n",
      " 25  Existing Use                            157786 non-null  object \n",
      " 26  Existing Units                          147362 non-null  float64\n",
      " 27  Proposed Use                            156461 non-null  object \n",
      " 28  Proposed Units                          147989 non-null  float64\n",
      " 29  Plansets                                161591 non-null  float64\n",
      " 30  TIDF Compliance                         2 non-null       object \n",
      " 31  Existing Construction Type              155534 non-null  float64\n",
      " 32  Existing Construction Type Description  155534 non-null  object \n",
      " 33  Proposed Construction Type              155738 non-null  float64\n",
      " 34  Proposed Construction Type Description  155738 non-null  object \n",
      " 35  Site Permit                             5359 non-null    object \n",
      " 36  Supervisor District                     197183 non-null  float64\n",
      " 37  Neighborhoods - Analysis Boundaries     197175 non-null  object \n",
      " 38  Zipcode                                 197184 non-null  float64\n",
      " 39  Location                                197200 non-null  object \n",
      " 40  Record ID                               198900 non-null  int64  \n",
      "dtypes: float64(12), int64(3), object(26)\n",
      "memory usage: 62.2+ MB\n"
     ]
    }
   ],
   "source": [
    "# Como tenemos 8 diferentes tipos de permiso con sus 8 definiciones podemos colapsarlas en \n",
    "# una única columna o eliminar la de descripciones ya que no aportará nada al TabularLearning\n",
    "dataset.drop('Permit Type Definition', axis=1, inplace=True)\n",
    "# También tenemos que eliminar el 'Permit Number' ya que es un identificador que no nos sirve de nada\n",
    "dataset.drop('Permit Number', axis=1, inplace=True)\n",
    "dataset.info()"
   ]
  },
  {
   "cell_type": "code",
   "execution_count": 78,
   "metadata": {},
   "outputs": [
    {
     "name": "stdout",
     "output_type": "stream",
     "text": [
      "<class 'pandas.core.frame.DataFrame'>\n",
      "RangeIndex: 198900 entries, 0 to 198899\n",
      "Data columns (total 33 columns):\n",
      " #   Column                                  Non-Null Count   Dtype  \n",
      "---  ------                                  --------------   -----  \n",
      " 0   Permit Type                             198900 non-null  int64  \n",
      " 1   Permit Creation Date                    198900 non-null  object \n",
      " 2   Description                             198610 non-null  object \n",
      " 3   Current Status                          198900 non-null  object \n",
      " 4   Current Status Date                     198900 non-null  object \n",
      " 5   Filed Date                              198900 non-null  object \n",
      " 6   Issued Date                             183960 non-null  object \n",
      " 7   Completed Date                          97191 non-null   object \n",
      " 8   First Construction Document Date        183954 non-null  object \n",
      " 9   Structural Notification                 6922 non-null    object \n",
      " 10  Number of Existing Stories              156116 non-null  float64\n",
      " 11  Number of Proposed Stories              156032 non-null  float64\n",
      " 12  Voluntary Soft-Story Retrofit           35 non-null      object \n",
      " 13  Fire Only Permit                        18827 non-null   object \n",
      " 14  Permit Expiration Date                  147020 non-null  object \n",
      " 15  Estimated Cost                          160834 non-null  float64\n",
      " 16  Revised Cost                            192834 non-null  float64\n",
      " 17  Existing Use                            157786 non-null  object \n",
      " 18  Existing Units                          147362 non-null  float64\n",
      " 19  Proposed Use                            156461 non-null  object \n",
      " 20  Proposed Units                          147989 non-null  float64\n",
      " 21  Plansets                                161591 non-null  float64\n",
      " 22  TIDF Compliance                         2 non-null       object \n",
      " 23  Existing Construction Type              155534 non-null  float64\n",
      " 24  Existing Construction Type Description  155534 non-null  object \n",
      " 25  Proposed Construction Type              155738 non-null  float64\n",
      " 26  Proposed Construction Type Description  155738 non-null  object \n",
      " 27  Site Permit                             5359 non-null    object \n",
      " 28  Supervisor District                     197183 non-null  float64\n",
      " 29  Neighborhoods - Analysis Boundaries     197175 non-null  object \n",
      " 30  Zipcode                                 197184 non-null  float64\n",
      " 31  Location                                197200 non-null  object \n",
      " 32  Record ID                               198900 non-null  int64  \n",
      "dtypes: float64(11), int64(2), object(20)\n",
      "memory usage: 50.1+ MB\n"
     ]
    }
   ],
   "source": [
    "# Eliminamos todas las columnas referentes al tipo y localización de la construcción\n",
    "# Solo necesitamos como categorías espaciales la latidud y longitud\n",
    "dataset.drop('Block', axis=1, inplace=True)\n",
    "dataset.drop('Lot', axis=1, inplace=True)\n",
    "dataset.drop('Street Number', axis=1, inplace=True)\n",
    "dataset.drop('Street Number Suffix', axis=1, inplace=True)\n",
    "dataset.drop('Street Name', axis=1, inplace=True)\n",
    "dataset.drop('Street Suffix', axis=1, inplace=True)\n",
    "dataset.drop('Unit', axis=1, inplace=True)\n",
    "dataset.drop('Unit Suffix', axis=1, inplace=True)\n",
    "dataset.info()"
   ]
  },
  {
   "cell_type": "code",
   "execution_count": 79,
   "metadata": {},
   "outputs": [
    {
     "data": {
      "text/plain": [
       "0           expired\n",
       "1            issued\n",
       "2         withdrawn\n",
       "3          complete\n",
       "4            issued\n",
       "            ...    \n",
       "198895       issued\n",
       "198896       issued\n",
       "198897       issued\n",
       "198898       issued\n",
       "198899       issued\n",
       "Name: Current Status, Length: 198900, dtype: object"
      ]
     },
     "execution_count": 79,
     "metadata": {},
     "output_type": "execute_result"
    }
   ],
   "source": [
    "# next column to inspect is 'Current Status' \n",
    "dataset['Current Status']"
   ]
  },
  {
   "cell_type": "code",
   "execution_count": 87,
   "metadata": {},
   "outputs": [
    {
     "data": {
      "text/plain": [
       "0          5\n",
       "1          8\n",
       "2         13\n",
       "3          3\n",
       "4          8\n",
       "          ..\n",
       "198895     8\n",
       "198896     8\n",
       "198897     8\n",
       "198898     8\n",
       "198899     8\n",
       "Name: Current Status, Length: 198900, dtype: int64"
      ]
     },
     "execution_count": 87,
     "metadata": {},
     "output_type": "execute_result"
    }
   ],
   "source": [
    "labelEncoder = LabelEncoder()\n",
    "\n",
    "dataset['Current Status'] = labelEncoder.fit_transform(dataset['Current Status'])\n",
    "dataset['Current Status']"
   ]
  },
  {
   "cell_type": "code",
   "execution_count": null,
   "metadata": {},
   "outputs": [],
   "source": []
  }
 ],
 "metadata": {
  "kernelspec": {
   "display_name": ".python-venv",
   "language": "python",
   "name": "python3"
  },
  "language_info": {
   "codemirror_mode": {
    "name": "ipython",
    "version": 3
   },
   "file_extension": ".py",
   "mimetype": "text/x-python",
   "name": "python",
   "nbconvert_exporter": "python",
   "pygments_lexer": "ipython3",
   "version": "3.9.6"
  }
 },
 "nbformat": 4,
 "nbformat_minor": 2
}
