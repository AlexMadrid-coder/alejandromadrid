{
 "cells": [
  {
   "cell_type": "markdown",
   "metadata": {},
   "source": [
    "## Problema classificación estadio de Cirrosis AIDE"
   ]
  },
  {
   "cell_type": "code",
   "execution_count": 5,
   "metadata": {},
   "outputs": [],
   "source": [
    "import AIDE as aide\n",
    "import openai\n",
    "import pandas as pd"
   ]
  },
  {
   "cell_type": "markdown",
   "metadata": {},
   "source": [
    "El modelo a utilizar es gpt-4-turbo"
   ]
  },
  {
   "cell_type": "code",
   "execution_count": 4,
   "metadata": {},
   "outputs": [
    {
     "name": "stdout",
     "output_type": "stream",
     "text": [
      "<class 'pandas.core.frame.DataFrame'>\n",
      "RangeIndex: 25000 entries, 0 to 24999\n",
      "Data columns (total 19 columns):\n",
      " #   Column         Non-Null Count  Dtype  \n",
      "---  ------         --------------  -----  \n",
      " 0   N_Days         25000 non-null  int64  \n",
      " 1   Status         25000 non-null  object \n",
      " 2   Drug           25000 non-null  object \n",
      " 3   Age            25000 non-null  int64  \n",
      " 4   Sex            25000 non-null  object \n",
      " 5   Ascites        25000 non-null  object \n",
      " 6   Hepatomegaly   25000 non-null  object \n",
      " 7   Spiders        25000 non-null  object \n",
      " 8   Edema          25000 non-null  object \n",
      " 9   Bilirubin      25000 non-null  float64\n",
      " 10  Cholesterol    25000 non-null  float64\n",
      " 11  Albumin        25000 non-null  float64\n",
      " 12  Copper         25000 non-null  float64\n",
      " 13  Alk_Phos       25000 non-null  float64\n",
      " 14  SGOT           25000 non-null  float64\n",
      " 15  Tryglicerides  25000 non-null  float64\n",
      " 16  Platelets      25000 non-null  float64\n",
      " 17  Prothrombin    25000 non-null  float64\n",
      " 18  Stage          25000 non-null  int64  \n",
      "dtypes: float64(9), int64(3), object(7)\n",
      "memory usage: 3.6+ MB\n"
     ]
    }
   ],
   "source": [
    "pd.read_csv('Data/liver_cirrhosis.csv').info()"
   ]
  },
  {
   "cell_type": "code",
   "execution_count": 9,
   "metadata": {},
   "outputs": [],
   "source": [
    "data_dir = \"Data/\"\n",
    "goal=\"Make a classifier between the 3 values in Stage columns, split the dataset into .7 train, .15 validation and .15 testing\"\n",
    "eval=\"Use a report, the accuracy and f1-score\""
   ]
  },
  {
   "cell_type": "code",
   "execution_count": 10,
   "metadata": {},
   "outputs": [
    {
     "data": {
      "text/html": [
       "<pre style=\"white-space:pre;overflow-x:auto;line-height:normal;font-family:Menlo,'DejaVu Sans Mono',consolas,'Courier New',monospace\"></pre>\n"
      ],
      "text/plain": []
     },
     "metadata": {},
     "output_type": "display_data"
    }
   ],
   "source": [
    "exp = aide.Experiment(\n",
    "    data_dir=data_dir,\n",
    "    eval=eval,\n",
    "    goal=goal\n",
    ")"
   ]
  },
  {
   "cell_type": "code",
   "execution_count": 11,
   "metadata": {},
   "outputs": [
    {
     "name": "stderr",
     "output_type": "stream",
     "text": [
      "/Users/alejandro/Documents/Repositorios/alejandromadrid/.python-aide-venv/lib/python3.10/site-packages/AIDE/utils/tree_export.py:34: RuntimeWarning: invalid value encountered in divide\n",
      "  layout = (layout - layout.min(axis=0)) / (layout.max(axis=0) - layout.min(axis=0))\n"
     ]
    }
   ],
   "source": [
    "response = exp.run(steps=10)"
   ]
  },
  {
   "cell_type": "code",
   "execution_count": 15,
   "metadata": {},
   "outputs": [
    {
     "name": "stdout",
     "output_type": "stream",
     "text": [
      "Validación de la solución: 0.9547\n"
     ]
    }
   ],
   "source": [
    "print(f'Validación de la solución: {response.valid_metric}')"
   ]
  },
  {
   "cell_type": "code",
   "execution_count": 16,
   "metadata": {},
   "outputs": [
    {
     "name": "stdout",
     "output_type": "stream",
     "text": [
      "El código proporcionado es : \n",
      "\n",
      "import pandas as pd\n",
      "from sklearn.model_selection import train_test_split, GridSearchCV\n",
      "from sklearn.ensemble import RandomForestClassifier\n",
      "from sklearn.metrics import accuracy_score, classification_report\n",
      "from sklearn.preprocessing import LabelEncoder\n",
      "\n",
      "# Load data\n",
      "data = pd.read_csv(\"./input/liver_cirrhosis.csv\")\n",
      "\n",
      "# Encode categorical variables\n",
      "label_encoders = {}\n",
      "categorical_columns = data.select_dtypes(include=[\"object\"]).columns\n",
      "for col in categorical_columns:\n",
      "    le = LabelEncoder()\n",
      "    data[col] = le.fit_transform(data[col])\n",
      "    label_encoders[col] = le\n",
      "\n",
      "# Split data into features and target\n",
      "X = data.drop(\"Stage\", axis=1)\n",
      "y = data[\"Stage\"]\n",
      "\n",
      "# Split data into train, validation, and test sets\n",
      "X_train, X_temp, y_train, y_temp = train_test_split(\n",
      "    X, y, test_size=0.3, random_state=42, stratify=y\n",
      ")\n",
      "X_val, X_test, y_val, y_test = train_test_split(\n",
      "    X_temp, y_temp, test_size=0.5, random_state=42, stratify=y_temp\n",
      ")\n",
      "\n",
      "# Parameter grid for RandomForest\n",
      "param_grid = {\n",
      "    \"n_estimators\": [50, 100, 200],\n",
      "    \"max_depth\": [None, 10, 20, 30],\n",
      "    \"min_samples_split\": [2, 5, 10],\n",
      "}\n",
      "\n",
      "# Initialize and train the Random Forest classifier with GridSearchCV\n",
      "rf_classifier = RandomForestClassifier(random_state=42)\n",
      "grid_search = GridSearchCV(\n",
      "    estimator=rf_classifier, param_grid=param_grid, cv=5, scoring=\"accuracy\"\n",
      ")\n",
      "grid_search.fit(X_train, y_train)\n",
      "\n",
      "# Best estimator\n",
      "best_rf = grid_search.best_estimator_\n",
      "\n",
      "# Predict on validation set\n",
      "y_val_pred = best_rf.predict(X_val)\n",
      "\n",
      "# Evaluate the model\n",
      "accuracy = accuracy_score(y_val, y_val_pred)\n",
      "f1_scores = classification_report(y_val, y_val_pred, output_dict=True)[\"weighted avg\"][\n",
      "    \"f1-score\"\n",
      "]\n",
      "\n",
      "print(f\"Validation Accuracy: {accuracy:.4f}\")\n",
      "print(f\"Validation F1-Score: {f1_scores:.4f}\")\n",
      "\n",
      "# Prepare submission of test predictions\n",
      "y_test_pred = best_rf.predict(X_test)\n",
      "submission = pd.DataFrame({\"Stage\": y_test_pred})\n",
      "submission.to_csv(\"./working/submission.csv\", index=False)\n",
      "\n"
     ]
    }
   ],
   "source": [
    "print(f'El código proporcionado es : \\n\\n{response.code}')"
   ]
  },
  {
   "cell_type": "markdown",
   "metadata": {},
   "source": [
    "Tiempo de ejecución --> <label style=\"color:red\"> > 59min </label>"
   ]
  },
  {
   "cell_type": "markdown",
   "metadata": {},
   "source": [
    "Coste de ejecución --> <label style=\"color:red\">$0.45 </label>"
   ]
  },
  {
   "cell_type": "markdown",
   "metadata": {},
   "source": [
    "Ahora ejecutamos el código proporcionado para comprobar la solución de AIDE"
   ]
  },
  {
   "cell_type": "code",
   "execution_count": 17,
   "metadata": {},
   "outputs": [
    {
     "name": "stdout",
     "output_type": "stream",
     "text": [
      "Validation Accuracy: 0.9547\n",
      "Validation F1-Score: 0.9547\n"
     ]
    }
   ],
   "source": [
    "\n",
    "import pandas as pd\n",
    "from sklearn.model_selection import train_test_split, GridSearchCV\n",
    "from sklearn.ensemble import RandomForestClassifier\n",
    "from sklearn.metrics import accuracy_score, classification_report\n",
    "from sklearn.preprocessing import LabelEncoder\n",
    "\n",
    "# Load data\n",
    "data = pd.read_csv(\"./Data/liver_cirrhosis.csv\")\n",
    "\n",
    "# Encode categorical variables\n",
    "label_encoders = {}\n",
    "categorical_columns = data.select_dtypes(include=[\"object\"]).columns\n",
    "for col in categorical_columns:\n",
    "    le = LabelEncoder()\n",
    "    data[col] = le.fit_transform(data[col])\n",
    "    label_encoders[col] = le\n",
    "\n",
    "# Split data into features and target\n",
    "X = data.drop(\"Stage\", axis=1)\n",
    "y = data[\"Stage\"]\n",
    "\n",
    "# Split data into train, validation, and test sets\n",
    "X_train, X_temp, y_train, y_temp = train_test_split(\n",
    "    X, y, test_size=0.3, random_state=42, stratify=y\n",
    ")\n",
    "X_val, X_test, y_val, y_test = train_test_split(\n",
    "    X_temp, y_temp, test_size=0.5, random_state=42, stratify=y_temp\n",
    ")\n",
    "\n",
    "# Parameter grid for RandomForest\n",
    "param_grid = {\n",
    "    \"n_estimators\": [50, 100, 200],\n",
    "    \"max_depth\": [None, 10, 20, 30],\n",
    "    \"min_samples_split\": [2, 5, 10],\n",
    "}\n",
    "\n",
    "# Initialize and train the Random Forest classifier with GridSearchCV\n",
    "rf_classifier = RandomForestClassifier(random_state=42)\n",
    "grid_search = GridSearchCV(\n",
    "    estimator=rf_classifier, param_grid=param_grid, cv=5, scoring=\"accuracy\"\n",
    ")\n",
    "grid_search.fit(X_train, y_train)\n",
    "\n",
    "# Best estimator\n",
    "best_rf = grid_search.best_estimator_\n",
    "\n",
    "# Predict on validation set\n",
    "y_val_pred = best_rf.predict(X_val)\n",
    "\n",
    "# Evaluate the model\n",
    "accuracy = accuracy_score(y_val, y_val_pred)\n",
    "f1_scores = classification_report(y_val, y_val_pred, output_dict=True)[\"weighted avg\"][\n",
    "    \"f1-score\"\n",
    "]\n",
    "\n",
    "print(f\"Validation Accuracy: {accuracy:.4f}\")\n",
    "print(f\"Validation F1-Score: {f1_scores:.4f}\")\n",
    "\n",
    "# Prepare submission of test predictions\n",
    "y_test_pred = best_rf.predict(X_test)\n",
    "submission = pd.DataFrame({\"Stage\": y_test_pred})\n",
    "submission.to_csv(\"./Data/submission.csv\", index=False)\n"
   ]
  },
  {
   "cell_type": "code",
   "execution_count": 18,
   "metadata": {},
   "outputs": [
    {
     "name": "stdout",
     "output_type": "stream",
     "text": [
      "              precision    recall  f1-score   support\n",
      "\n",
      "           1       0.96      0.94      0.95      1240\n",
      "           2       0.94      0.95      0.95      1266\n",
      "           3       0.96      0.97      0.97      1244\n",
      "\n",
      "    accuracy                           0.95      3750\n",
      "   macro avg       0.95      0.95      0.95      3750\n",
      "weighted avg       0.95      0.95      0.95      3750\n",
      "\n"
     ]
    }
   ],
   "source": [
    "print(classification_report(y_val, y_val_pred))"
   ]
  }
 ],
 "metadata": {
  "kernelspec": {
   "display_name": ".python-aide-venv",
   "language": "python",
   "name": "python3"
  },
  "language_info": {
   "codemirror_mode": {
    "name": "ipython",
    "version": 3
   },
   "file_extension": ".py",
   "mimetype": "text/x-python",
   "name": "python",
   "nbconvert_exporter": "python",
   "pygments_lexer": "ipython3",
   "version": "3.10.0"
  }
 },
 "nbformat": 4,
 "nbformat_minor": 2
}
