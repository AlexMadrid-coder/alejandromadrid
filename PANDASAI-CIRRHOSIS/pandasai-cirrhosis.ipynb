{
 "cells": [
  {
   "cell_type": "markdown",
   "metadata": {},
   "source": [
    "## Problema de clasificación de estado de Cirrosis usando PandasAI"
   ]
  },
  {
   "cell_type": "code",
   "execution_count": 1,
   "metadata": {},
   "outputs": [],
   "source": [
    "import pandas as pd\n",
    "from pandasai import SmartDataframe\n",
    "from dotenv import dotenv_values\n",
    "import os\n",
    "# Environment key\n",
    "#keys = dotenv_values(\"../.env-token\")\n",
    "#os.environ[\"PANDASAI_API_KEY\"] = keys[\"PANDASAI_API_KEY\"]"
   ]
  },
  {
   "cell_type": "markdown",
   "metadata": {},
   "source": [
    "El código superior que está comentado en los imports es para poder cargar la variable con la clave de la api de PandasAI que por alguna razón no me la quiere leer desde la consola.\n",
    "\n",
    "Tenemos el dataset de Kaggle <a href=\"https://www.kaggle.com/datasets/fedesoriano/cirrhosis-prediction-dataset\">Cirrhosis Prediction Dataset</a> sobre el que queremos predecir la stage en la que podemos encontrarnos de primera mano cuando un paciente llega al hospital, para ello tenemos que crear un clasificador sobre la columna 'stage' del dataset."
   ]
  },
  {
   "cell_type": "markdown",
   "metadata": {},
   "source": [
    "Voy a utilizar el LLM default --> BambooLM para poder hacer una comparación con AIDE "
   ]
  },
  {
   "cell_type": "code",
   "execution_count": 2,
   "metadata": {},
   "outputs": [
    {
     "name": "stdout",
     "output_type": "stream",
     "text": [
      "<class 'pandas.core.frame.DataFrame'>\n",
      "RangeIndex: 25000 entries, 0 to 24999\n",
      "Data columns (total 19 columns):\n",
      " #   Column         Non-Null Count  Dtype  \n",
      "---  ------         --------------  -----  \n",
      " 0   N_Days         25000 non-null  int64  \n",
      " 1   Status         25000 non-null  object \n",
      " 2   Drug           25000 non-null  object \n",
      " 3   Age            25000 non-null  int64  \n",
      " 4   Sex            25000 non-null  object \n",
      " 5   Ascites        25000 non-null  object \n",
      " 6   Hepatomegaly   25000 non-null  object \n",
      " 7   Spiders        25000 non-null  object \n",
      " 8   Edema          25000 non-null  object \n",
      " 9   Bilirubin      25000 non-null  float64\n",
      " 10  Cholesterol    25000 non-null  float64\n",
      " 11  Albumin        25000 non-null  float64\n",
      " 12  Copper         25000 non-null  float64\n",
      " 13  Alk_Phos       25000 non-null  float64\n",
      " 14  SGOT           25000 non-null  float64\n",
      " 15  Tryglicerides  25000 non-null  float64\n",
      " 16  Platelets      25000 non-null  float64\n",
      " 17  Prothrombin    25000 non-null  float64\n",
      " 18  Stage          25000 non-null  int64  \n",
      "dtypes: float64(9), int64(3), object(7)\n",
      "memory usage: 3.6+ MB\n"
     ]
    }
   ],
   "source": [
    "file = pd.read_csv('Data/liver_cirrhosis.csv')\n",
    "file.info()"
   ]
  },
  {
   "cell_type": "code",
   "execution_count": 19,
   "metadata": {},
   "outputs": [],
   "source": [
    "texto = \"Make a classifier for the 3 values in Stage Column\""
   ]
  },
  {
   "cell_type": "code",
   "execution_count": 20,
   "metadata": {},
   "outputs": [],
   "source": [
    "smartDataframe = SmartDataframe(file, description=\"An isolated dataset with cirrhosis patients data\")"
   ]
  },
  {
   "cell_type": "code",
   "execution_count": 21,
   "metadata": {},
   "outputs": [
    {
     "name": "stderr",
     "output_type": "stream",
     "text": [
      "Traceback (most recent call last):\n",
      "  File \"/Users/alejandro/Documents/Repositorios/alejandromadrid/.python-pandasai-venv/lib/python3.10/site-packages/pandasai/pipelines/chat/generate_chat_pipeline.py\", line 310, in run\n",
      "    ).run(input)\n",
      "  File \"/Users/alejandro/Documents/Repositorios/alejandromadrid/.python-pandasai-venv/lib/python3.10/site-packages/pandasai/pipelines/pipeline.py\", line 137, in run\n",
      "    raise e\n",
      "  File \"/Users/alejandro/Documents/Repositorios/alejandromadrid/.python-pandasai-venv/lib/python3.10/site-packages/pandasai/pipelines/pipeline.py\", line 101, in run\n",
      "    step_output = logic.execute(\n",
      "  File \"/Users/alejandro/Documents/Repositorios/alejandromadrid/.python-pandasai-venv/lib/python3.10/site-packages/pandasai/pipelines/chat/code_execution.py\", line 113, in execute\n",
      "    raise e\n",
      "  File \"/Users/alejandro/Documents/Repositorios/alejandromadrid/.python-pandasai-venv/lib/python3.10/site-packages/pandasai/pipelines/chat/code_execution.py\", line 85, in execute\n",
      "    result = self.execute_code(code_to_run, code_context)\n",
      "  File \"/Users/alejandro/Documents/Repositorios/alejandromadrid/.python-pandasai-venv/lib/python3.10/site-packages/pandasai/pipelines/chat/code_execution.py\", line 171, in execute_code\n",
      "    exec(code, environment)\n",
      "  File \"<string>\", line 7, in <module>\n",
      "  File \"/Users/alejandro/Documents/Repositorios/alejandromadrid/.python-pandasai-venv/lib/python3.10/site-packages/sklearn/base.py\", line 1473, in wrapper\n",
      "    return fit_method(estimator, *args, **kwargs)\n",
      "  File \"/Users/alejandro/Documents/Repositorios/alejandromadrid/.python-pandasai-venv/lib/python3.10/site-packages/sklearn/ensemble/_forest.py\", line 363, in fit\n",
      "    X, y = self._validate_data(\n",
      "  File \"/Users/alejandro/Documents/Repositorios/alejandromadrid/.python-pandasai-venv/lib/python3.10/site-packages/sklearn/base.py\", line 650, in _validate_data\n",
      "    X, y = check_X_y(X, y, **check_params)\n",
      "  File \"/Users/alejandro/Documents/Repositorios/alejandromadrid/.python-pandasai-venv/lib/python3.10/site-packages/sklearn/utils/validation.py\", line 1273, in check_X_y\n",
      "    X = check_array(\n",
      "  File \"/Users/alejandro/Documents/Repositorios/alejandromadrid/.python-pandasai-venv/lib/python3.10/site-packages/sklearn/utils/validation.py\", line 1007, in check_array\n",
      "    array = _asarray_with_order(array, order=order, dtype=dtype, xp=xp)\n",
      "  File \"/Users/alejandro/Documents/Repositorios/alejandromadrid/.python-pandasai-venv/lib/python3.10/site-packages/sklearn/utils/_array_api.py\", line 746, in _asarray_with_order\n",
      "    array = numpy.asarray(array, order=order, dtype=dtype)\n",
      "  File \"/Users/alejandro/Documents/Repositorios/alejandromadrid/.python-pandasai-venv/lib/python3.10/site-packages/pandas/core/generic.py\", line 2070, in __array__\n",
      "    return np.asarray(self._values, dtype=dtype)\n",
      "ValueError: could not convert string to float: 'C'\n"
     ]
    },
    {
     "data": {
      "text/plain": [
       "\"Unfortunately, I was not able to answer your question, because of the following error:\\n\\ncould not convert string to float: 'C'\\n\""
      ]
     },
     "execution_count": 21,
     "metadata": {},
     "output_type": "execute_result"
    }
   ],
   "source": [
    "response  = smartDataframe.chat(\"Make a classifier for the 3 values in Stage Column\")\n",
    "response"
   ]
  },
  {
   "cell_type": "markdown",
   "metadata": {},
   "source": [
    "Como no ha logrado hacer lo pedido debido a que no es capaz de pasar datos del tipo Object a Floats (hace una conversión directa a String pero no es capaz de hacer la segunda a Float --> aplicando un Encoder) vamos a solucionar el error de forma manual viendo donde ha fallado exactamente y seguimos con la ejecución "
   ]
  },
  {
   "cell_type": "code",
   "execution_count": 23,
   "metadata": {},
   "outputs": [
    {
     "name": "stdout",
     "output_type": "stream",
     "text": [
      "df = pd.concat(dfs)\n",
      "df['Stage'] = df['Stage'].map({'1': 1, '2': 2, '3': 3})\n",
      "X = df.drop(columns=['Stage'])\n",
      "y = df['Stage']\n",
      "X_train, X_test, y_train, y_test = train_test_split(X, y, test_size=0.2, random_state=42)\n",
      "rf_classifier = RandomForestClassifier()\n",
      "rf_classifier.fit(X_train, y_train)\n",
      "y_pred = rf_classifier.predict(X_test)\n",
      "accuracy = accuracy_score(y_test, y_pred)\n",
      "result = {'type': 'string', 'value': f'The accuracy of the classifier for the Stage column is {accuracy}.'}\n"
     ]
    }
   ],
   "source": [
    "print(smartDataframe.last_code_executed)"
   ]
  },
  {
   "cell_type": "markdown",
   "metadata": {},
   "source": [
    "Probamos el código recién ejecutado"
   ]
  },
  {
   "cell_type": "code",
   "execution_count": 6,
   "metadata": {},
   "outputs": [],
   "source": [
    "# ponermos los imports que no ofrece la solución de PandaAI\n",
    "from sklearn.model_selection import train_test_split\n",
    "from sklearn.ensemble import RandomForestClassifier\n",
    "from sklearn.metrics import accuracy_score"
   ]
  },
  {
   "cell_type": "code",
   "execution_count": 29,
   "metadata": {},
   "outputs": [
    {
     "ename": "ValueError",
     "evalue": "could not convert string to float: 'C'",
     "output_type": "error",
     "traceback": [
      "\u001b[0;31m---------------------------------------------------------------------------\u001b[0m",
      "\u001b[0;31mValueError\u001b[0m                                Traceback (most recent call last)",
      "\u001b[0;32m/var/folders/1l/cxqhmnt11g75c057bvpp1d4m0000gn/T/ipykernel_3915/2103260739.py\u001b[0m in \u001b[0;36m?\u001b[0;34m()\u001b[0m\n\u001b[1;32m      3\u001b[0m \u001b[0mX\u001b[0m \u001b[0;34m=\u001b[0m \u001b[0mdf\u001b[0m\u001b[0;34m.\u001b[0m\u001b[0mdrop\u001b[0m\u001b[0;34m(\u001b[0m\u001b[0mcolumns\u001b[0m\u001b[0;34m=\u001b[0m\u001b[0;34m[\u001b[0m\u001b[0;34m'Stage'\u001b[0m\u001b[0;34m]\u001b[0m\u001b[0;34m)\u001b[0m\u001b[0;34m\u001b[0m\u001b[0;34m\u001b[0m\u001b[0m\n\u001b[1;32m      4\u001b[0m \u001b[0my\u001b[0m \u001b[0;34m=\u001b[0m \u001b[0mdf\u001b[0m\u001b[0;34m[\u001b[0m\u001b[0;34m'Stage'\u001b[0m\u001b[0;34m]\u001b[0m\u001b[0;34m\u001b[0m\u001b[0;34m\u001b[0m\u001b[0m\n\u001b[1;32m      5\u001b[0m \u001b[0mX_train\u001b[0m\u001b[0;34m,\u001b[0m \u001b[0mX_test\u001b[0m\u001b[0;34m,\u001b[0m \u001b[0my_train\u001b[0m\u001b[0;34m,\u001b[0m \u001b[0my_test\u001b[0m \u001b[0;34m=\u001b[0m \u001b[0mtrain_test_split\u001b[0m\u001b[0;34m(\u001b[0m\u001b[0mX\u001b[0m\u001b[0;34m,\u001b[0m \u001b[0my\u001b[0m\u001b[0;34m,\u001b[0m \u001b[0mtest_size\u001b[0m\u001b[0;34m=\u001b[0m\u001b[0;36m0.2\u001b[0m\u001b[0;34m,\u001b[0m \u001b[0mrandom_state\u001b[0m\u001b[0;34m=\u001b[0m\u001b[0;36m42\u001b[0m\u001b[0;34m)\u001b[0m\u001b[0;34m\u001b[0m\u001b[0;34m\u001b[0m\u001b[0m\n\u001b[1;32m      6\u001b[0m \u001b[0mrf_classifier\u001b[0m \u001b[0;34m=\u001b[0m \u001b[0mRandomForestClassifier\u001b[0m\u001b[0;34m(\u001b[0m\u001b[0;34m)\u001b[0m\u001b[0;34m\u001b[0m\u001b[0;34m\u001b[0m\u001b[0m\n\u001b[0;32m----> 7\u001b[0;31m \u001b[0mrf_classifier\u001b[0m\u001b[0;34m.\u001b[0m\u001b[0mfit\u001b[0m\u001b[0;34m(\u001b[0m\u001b[0mX_train\u001b[0m\u001b[0;34m,\u001b[0m \u001b[0my_train\u001b[0m\u001b[0;34m)\u001b[0m\u001b[0;34m\u001b[0m\u001b[0;34m\u001b[0m\u001b[0m\n\u001b[0m\u001b[1;32m      8\u001b[0m \u001b[0my_pred\u001b[0m \u001b[0;34m=\u001b[0m \u001b[0mrf_classifier\u001b[0m\u001b[0;34m.\u001b[0m\u001b[0mpredict\u001b[0m\u001b[0;34m(\u001b[0m\u001b[0mX_test\u001b[0m\u001b[0;34m)\u001b[0m\u001b[0;34m\u001b[0m\u001b[0;34m\u001b[0m\u001b[0m\n\u001b[1;32m      9\u001b[0m \u001b[0maccuracy\u001b[0m \u001b[0;34m=\u001b[0m \u001b[0maccuracy_score\u001b[0m\u001b[0;34m(\u001b[0m\u001b[0my_test\u001b[0m\u001b[0;34m,\u001b[0m \u001b[0my_pred\u001b[0m\u001b[0;34m)\u001b[0m\u001b[0;34m\u001b[0m\u001b[0;34m\u001b[0m\u001b[0m\n\u001b[1;32m     10\u001b[0m \u001b[0mresult\u001b[0m \u001b[0;34m=\u001b[0m \u001b[0;34m{\u001b[0m\u001b[0;34m'type'\u001b[0m\u001b[0;34m:\u001b[0m \u001b[0;34m'string'\u001b[0m\u001b[0;34m,\u001b[0m \u001b[0;34m'value'\u001b[0m\u001b[0;34m:\u001b[0m \u001b[0;34mf'The accuracy of the classifier for the Stage column is {accuracy}.'\u001b[0m\u001b[0;34m}\u001b[0m\u001b[0;34m\u001b[0m\u001b[0;34m\u001b[0m\u001b[0m\n",
      "\u001b[0;32m~/Documents/Repositorios/alejandromadrid/.python-pandasai-venv/lib/python3.10/site-packages/sklearn/base.py\u001b[0m in \u001b[0;36m?\u001b[0;34m(estimator, *args, **kwargs)\u001b[0m\n\u001b[1;32m   1469\u001b[0m                 skip_parameter_validation=(\n\u001b[1;32m   1470\u001b[0m                     \u001b[0mprefer_skip_nested_validation\u001b[0m \u001b[0;32mor\u001b[0m \u001b[0mglobal_skip_validation\u001b[0m\u001b[0;34m\u001b[0m\u001b[0;34m\u001b[0m\u001b[0m\n\u001b[1;32m   1471\u001b[0m                 )\n\u001b[1;32m   1472\u001b[0m             ):\n\u001b[0;32m-> 1473\u001b[0;31m                 \u001b[0;32mreturn\u001b[0m \u001b[0mfit_method\u001b[0m\u001b[0;34m(\u001b[0m\u001b[0mestimator\u001b[0m\u001b[0;34m,\u001b[0m \u001b[0;34m*\u001b[0m\u001b[0margs\u001b[0m\u001b[0;34m,\u001b[0m \u001b[0;34m**\u001b[0m\u001b[0mkwargs\u001b[0m\u001b[0;34m)\u001b[0m\u001b[0;34m\u001b[0m\u001b[0;34m\u001b[0m\u001b[0m\n\u001b[0m",
      "\u001b[0;32m~/Documents/Repositorios/alejandromadrid/.python-pandasai-venv/lib/python3.10/site-packages/sklearn/ensemble/_forest.py\u001b[0m in \u001b[0;36m?\u001b[0;34m(self, X, y, sample_weight)\u001b[0m\n\u001b[1;32m    359\u001b[0m         \u001b[0;31m# Validate or convert input data\u001b[0m\u001b[0;34m\u001b[0m\u001b[0;34m\u001b[0m\u001b[0m\n\u001b[1;32m    360\u001b[0m         \u001b[0;32mif\u001b[0m \u001b[0missparse\u001b[0m\u001b[0;34m(\u001b[0m\u001b[0my\u001b[0m\u001b[0;34m)\u001b[0m\u001b[0;34m:\u001b[0m\u001b[0;34m\u001b[0m\u001b[0;34m\u001b[0m\u001b[0m\n\u001b[1;32m    361\u001b[0m             \u001b[0;32mraise\u001b[0m \u001b[0mValueError\u001b[0m\u001b[0;34m(\u001b[0m\u001b[0;34m\"sparse multilabel-indicator for y is not supported.\"\u001b[0m\u001b[0;34m)\u001b[0m\u001b[0;34m\u001b[0m\u001b[0;34m\u001b[0m\u001b[0m\n\u001b[1;32m    362\u001b[0m \u001b[0;34m\u001b[0m\u001b[0m\n\u001b[0;32m--> 363\u001b[0;31m         X, y = self._validate_data(\n\u001b[0m\u001b[1;32m    364\u001b[0m             \u001b[0mX\u001b[0m\u001b[0;34m,\u001b[0m\u001b[0;34m\u001b[0m\u001b[0;34m\u001b[0m\u001b[0m\n\u001b[1;32m    365\u001b[0m             \u001b[0my\u001b[0m\u001b[0;34m,\u001b[0m\u001b[0;34m\u001b[0m\u001b[0;34m\u001b[0m\u001b[0m\n\u001b[1;32m    366\u001b[0m             \u001b[0mmulti_output\u001b[0m\u001b[0;34m=\u001b[0m\u001b[0;32mTrue\u001b[0m\u001b[0;34m,\u001b[0m\u001b[0;34m\u001b[0m\u001b[0;34m\u001b[0m\u001b[0m\n",
      "\u001b[0;32m~/Documents/Repositorios/alejandromadrid/.python-pandasai-venv/lib/python3.10/site-packages/sklearn/base.py\u001b[0m in \u001b[0;36m?\u001b[0;34m(self, X, y, reset, validate_separately, cast_to_ndarray, **check_params)\u001b[0m\n\u001b[1;32m    646\u001b[0m                 \u001b[0;32mif\u001b[0m \u001b[0;34m\"estimator\"\u001b[0m \u001b[0;32mnot\u001b[0m \u001b[0;32min\u001b[0m \u001b[0mcheck_y_params\u001b[0m\u001b[0;34m:\u001b[0m\u001b[0;34m\u001b[0m\u001b[0;34m\u001b[0m\u001b[0m\n\u001b[1;32m    647\u001b[0m                     \u001b[0mcheck_y_params\u001b[0m \u001b[0;34m=\u001b[0m \u001b[0;34m{\u001b[0m\u001b[0;34m**\u001b[0m\u001b[0mdefault_check_params\u001b[0m\u001b[0;34m,\u001b[0m \u001b[0;34m**\u001b[0m\u001b[0mcheck_y_params\u001b[0m\u001b[0;34m}\u001b[0m\u001b[0;34m\u001b[0m\u001b[0;34m\u001b[0m\u001b[0m\n\u001b[1;32m    648\u001b[0m                 \u001b[0my\u001b[0m \u001b[0;34m=\u001b[0m \u001b[0mcheck_array\u001b[0m\u001b[0;34m(\u001b[0m\u001b[0my\u001b[0m\u001b[0;34m,\u001b[0m \u001b[0minput_name\u001b[0m\u001b[0;34m=\u001b[0m\u001b[0;34m\"y\"\u001b[0m\u001b[0;34m,\u001b[0m \u001b[0;34m**\u001b[0m\u001b[0mcheck_y_params\u001b[0m\u001b[0;34m)\u001b[0m\u001b[0;34m\u001b[0m\u001b[0;34m\u001b[0m\u001b[0m\n\u001b[1;32m    649\u001b[0m             \u001b[0;32melse\u001b[0m\u001b[0;34m:\u001b[0m\u001b[0;34m\u001b[0m\u001b[0;34m\u001b[0m\u001b[0m\n\u001b[0;32m--> 650\u001b[0;31m                 \u001b[0mX\u001b[0m\u001b[0;34m,\u001b[0m \u001b[0my\u001b[0m \u001b[0;34m=\u001b[0m \u001b[0mcheck_X_y\u001b[0m\u001b[0;34m(\u001b[0m\u001b[0mX\u001b[0m\u001b[0;34m,\u001b[0m \u001b[0my\u001b[0m\u001b[0;34m,\u001b[0m \u001b[0;34m**\u001b[0m\u001b[0mcheck_params\u001b[0m\u001b[0;34m)\u001b[0m\u001b[0;34m\u001b[0m\u001b[0;34m\u001b[0m\u001b[0m\n\u001b[0m\u001b[1;32m    651\u001b[0m             \u001b[0mout\u001b[0m \u001b[0;34m=\u001b[0m \u001b[0mX\u001b[0m\u001b[0;34m,\u001b[0m \u001b[0my\u001b[0m\u001b[0;34m\u001b[0m\u001b[0;34m\u001b[0m\u001b[0m\n\u001b[1;32m    652\u001b[0m \u001b[0;34m\u001b[0m\u001b[0m\n\u001b[1;32m    653\u001b[0m         \u001b[0;32mif\u001b[0m \u001b[0;32mnot\u001b[0m \u001b[0mno_val_X\u001b[0m \u001b[0;32mand\u001b[0m \u001b[0mcheck_params\u001b[0m\u001b[0;34m.\u001b[0m\u001b[0mget\u001b[0m\u001b[0;34m(\u001b[0m\u001b[0;34m\"ensure_2d\"\u001b[0m\u001b[0;34m,\u001b[0m \u001b[0;32mTrue\u001b[0m\u001b[0;34m)\u001b[0m\u001b[0;34m:\u001b[0m\u001b[0;34m\u001b[0m\u001b[0;34m\u001b[0m\u001b[0m\n",
      "\u001b[0;32m~/Documents/Repositorios/alejandromadrid/.python-pandasai-venv/lib/python3.10/site-packages/sklearn/utils/validation.py\u001b[0m in \u001b[0;36m?\u001b[0;34m(X, y, accept_sparse, accept_large_sparse, dtype, order, copy, force_all_finite, ensure_2d, allow_nd, multi_output, ensure_min_samples, ensure_min_features, y_numeric, estimator)\u001b[0m\n\u001b[1;32m   1269\u001b[0m         raise ValueError(\n\u001b[1;32m   1270\u001b[0m             \u001b[0;34mf\"{estimator_name} requires y to be passed, but the target y is None\"\u001b[0m\u001b[0;34m\u001b[0m\u001b[0;34m\u001b[0m\u001b[0m\n\u001b[1;32m   1271\u001b[0m         )\n\u001b[1;32m   1272\u001b[0m \u001b[0;34m\u001b[0m\u001b[0m\n\u001b[0;32m-> 1273\u001b[0;31m     X = check_array(\n\u001b[0m\u001b[1;32m   1274\u001b[0m         \u001b[0mX\u001b[0m\u001b[0;34m,\u001b[0m\u001b[0;34m\u001b[0m\u001b[0;34m\u001b[0m\u001b[0m\n\u001b[1;32m   1275\u001b[0m         \u001b[0maccept_sparse\u001b[0m\u001b[0;34m=\u001b[0m\u001b[0maccept_sparse\u001b[0m\u001b[0;34m,\u001b[0m\u001b[0;34m\u001b[0m\u001b[0;34m\u001b[0m\u001b[0m\n\u001b[1;32m   1276\u001b[0m         \u001b[0maccept_large_sparse\u001b[0m\u001b[0;34m=\u001b[0m\u001b[0maccept_large_sparse\u001b[0m\u001b[0;34m,\u001b[0m\u001b[0;34m\u001b[0m\u001b[0;34m\u001b[0m\u001b[0m\n",
      "\u001b[0;32m~/Documents/Repositorios/alejandromadrid/.python-pandasai-venv/lib/python3.10/site-packages/sklearn/utils/validation.py\u001b[0m in \u001b[0;36m?\u001b[0;34m(array, accept_sparse, accept_large_sparse, dtype, order, copy, force_all_finite, ensure_2d, allow_nd, ensure_min_samples, ensure_min_features, estimator, input_name)\u001b[0m\n\u001b[1;32m   1004\u001b[0m                         )\n\u001b[1;32m   1005\u001b[0m                     \u001b[0marray\u001b[0m \u001b[0;34m=\u001b[0m \u001b[0mxp\u001b[0m\u001b[0;34m.\u001b[0m\u001b[0mastype\u001b[0m\u001b[0;34m(\u001b[0m\u001b[0marray\u001b[0m\u001b[0;34m,\u001b[0m \u001b[0mdtype\u001b[0m\u001b[0;34m,\u001b[0m \u001b[0mcopy\u001b[0m\u001b[0;34m=\u001b[0m\u001b[0;32mFalse\u001b[0m\u001b[0;34m)\u001b[0m\u001b[0;34m\u001b[0m\u001b[0;34m\u001b[0m\u001b[0m\n\u001b[1;32m   1006\u001b[0m                 \u001b[0;32melse\u001b[0m\u001b[0;34m:\u001b[0m\u001b[0;34m\u001b[0m\u001b[0;34m\u001b[0m\u001b[0m\n\u001b[1;32m   1007\u001b[0m                     \u001b[0marray\u001b[0m \u001b[0;34m=\u001b[0m \u001b[0m_asarray_with_order\u001b[0m\u001b[0;34m(\u001b[0m\u001b[0marray\u001b[0m\u001b[0;34m,\u001b[0m \u001b[0morder\u001b[0m\u001b[0;34m=\u001b[0m\u001b[0morder\u001b[0m\u001b[0;34m,\u001b[0m \u001b[0mdtype\u001b[0m\u001b[0;34m=\u001b[0m\u001b[0mdtype\u001b[0m\u001b[0;34m,\u001b[0m \u001b[0mxp\u001b[0m\u001b[0;34m=\u001b[0m\u001b[0mxp\u001b[0m\u001b[0;34m)\u001b[0m\u001b[0;34m\u001b[0m\u001b[0;34m\u001b[0m\u001b[0m\n\u001b[0;32m-> 1008\u001b[0;31m             \u001b[0;32mexcept\u001b[0m \u001b[0mComplexWarning\u001b[0m \u001b[0;32mas\u001b[0m \u001b[0mcomplex_warning\u001b[0m\u001b[0;34m:\u001b[0m\u001b[0;34m\u001b[0m\u001b[0;34m\u001b[0m\u001b[0m\n\u001b[0m\u001b[1;32m   1009\u001b[0m                 raise ValueError(\n\u001b[1;32m   1010\u001b[0m                     \u001b[0;34m\"Complex data not supported\\n{}\\n\"\u001b[0m\u001b[0;34m.\u001b[0m\u001b[0mformat\u001b[0m\u001b[0;34m(\u001b[0m\u001b[0marray\u001b[0m\u001b[0;34m)\u001b[0m\u001b[0;34m\u001b[0m\u001b[0;34m\u001b[0m\u001b[0m\n\u001b[1;32m   1011\u001b[0m                 ) from complex_warning\n",
      "\u001b[0;32m~/Documents/Repositorios/alejandromadrid/.python-pandasai-venv/lib/python3.10/site-packages/sklearn/utils/_array_api.py\u001b[0m in \u001b[0;36m?\u001b[0;34m(array, dtype, order, copy, xp, device)\u001b[0m\n\u001b[1;32m    742\u001b[0m         \u001b[0;31m# Use NumPy API to support order\u001b[0m\u001b[0;34m\u001b[0m\u001b[0;34m\u001b[0m\u001b[0m\n\u001b[1;32m    743\u001b[0m         \u001b[0;32mif\u001b[0m \u001b[0mcopy\u001b[0m \u001b[0;32mis\u001b[0m \u001b[0;32mTrue\u001b[0m\u001b[0;34m:\u001b[0m\u001b[0;34m\u001b[0m\u001b[0;34m\u001b[0m\u001b[0m\n\u001b[1;32m    744\u001b[0m             \u001b[0marray\u001b[0m \u001b[0;34m=\u001b[0m \u001b[0mnumpy\u001b[0m\u001b[0;34m.\u001b[0m\u001b[0marray\u001b[0m\u001b[0;34m(\u001b[0m\u001b[0marray\u001b[0m\u001b[0;34m,\u001b[0m \u001b[0morder\u001b[0m\u001b[0;34m=\u001b[0m\u001b[0morder\u001b[0m\u001b[0;34m,\u001b[0m \u001b[0mdtype\u001b[0m\u001b[0;34m=\u001b[0m\u001b[0mdtype\u001b[0m\u001b[0;34m)\u001b[0m\u001b[0;34m\u001b[0m\u001b[0;34m\u001b[0m\u001b[0m\n\u001b[1;32m    745\u001b[0m         \u001b[0;32melse\u001b[0m\u001b[0;34m:\u001b[0m\u001b[0;34m\u001b[0m\u001b[0;34m\u001b[0m\u001b[0m\n\u001b[0;32m--> 746\u001b[0;31m             \u001b[0marray\u001b[0m \u001b[0;34m=\u001b[0m \u001b[0mnumpy\u001b[0m\u001b[0;34m.\u001b[0m\u001b[0masarray\u001b[0m\u001b[0;34m(\u001b[0m\u001b[0marray\u001b[0m\u001b[0;34m,\u001b[0m \u001b[0morder\u001b[0m\u001b[0;34m=\u001b[0m\u001b[0morder\u001b[0m\u001b[0;34m,\u001b[0m \u001b[0mdtype\u001b[0m\u001b[0;34m=\u001b[0m\u001b[0mdtype\u001b[0m\u001b[0;34m)\u001b[0m\u001b[0;34m\u001b[0m\u001b[0;34m\u001b[0m\u001b[0m\n\u001b[0m\u001b[1;32m    747\u001b[0m \u001b[0;34m\u001b[0m\u001b[0m\n\u001b[1;32m    748\u001b[0m         \u001b[0;31m# At this point array is a NumPy ndarray. We convert it to an array\u001b[0m\u001b[0;34m\u001b[0m\u001b[0;34m\u001b[0m\u001b[0m\n\u001b[1;32m    749\u001b[0m         \u001b[0;31m# container that is consistent with the input's namespace.\u001b[0m\u001b[0;34m\u001b[0m\u001b[0;34m\u001b[0m\u001b[0m\n",
      "\u001b[0;32m~/Documents/Repositorios/alejandromadrid/.python-pandasai-venv/lib/python3.10/site-packages/pandas/core/generic.py\u001b[0m in \u001b[0;36m?\u001b[0;34m(self, dtype)\u001b[0m\n\u001b[1;32m   2069\u001b[0m     \u001b[0;32mdef\u001b[0m \u001b[0m__array__\u001b[0m\u001b[0;34m(\u001b[0m\u001b[0mself\u001b[0m\u001b[0;34m,\u001b[0m \u001b[0mdtype\u001b[0m\u001b[0;34m:\u001b[0m \u001b[0mnpt\u001b[0m\u001b[0;34m.\u001b[0m\u001b[0mDTypeLike\u001b[0m \u001b[0;34m|\u001b[0m \u001b[0;32mNone\u001b[0m \u001b[0;34m=\u001b[0m \u001b[0;32mNone\u001b[0m\u001b[0;34m)\u001b[0m \u001b[0;34m->\u001b[0m \u001b[0mnp\u001b[0m\u001b[0;34m.\u001b[0m\u001b[0mndarray\u001b[0m\u001b[0;34m:\u001b[0m\u001b[0;34m\u001b[0m\u001b[0;34m\u001b[0m\u001b[0m\n\u001b[0;32m-> 2070\u001b[0;31m         \u001b[0;32mreturn\u001b[0m \u001b[0mnp\u001b[0m\u001b[0;34m.\u001b[0m\u001b[0masarray\u001b[0m\u001b[0;34m(\u001b[0m\u001b[0mself\u001b[0m\u001b[0;34m.\u001b[0m\u001b[0m_values\u001b[0m\u001b[0;34m,\u001b[0m \u001b[0mdtype\u001b[0m\u001b[0;34m=\u001b[0m\u001b[0mdtype\u001b[0m\u001b[0;34m)\u001b[0m\u001b[0;34m\u001b[0m\u001b[0;34m\u001b[0m\u001b[0m\n\u001b[0m",
      "\u001b[0;31mValueError\u001b[0m: could not convert string to float: 'C'"
     ]
    }
   ],
   "source": [
    "\n",
    "df = file\n",
    "df['Stage'] = df['Stage'].map({'1': 1, '2': 2, '3': 3})\n",
    "X = df.drop(columns=['Stage'])\n",
    "y = df['Stage']\n",
    "X_train, X_test, y_train, y_test = train_test_split(X, y, test_size=0.2, random_state=42)\n",
    "rf_classifier = RandomForestClassifier()\n",
    "rf_classifier.fit(X_train, y_train)\n",
    "y_pred = rf_classifier.predict(X_test)\n",
    "accuracy = accuracy_score(y_test, y_pred)\n",
    "result = {'type': 'string', 'value': f'The accuracy of the classifier for the Stage column is {accuracy}.'}"
   ]
  },
  {
   "cell_type": "markdown",
   "metadata": {},
   "source": [
    "### Como solucionar el error\n",
    "\n",
    "Como no hemos conseguido que haga un encoder y luego haga el entrenamiento de modelo. vamos a pedirle que haga un encoder de las columnas tipo objeto de nuestro dataset"
   ]
  },
  {
   "cell_type": "code",
   "execution_count": 3,
   "metadata": {},
   "outputs": [
    {
     "name": "stdout",
     "output_type": "stream",
     "text": [
      "<class 'pandas.core.frame.DataFrame'>\n",
      "RangeIndex: 25000 entries, 0 to 24999\n",
      "Data columns (total 19 columns):\n",
      " #   Column         Non-Null Count  Dtype  \n",
      "---  ------         --------------  -----  \n",
      " 0   N_Days         25000 non-null  int64  \n",
      " 1   Status         25000 non-null  object \n",
      " 2   Drug           25000 non-null  object \n",
      " 3   Age            25000 non-null  int64  \n",
      " 4   Sex            25000 non-null  object \n",
      " 5   Ascites        25000 non-null  object \n",
      " 6   Hepatomegaly   25000 non-null  object \n",
      " 7   Spiders        25000 non-null  object \n",
      " 8   Edema          25000 non-null  object \n",
      " 9   Bilirubin      25000 non-null  float64\n",
      " 10  Cholesterol    25000 non-null  float64\n",
      " 11  Albumin        25000 non-null  float64\n",
      " 12  Copper         25000 non-null  float64\n",
      " 13  Alk_Phos       25000 non-null  float64\n",
      " 14  SGOT           25000 non-null  float64\n",
      " 15  Tryglicerides  25000 non-null  float64\n",
      " 16  Platelets      25000 non-null  float64\n",
      " 17  Prothrombin    25000 non-null  float64\n",
      " 18  Stage          25000 non-null  int64  \n",
      "dtypes: float64(9), int64(3), object(7)\n",
      "memory usage: 3.6+ MB\n"
     ]
    }
   ],
   "source": [
    "file.info()"
   ]
  },
  {
   "cell_type": "code",
   "execution_count": 32,
   "metadata": {},
   "outputs": [
    {
     "data": {
      "text/html": [
       "<div>\n",
       "<style scoped>\n",
       "    .dataframe tbody tr th:only-of-type {\n",
       "        vertical-align: middle;\n",
       "    }\n",
       "\n",
       "    .dataframe tbody tr th {\n",
       "        vertical-align: top;\n",
       "    }\n",
       "\n",
       "    .dataframe thead th {\n",
       "        text-align: right;\n",
       "    }\n",
       "</style>\n",
       "<table border=\"1\" class=\"dataframe\">\n",
       "  <thead>\n",
       "    <tr style=\"text-align: right;\">\n",
       "      <th></th>\n",
       "      <th>N_Days</th>\n",
       "      <th>Status</th>\n",
       "      <th>Drug</th>\n",
       "      <th>Age</th>\n",
       "      <th>Sex</th>\n",
       "      <th>Ascites</th>\n",
       "      <th>Hepatomegaly</th>\n",
       "      <th>Spiders</th>\n",
       "      <th>Edema</th>\n",
       "      <th>Bilirubin</th>\n",
       "      <th>Cholesterol</th>\n",
       "      <th>Albumin</th>\n",
       "      <th>Copper</th>\n",
       "      <th>Alk_Phos</th>\n",
       "      <th>SGOT</th>\n",
       "      <th>Tryglicerides</th>\n",
       "      <th>Platelets</th>\n",
       "      <th>Prothrombin</th>\n",
       "      <th>Stage</th>\n",
       "    </tr>\n",
       "  </thead>\n",
       "  <tbody>\n",
       "    <tr>\n",
       "      <th>0</th>\n",
       "      <td>2221</td>\n",
       "      <td>C</td>\n",
       "      <td>Placebo</td>\n",
       "      <td>18499</td>\n",
       "      <td>F</td>\n",
       "      <td>N</td>\n",
       "      <td>Y</td>\n",
       "      <td>N</td>\n",
       "      <td>N</td>\n",
       "      <td>0.5</td>\n",
       "      <td>149.0</td>\n",
       "      <td>4.04</td>\n",
       "      <td>227.0</td>\n",
       "      <td>598.0</td>\n",
       "      <td>52.70</td>\n",
       "      <td>57.0</td>\n",
       "      <td>256.0</td>\n",
       "      <td>9.9</td>\n",
       "      <td>0</td>\n",
       "    </tr>\n",
       "    <tr>\n",
       "      <th>1</th>\n",
       "      <td>1230</td>\n",
       "      <td>C</td>\n",
       "      <td>Placebo</td>\n",
       "      <td>19724</td>\n",
       "      <td>M</td>\n",
       "      <td>Y</td>\n",
       "      <td>N</td>\n",
       "      <td>Y</td>\n",
       "      <td>N</td>\n",
       "      <td>0.5</td>\n",
       "      <td>219.0</td>\n",
       "      <td>3.93</td>\n",
       "      <td>22.0</td>\n",
       "      <td>663.0</td>\n",
       "      <td>45.00</td>\n",
       "      <td>75.0</td>\n",
       "      <td>220.0</td>\n",
       "      <td>10.8</td>\n",
       "      <td>0</td>\n",
       "    </tr>\n",
       "    <tr>\n",
       "      <th>2</th>\n",
       "      <td>4184</td>\n",
       "      <td>C</td>\n",
       "      <td>Placebo</td>\n",
       "      <td>11839</td>\n",
       "      <td>F</td>\n",
       "      <td>N</td>\n",
       "      <td>N</td>\n",
       "      <td>N</td>\n",
       "      <td>N</td>\n",
       "      <td>0.5</td>\n",
       "      <td>320.0</td>\n",
       "      <td>3.54</td>\n",
       "      <td>51.0</td>\n",
       "      <td>1243.0</td>\n",
       "      <td>122.45</td>\n",
       "      <td>80.0</td>\n",
       "      <td>225.0</td>\n",
       "      <td>10.0</td>\n",
       "      <td>0</td>\n",
       "    </tr>\n",
       "    <tr>\n",
       "      <th>3</th>\n",
       "      <td>2090</td>\n",
       "      <td>D</td>\n",
       "      <td>Placebo</td>\n",
       "      <td>16467</td>\n",
       "      <td>F</td>\n",
       "      <td>N</td>\n",
       "      <td>N</td>\n",
       "      <td>N</td>\n",
       "      <td>N</td>\n",
       "      <td>0.7</td>\n",
       "      <td>255.0</td>\n",
       "      <td>3.74</td>\n",
       "      <td>23.0</td>\n",
       "      <td>1024.0</td>\n",
       "      <td>77.50</td>\n",
       "      <td>58.0</td>\n",
       "      <td>151.0</td>\n",
       "      <td>10.2</td>\n",
       "      <td>0</td>\n",
       "    </tr>\n",
       "    <tr>\n",
       "      <th>4</th>\n",
       "      <td>2105</td>\n",
       "      <td>D</td>\n",
       "      <td>Placebo</td>\n",
       "      <td>21699</td>\n",
       "      <td>F</td>\n",
       "      <td>N</td>\n",
       "      <td>Y</td>\n",
       "      <td>N</td>\n",
       "      <td>N</td>\n",
       "      <td>1.9</td>\n",
       "      <td>486.0</td>\n",
       "      <td>3.54</td>\n",
       "      <td>74.0</td>\n",
       "      <td>1052.0</td>\n",
       "      <td>108.50</td>\n",
       "      <td>109.0</td>\n",
       "      <td>151.0</td>\n",
       "      <td>11.5</td>\n",
       "      <td>0</td>\n",
       "    </tr>\n",
       "  </tbody>\n",
       "</table>\n",
       "</div>"
      ],
      "text/plain": [
       "   N_Days Status     Drug    Age Sex Ascites Hepatomegaly Spiders Edema  \\\n",
       "0    2221      C  Placebo  18499   F       N            Y       N     N   \n",
       "1    1230      C  Placebo  19724   M       Y            N       Y     N   \n",
       "2    4184      C  Placebo  11839   F       N            N       N     N   \n",
       "3    2090      D  Placebo  16467   F       N            N       N     N   \n",
       "4    2105      D  Placebo  21699   F       N            Y       N     N   \n",
       "\n",
       "   Bilirubin  Cholesterol  Albumin  Copper  Alk_Phos    SGOT  Tryglicerides  \\\n",
       "0        0.5        149.0     4.04   227.0     598.0   52.70           57.0   \n",
       "1        0.5        219.0     3.93    22.0     663.0   45.00           75.0   \n",
       "2        0.5        320.0     3.54    51.0    1243.0  122.45           80.0   \n",
       "3        0.7        255.0     3.74    23.0    1024.0   77.50           58.0   \n",
       "4        1.9        486.0     3.54    74.0    1052.0  108.50          109.0   \n",
       "\n",
       "   Platelets  Prothrombin  Stage  \n",
       "0      256.0          9.9      0  \n",
       "1      220.0         10.8      0  \n",
       "2      225.0         10.0      0  \n",
       "3      151.0         10.2      0  \n",
       "4      151.0         11.5      0  "
      ]
     },
     "execution_count": 32,
     "metadata": {},
     "output_type": "execute_result"
    }
   ],
   "source": [
    "file.head()"
   ]
  },
  {
   "cell_type": "markdown",
   "metadata": {},
   "source": [
    "Como podemos observar, tenemos muchas columnas con el tipo objeto que no podemos parsear a float, es por eso que PandasAI no es capaz de hacer lo  suyo, para ayudarle vamos a aplicar una serie de cambios para que este pueda trabajar bien.\n",
    "\n",
    "Vamos a hacer un análisis básico para ver cuantos valores tenemos que intercambiar"
   ]
  },
  {
   "cell_type": "code",
   "execution_count": 6,
   "metadata": {},
   "outputs": [
    {
     "name": "stdout",
     "output_type": "stream",
     "text": [
      "['C' 'D' 'CL'] :  Status\n",
      "['Placebo' 'D-penicillamine'] :  Drug\n",
      "['F' 'M'] :  Sex\n",
      "['N' 'Y'] :  Ascites\n",
      "['Y' 'N'] :  Hepatomegaly\n",
      "['N' 'Y'] :  Spiders\n",
      "['N' 'Y' 'S'] :  Edema\n"
     ]
    },
    {
     "data": {
      "text/plain": [
       "[None, None, None, None, None, None, None]"
      ]
     },
     "execution_count": 6,
     "metadata": {},
     "output_type": "execute_result"
    }
   ],
   "source": [
    "object_columns = ['Status', 'Drug', 'Sex', 'Ascites', 'Hepatomegaly', 'Spiders', 'Edema']\n",
    "[print(file[column].unique(), ': ', column) for column in object_columns]"
   ]
  },
  {
   "cell_type": "markdown",
   "metadata": {},
   "source": [
    "Como vemos, tenemos que hacer cambios para que los valores unicos tomen valores que podamos categorizar como float o como int, podríamos usar cambios con el argumento inplace=True pero vamos a optar por que lo haga el propio pandasai"
   ]
  },
  {
   "cell_type": "code",
   "execution_count": 3,
   "metadata": {},
   "outputs": [
    {
     "name": "stdout",
     "output_type": "stream",
     "text": [
      "N_Days             int64\n",
      "Status            object\n",
      "Drug              object\n",
      "Age                int64\n",
      "Sex               object\n",
      "Ascites           object\n",
      "Hepatomegaly      object\n",
      "Spiders           object\n",
      "Edema             object\n",
      "Bilirubin        float64\n",
      "Cholesterol      float64\n",
      "Albumin          float64\n",
      "Copper           float64\n",
      "Alk_Phos         float64\n",
      "SGOT             float64\n",
      "Tryglicerides    float64\n",
      "Platelets        float64\n",
      "Prothrombin      float64\n",
      "Stage              int64\n",
      "dtype: object\n",
      "N_Days             int64\n",
      "Status              int8\n",
      "Drug                int8\n",
      "Age                int64\n",
      "Sex                 int8\n",
      "Ascites             int8\n",
      "Hepatomegaly        int8\n",
      "Spiders             int8\n",
      "Edema               int8\n",
      "Bilirubin        float64\n",
      "Cholesterol      float64\n",
      "Albumin          float64\n",
      "Copper           float64\n",
      "Alk_Phos         float64\n",
      "SGOT             float64\n",
      "Tryglicerides    float64\n",
      "Platelets        float64\n",
      "Prothrombin      float64\n",
      "Stage              int64\n",
      "dtype: object\n"
     ]
    },
    {
     "data": {
      "text/html": [
       "<div>\n",
       "<style scoped>\n",
       "    .dataframe tbody tr th:only-of-type {\n",
       "        vertical-align: middle;\n",
       "    }\n",
       "\n",
       "    .dataframe tbody tr th {\n",
       "        vertical-align: top;\n",
       "    }\n",
       "\n",
       "    .dataframe thead th {\n",
       "        text-align: right;\n",
       "    }\n",
       "</style>\n",
       "<table border=\"1\" class=\"dataframe\">\n",
       "  <thead>\n",
       "    <tr style=\"text-align: right;\">\n",
       "      <th></th>\n",
       "      <th>N_Days</th>\n",
       "      <th>Status</th>\n",
       "      <th>Drug</th>\n",
       "      <th>Age</th>\n",
       "      <th>Sex</th>\n",
       "      <th>Ascites</th>\n",
       "      <th>Hepatomegaly</th>\n",
       "      <th>Spiders</th>\n",
       "      <th>Edema</th>\n",
       "      <th>Bilirubin</th>\n",
       "      <th>Cholesterol</th>\n",
       "      <th>Albumin</th>\n",
       "      <th>Copper</th>\n",
       "      <th>Alk_Phos</th>\n",
       "      <th>SGOT</th>\n",
       "      <th>Tryglicerides</th>\n",
       "      <th>Platelets</th>\n",
       "      <th>Prothrombin</th>\n",
       "      <th>Stage</th>\n",
       "    </tr>\n",
       "  </thead>\n",
       "  <tbody>\n",
       "    <tr>\n",
       "      <th>0</th>\n",
       "      <td>2221</td>\n",
       "      <td>0</td>\n",
       "      <td>1</td>\n",
       "      <td>18499</td>\n",
       "      <td>0</td>\n",
       "      <td>0</td>\n",
       "      <td>1</td>\n",
       "      <td>0</td>\n",
       "      <td>0</td>\n",
       "      <td>0.5</td>\n",
       "      <td>149.000000</td>\n",
       "      <td>4.04</td>\n",
       "      <td>227.0</td>\n",
       "      <td>598.0</td>\n",
       "      <td>52.70</td>\n",
       "      <td>57.000000</td>\n",
       "      <td>256.0</td>\n",
       "      <td>9.9</td>\n",
       "      <td>1</td>\n",
       "    </tr>\n",
       "    <tr>\n",
       "      <th>1</th>\n",
       "      <td>1230</td>\n",
       "      <td>0</td>\n",
       "      <td>1</td>\n",
       "      <td>19724</td>\n",
       "      <td>1</td>\n",
       "      <td>1</td>\n",
       "      <td>0</td>\n",
       "      <td>1</td>\n",
       "      <td>0</td>\n",
       "      <td>0.5</td>\n",
       "      <td>219.000000</td>\n",
       "      <td>3.93</td>\n",
       "      <td>22.0</td>\n",
       "      <td>663.0</td>\n",
       "      <td>45.00</td>\n",
       "      <td>75.000000</td>\n",
       "      <td>220.0</td>\n",
       "      <td>10.8</td>\n",
       "      <td>2</td>\n",
       "    </tr>\n",
       "    <tr>\n",
       "      <th>2</th>\n",
       "      <td>4184</td>\n",
       "      <td>0</td>\n",
       "      <td>1</td>\n",
       "      <td>11839</td>\n",
       "      <td>0</td>\n",
       "      <td>0</td>\n",
       "      <td>0</td>\n",
       "      <td>0</td>\n",
       "      <td>0</td>\n",
       "      <td>0.5</td>\n",
       "      <td>320.000000</td>\n",
       "      <td>3.54</td>\n",
       "      <td>51.0</td>\n",
       "      <td>1243.0</td>\n",
       "      <td>122.45</td>\n",
       "      <td>80.000000</td>\n",
       "      <td>225.0</td>\n",
       "      <td>10.0</td>\n",
       "      <td>2</td>\n",
       "    </tr>\n",
       "    <tr>\n",
       "      <th>3</th>\n",
       "      <td>2090</td>\n",
       "      <td>2</td>\n",
       "      <td>1</td>\n",
       "      <td>16467</td>\n",
       "      <td>0</td>\n",
       "      <td>0</td>\n",
       "      <td>0</td>\n",
       "      <td>0</td>\n",
       "      <td>0</td>\n",
       "      <td>0.7</td>\n",
       "      <td>255.000000</td>\n",
       "      <td>3.74</td>\n",
       "      <td>23.0</td>\n",
       "      <td>1024.0</td>\n",
       "      <td>77.50</td>\n",
       "      <td>58.000000</td>\n",
       "      <td>151.0</td>\n",
       "      <td>10.2</td>\n",
       "      <td>2</td>\n",
       "    </tr>\n",
       "    <tr>\n",
       "      <th>4</th>\n",
       "      <td>2105</td>\n",
       "      <td>2</td>\n",
       "      <td>1</td>\n",
       "      <td>21699</td>\n",
       "      <td>0</td>\n",
       "      <td>0</td>\n",
       "      <td>1</td>\n",
       "      <td>0</td>\n",
       "      <td>0</td>\n",
       "      <td>1.9</td>\n",
       "      <td>486.000000</td>\n",
       "      <td>3.54</td>\n",
       "      <td>74.0</td>\n",
       "      <td>1052.0</td>\n",
       "      <td>108.50</td>\n",
       "      <td>109.000000</td>\n",
       "      <td>151.0</td>\n",
       "      <td>11.5</td>\n",
       "      <td>1</td>\n",
       "    </tr>\n",
       "    <tr>\n",
       "      <th>...</th>\n",
       "      <td>...</td>\n",
       "      <td>...</td>\n",
       "      <td>...</td>\n",
       "      <td>...</td>\n",
       "      <td>...</td>\n",
       "      <td>...</td>\n",
       "      <td>...</td>\n",
       "      <td>...</td>\n",
       "      <td>...</td>\n",
       "      <td>...</td>\n",
       "      <td>...</td>\n",
       "      <td>...</td>\n",
       "      <td>...</td>\n",
       "      <td>...</td>\n",
       "      <td>...</td>\n",
       "      <td>...</td>\n",
       "      <td>...</td>\n",
       "      <td>...</td>\n",
       "      <td>...</td>\n",
       "    </tr>\n",
       "    <tr>\n",
       "      <th>24995</th>\n",
       "      <td>3584</td>\n",
       "      <td>2</td>\n",
       "      <td>0</td>\n",
       "      <td>23612</td>\n",
       "      <td>0</td>\n",
       "      <td>0</td>\n",
       "      <td>0</td>\n",
       "      <td>0</td>\n",
       "      <td>0</td>\n",
       "      <td>0.8</td>\n",
       "      <td>231.000000</td>\n",
       "      <td>3.87</td>\n",
       "      <td>173.0</td>\n",
       "      <td>9009.8</td>\n",
       "      <td>127.71</td>\n",
       "      <td>96.000000</td>\n",
       "      <td>295.0</td>\n",
       "      <td>11.0</td>\n",
       "      <td>2</td>\n",
       "    </tr>\n",
       "    <tr>\n",
       "      <th>24996</th>\n",
       "      <td>3584</td>\n",
       "      <td>2</td>\n",
       "      <td>0</td>\n",
       "      <td>23612</td>\n",
       "      <td>0</td>\n",
       "      <td>0</td>\n",
       "      <td>0</td>\n",
       "      <td>0</td>\n",
       "      <td>0</td>\n",
       "      <td>0.8</td>\n",
       "      <td>231.000000</td>\n",
       "      <td>3.87</td>\n",
       "      <td>173.0</td>\n",
       "      <td>9009.8</td>\n",
       "      <td>127.71</td>\n",
       "      <td>96.000000</td>\n",
       "      <td>295.0</td>\n",
       "      <td>11.0</td>\n",
       "      <td>2</td>\n",
       "    </tr>\n",
       "    <tr>\n",
       "      <th>24997</th>\n",
       "      <td>971</td>\n",
       "      <td>2</td>\n",
       "      <td>0</td>\n",
       "      <td>16736</td>\n",
       "      <td>0</td>\n",
       "      <td>0</td>\n",
       "      <td>1</td>\n",
       "      <td>1</td>\n",
       "      <td>2</td>\n",
       "      <td>5.1</td>\n",
       "      <td>369.510563</td>\n",
       "      <td>3.23</td>\n",
       "      <td>18.0</td>\n",
       "      <td>790.0</td>\n",
       "      <td>179.80</td>\n",
       "      <td>124.702128</td>\n",
       "      <td>104.0</td>\n",
       "      <td>13.0</td>\n",
       "      <td>3</td>\n",
       "    </tr>\n",
       "    <tr>\n",
       "      <th>24998</th>\n",
       "      <td>3707</td>\n",
       "      <td>0</td>\n",
       "      <td>0</td>\n",
       "      <td>16990</td>\n",
       "      <td>0</td>\n",
       "      <td>0</td>\n",
       "      <td>1</td>\n",
       "      <td>0</td>\n",
       "      <td>0</td>\n",
       "      <td>0.8</td>\n",
       "      <td>315.000000</td>\n",
       "      <td>4.24</td>\n",
       "      <td>13.0</td>\n",
       "      <td>1637.0</td>\n",
       "      <td>170.50</td>\n",
       "      <td>70.000000</td>\n",
       "      <td>426.0</td>\n",
       "      <td>10.9</td>\n",
       "      <td>2</td>\n",
       "    </tr>\n",
       "    <tr>\n",
       "      <th>24999</th>\n",
       "      <td>3707</td>\n",
       "      <td>0</td>\n",
       "      <td>0</td>\n",
       "      <td>16990</td>\n",
       "      <td>0</td>\n",
       "      <td>0</td>\n",
       "      <td>1</td>\n",
       "      <td>0</td>\n",
       "      <td>0</td>\n",
       "      <td>0.8</td>\n",
       "      <td>315.000000</td>\n",
       "      <td>4.24</td>\n",
       "      <td>13.0</td>\n",
       "      <td>1637.0</td>\n",
       "      <td>170.50</td>\n",
       "      <td>70.000000</td>\n",
       "      <td>426.0</td>\n",
       "      <td>10.9</td>\n",
       "      <td>2</td>\n",
       "    </tr>\n",
       "  </tbody>\n",
       "</table>\n",
       "<p>25000 rows × 19 columns</p>\n",
       "</div>"
      ],
      "text/plain": [
       "       N_Days  Status  Drug    Age  Sex  Ascites  Hepatomegaly  Spiders  \\\n",
       "0        2221       0     1  18499    0        0             1        0   \n",
       "1        1230       0     1  19724    1        1             0        1   \n",
       "2        4184       0     1  11839    0        0             0        0   \n",
       "3        2090       2     1  16467    0        0             0        0   \n",
       "4        2105       2     1  21699    0        0             1        0   \n",
       "...       ...     ...   ...    ...  ...      ...           ...      ...   \n",
       "24995    3584       2     0  23612    0        0             0        0   \n",
       "24996    3584       2     0  23612    0        0             0        0   \n",
       "24997     971       2     0  16736    0        0             1        1   \n",
       "24998    3707       0     0  16990    0        0             1        0   \n",
       "24999    3707       0     0  16990    0        0             1        0   \n",
       "\n",
       "       Edema  Bilirubin  Cholesterol  Albumin  Copper  Alk_Phos    SGOT  \\\n",
       "0          0        0.5   149.000000     4.04   227.0     598.0   52.70   \n",
       "1          0        0.5   219.000000     3.93    22.0     663.0   45.00   \n",
       "2          0        0.5   320.000000     3.54    51.0    1243.0  122.45   \n",
       "3          0        0.7   255.000000     3.74    23.0    1024.0   77.50   \n",
       "4          0        1.9   486.000000     3.54    74.0    1052.0  108.50   \n",
       "...      ...        ...          ...      ...     ...       ...     ...   \n",
       "24995      0        0.8   231.000000     3.87   173.0    9009.8  127.71   \n",
       "24996      0        0.8   231.000000     3.87   173.0    9009.8  127.71   \n",
       "24997      2        5.1   369.510563     3.23    18.0     790.0  179.80   \n",
       "24998      0        0.8   315.000000     4.24    13.0    1637.0  170.50   \n",
       "24999      0        0.8   315.000000     4.24    13.0    1637.0  170.50   \n",
       "\n",
       "       Tryglicerides  Platelets  Prothrombin  Stage  \n",
       "0          57.000000      256.0          9.9      1  \n",
       "1          75.000000      220.0         10.8      2  \n",
       "2          80.000000      225.0         10.0      2  \n",
       "3          58.000000      151.0         10.2      2  \n",
       "4         109.000000      151.0         11.5      1  \n",
       "...              ...        ...          ...    ...  \n",
       "24995      96.000000      295.0         11.0      2  \n",
       "24996      96.000000      295.0         11.0      2  \n",
       "24997     124.702128      104.0         13.0      3  \n",
       "24998      70.000000      426.0         10.9      2  \n",
       "24999      70.000000      426.0         10.9      2  \n",
       "\n",
       "[25000 rows x 19 columns]"
      ]
     },
     "execution_count": 3,
     "metadata": {},
     "output_type": "execute_result"
    }
   ],
   "source": [
    "smartDataframe = SmartDataframe(file)\n",
    "response = smartDataframe.chat('Make a encoder or transform the data from the columns with Object type and make it int or float')\n",
    "response"
   ]
  },
  {
   "cell_type": "markdown",
   "metadata": {},
   "source": [
    "Como podemos ver, ha hecho los cambios necesarios para que las columnas que antes teníamos como objeto sean del tipo int o incluso binarias para los valores que únicamente tienen 2 posibles valores. \n",
    "\n",
    "Sacamos el código recién ejecutado."
   ]
  },
  {
   "cell_type": "code",
   "execution_count": 5,
   "metadata": {},
   "outputs": [
    {
     "name": "stdout",
     "output_type": "stream",
     "text": [
      "print(dfs[0].dtypes)\n",
      "object_columns = dfs[0].select_dtypes(include=['object']).columns\n",
      "for col in object_columns:\n",
      "    dfs[0][col] = pd.Categorical(dfs[0][col])\n",
      "    dfs[0][col] = dfs[0][col].cat.codes\n",
      "print(dfs[0].dtypes)\n",
      "result = {'type': 'dataframe', 'value': dfs[0]}\n"
     ]
    }
   ],
   "source": [
    "print(smartDataframe.last_code_executed)"
   ]
  },
  {
   "cell_type": "markdown",
   "metadata": {},
   "source": [
    "Podríamos haber vuelto a ejecutar una consulta sobre el propio smartDataFrame ejecutado pero prefiero ejecutar luego el código así podemos depurar o incluso ver la forma que va tomando la solución de PandasAI.\n",
    "\n",
    "Aplicamos el código recién sacado a nuestro dataset para tener el cambio hecho y poder realizar la llamada que primeramente nos daba error"
   ]
  },
  {
   "cell_type": "code",
   "execution_count": 3,
   "metadata": {},
   "outputs": [
    {
     "name": "stdout",
     "output_type": "stream",
     "text": [
      "N_Days             int64\n",
      "Status              int8\n",
      "Drug                int8\n",
      "Age                int64\n",
      "Sex                 int8\n",
      "Ascites             int8\n",
      "Hepatomegaly        int8\n",
      "Spiders             int8\n",
      "Edema               int8\n",
      "Bilirubin        float64\n",
      "Cholesterol      float64\n",
      "Albumin          float64\n",
      "Copper           float64\n",
      "Alk_Phos         float64\n",
      "SGOT             float64\n",
      "Tryglicerides    float64\n",
      "Platelets        float64\n",
      "Prothrombin      float64\n",
      "Stage              int64\n",
      "dtype: object\n"
     ]
    }
   ],
   "source": [
    "object_columns = file.select_dtypes(include=['object']).columns\n",
    "for col in object_columns:\n",
    "    file[col] = pd.Categorical(file[col])\n",
    "    file[col] = file[col].cat.codes\n",
    "print(file.dtypes)\n",
    "result = {'type': 'dataframe', 'value': file}"
   ]
  },
  {
   "cell_type": "markdown",
   "metadata": {},
   "source": [
    "Los cambios que ha realizado son object --> int8\n",
    "\n",
    "Hacemos la llamada que hicimos al principio que nos salió error al no poder convertir datos tipo objeto a float"
   ]
  },
  {
   "cell_type": "code",
   "execution_count": 4,
   "metadata": {},
   "outputs": [
    {
     "name": "stdout",
     "output_type": "stream",
     "text": [
      "The accuracy of the classifier is 0.9558\n",
      "df = pd.concat(dfs)\n",
      "X = df.drop('Stage', axis=1)\n",
      "y = df['Stage']\n",
      "X_train, X_test, y_train, y_test = train_test_split(X, y, test_size=0.2, random_state=42)\n",
      "clf = RandomForestClassifier(n_estimators=100, random_state=42)\n",
      "clf.fit(X_train, y_train)\n",
      "y_pred = clf.predict(X_test)\n",
      "accuracy = accuracy_score(y_test, y_pred)\n",
      "result = {'type': 'string', 'value': f'The accuracy of the classifier is {accuracy}'}\n"
     ]
    }
   ],
   "source": [
    "smartDataframe = SmartDataframe(file)\n",
    "response  = smartDataframe.chat(\"Make a classifier with the Stage columns as the label column. It's a 3 class classifier\")\n",
    "print(response)\n",
    "print(smartDataframe.last_code_executed)"
   ]
  },
  {
   "cell_type": "markdown",
   "metadata": {},
   "source": [
    "Como podemos observar, PandasAI ahora si ha sido capaz de resolver debidamente el problema y ha conseguido una accuracy mayor al 95% lo que es un buen número, faltaría comprobar otras métricas para ver si consigue predecir de forma correcta o solo es capaz de detectar las clases."
   ]
  },
  {
   "cell_type": "markdown",
   "metadata": {},
   "source": [
    "Ejecutamos el código recién ejecutado"
   ]
  },
  {
   "cell_type": "code",
   "execution_count": 7,
   "metadata": {},
   "outputs": [],
   "source": [
    "df = file\n",
    "X = df.drop('Stage', axis=1)\n",
    "y = df['Stage']\n",
    "X_train, X_test, y_train, y_test = train_test_split(X, y, test_size=0.2, random_state=42)\n",
    "clf = RandomForestClassifier(n_estimators=100, random_state=42)\n",
    "clf.fit(X_train, y_train)\n",
    "y_pred = clf.predict(X_test)\n",
    "accuracy = accuracy_score(y_test, y_pred)\n",
    "result = {'type': 'string', 'value': f'The accuracy of the classifier is {accuracy}'}"
   ]
  },
  {
   "cell_type": "code",
   "execution_count": 8,
   "metadata": {},
   "outputs": [
    {
     "name": "stdout",
     "output_type": "stream",
     "text": [
      "{'type': 'string', 'value': 'The accuracy of the classifier is 0.9558'}\n"
     ]
    }
   ],
   "source": [
    "print(result)"
   ]
  }
 ],
 "metadata": {
  "kernelspec": {
   "display_name": ".python-pandasai-venv",
   "language": "python",
   "name": "python3"
  },
  "language_info": {
   "codemirror_mode": {
    "name": "ipython",
    "version": 3
   },
   "file_extension": ".py",
   "mimetype": "text/x-python",
   "name": "python",
   "nbconvert_exporter": "python",
   "pygments_lexer": "ipython3",
   "version": "3.10.0"
  }
 },
 "nbformat": 4,
 "nbformat_minor": 2
}
