{
 "cells": [
  {
   "cell_type": "markdown",
   "metadata": {},
   "source": [
    "## Clasificador sobre el cancer de Pecho usando el algoritmo transformer TabPFN"
   ]
  },
  {
   "cell_type": "markdown",
   "metadata": {},
   "source": [
    "Este dataset lo podemos encontrar en kaggle en el siguiente enlace  --> <a href=\"https://www.kaggle.com/datasets/yasserh/breast-cancer-dataset\"> Breast Cancer Dataset</a>\n",
    "\n",
    "Vamos a usar por primera vez el algoritmo TabPFN que en principio es un algoritmo de clasificación preentrenado en datasets tabulares capaz de resolver problemas pequeños en menos de 10 segundos."
   ]
  },
  {
   "cell_type": "code",
   "execution_count": 1,
   "metadata": {},
   "outputs": [
    {
     "name": "stdout",
     "output_type": "stream",
     "text": [
      "We have to download the TabPFN, as there is no checkpoint at  /Users/alejandro/Documents/Repositorios/alejandromadrid/.python-venv/lib/python3.9/site-packages/tabpfn/models_diff/prior_diff_real_checkpoint_n_0_epoch_100.cpkt\n",
      "It has about 100MB, so this might take a moment.\n"
     ]
    },
    {
     "name": "stderr",
     "output_type": "stream",
     "text": [
      "/Users/alejandro/Documents/Repositorios/alejandromadrid/.python-venv/lib/python3.9/site-packages/torch/utils/checkpoint.py:460: UserWarning: torch.utils.checkpoint: please pass in use_reentrant=True or use_reentrant=False explicitly. The default value of use_reentrant will be updated to be False in the future. To maintain current behavior, pass use_reentrant=True. It is recommended that you use use_reentrant=False. Refer to docs for more details on the differences between the two variants.\n",
      "  warnings.warn(\n"
     ]
    },
    {
     "name": "stdout",
     "output_type": "stream",
     "text": [
      "Accuracy 0.9840425531914894\n"
     ]
    }
   ],
   "source": [
    "from sklearn.metrics import accuracy_score\n",
    "from sklearn.datasets import load_breast_cancer\n",
    "from sklearn.model_selection import train_test_split\n",
    "\n",
    "from tabpfn import TabPFNClassifier\n",
    "\n",
    "X, y = load_breast_cancer(return_X_y=True)\n",
    "X_train, X_test, y_train, y_test = train_test_split(X, y, test_size=0.33, random_state=42)\n",
    "\n",
    "\n",
    "classifier = TabPFNClassifier(device='cpu', N_ensemble_configurations=32)\n",
    "\n",
    "classifier.fit(X_train, y_train)\n",
    "y_eval, p_eval = classifier.predict(X_test, return_winning_probability=True)\n",
    "\n",
    "print('Accuracy', accuracy_score(y_test, y_eval))"
   ]
  },
  {
   "cell_type": "markdown",
   "metadata": {},
   "source": [
    "Como podemos comprobar, el código ejecutado en ínfimo en comparación con otros algoritmos transformer sobre los que tenemos que incluso declarar como queremos que se haga la forward propagation y demás. \n",
    "\n",
    "Este algortimo ha sido capaz de clasificar este pequeño dataset en menos de 3 segundos con una puntuación de más del 98%.\n",
    "\n",
    "TabPFN es un potente algoritmo pero tiene una serie de limitaciones:\n",
    "- (1) No es capaz de predecir nada que tenga más de 1000 datos de entrenamiento por lo que su límite de tuplas de entrenamiento es de 1000 N-Tuplas.\n",
    "- (2) Tampoco podemos pasarle N-Tuplas por que este N está acotado a 100 diferentes variables sobre las que podemos realizar el entrenamiento. No podremos usar diferentes features por encima de 100.\n",
    "- (3) No es capaz de predecir más de 10 clases de salida por lo que estamos capados por todos los lados.\n",
    "\n",
    "A pesar de estos inconvenientes es un algoritmo muy competente siempre que cumplamos las condiciones de su uso y como puedes ver, en apenas 15 líneas de código tienes un clasificador casi perfecto con un puntuación por encima del 98%."
   ]
  }
 ],
 "metadata": {
  "kernelspec": {
   "display_name": ".python-venv",
   "language": "python",
   "name": "python3"
  },
  "language_info": {
   "codemirror_mode": {
    "name": "ipython",
    "version": 3
   },
   "file_extension": ".py",
   "mimetype": "text/x-python",
   "name": "python",
   "nbconvert_exporter": "python",
   "pygments_lexer": "ipython3",
   "version": "3.9.6"
  }
 },
 "nbformat": 4,
 "nbformat_minor": 2
}
