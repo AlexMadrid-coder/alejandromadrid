{
 "cells": [
  {
   "cell_type": "code",
   "execution_count": 1,
   "metadata": {},
   "outputs": [],
   "source": [
    "import pandas as pd\n",
    "import numpy as np\n",
    "#\n",
    "import torch\n",
    "import torch.nn as nn \n",
    "from tab_transformer_pytorch import TabTransformer\n",
    "#\n",
    "from sklearn.model_selection import train_test_split\n",
    "from sklearn.metrics import accuracy_score\n",
    "from sklearn.preprocessing import StandardScaler, LabelEncoder\n",
    "#\n"
   ]
  },
  {
   "cell_type": "code",
   "execution_count": 2,
   "metadata": {},
   "outputs": [],
   "source": [
    "dataset = pd.read_csv(\"spotify-tracks-dataset/dataset.csv\")"
   ]
  },
  {
   "cell_type": "code",
   "execution_count": 3,
   "metadata": {},
   "outputs": [
    {
     "name": "stdout",
     "output_type": "stream",
     "text": [
      "<class 'pandas.core.frame.DataFrame'>\n",
      "RangeIndex: 114000 entries, 0 to 113999\n",
      "Data columns (total 21 columns):\n",
      " #   Column            Non-Null Count   Dtype  \n",
      "---  ------            --------------   -----  \n",
      " 0   Unnamed: 0        114000 non-null  int64  \n",
      " 1   track_id          114000 non-null  object \n",
      " 2   artists           113999 non-null  object \n",
      " 3   album_name        113999 non-null  object \n",
      " 4   track_name        113999 non-null  object \n",
      " 5   popularity        114000 non-null  int64  \n",
      " 6   duration_ms       114000 non-null  int64  \n",
      " 7   explicit          114000 non-null  bool   \n",
      " 8   danceability      114000 non-null  float64\n",
      " 9   energy            114000 non-null  float64\n",
      " 10  key               114000 non-null  int64  \n",
      " 11  loudness          114000 non-null  float64\n",
      " 12  mode              114000 non-null  int64  \n",
      " 13  speechiness       114000 non-null  float64\n",
      " 14  acousticness      114000 non-null  float64\n",
      " 15  instrumentalness  114000 non-null  float64\n",
      " 16  liveness          114000 non-null  float64\n",
      " 17  valence           114000 non-null  float64\n",
      " 18  tempo             114000 non-null  float64\n",
      " 19  time_signature    114000 non-null  int64  \n",
      " 20  track_genre       114000 non-null  object \n",
      "dtypes: bool(1), float64(9), int64(6), object(5)\n",
      "memory usage: 17.5+ MB\n"
     ]
    },
    {
     "data": {
      "text/plain": [
       "(None,\n",
       "    Unnamed: 0                track_id                 artists  \\\n",
       " 0           0  5SuOikwiRyPMVoIQDJUgSV             Gen Hoshino   \n",
       " 1           1  4qPNDBW1i3p13qLCt0Ki3A            Ben Woodward   \n",
       " 2           2  1iJBSr7s7jYXzM8EGcbK5b  Ingrid Michaelson;ZAYN   \n",
       " 3           3  6lfxq3CG4xtTiEg7opyCyx            Kina Grannis   \n",
       " 4           4  5vjLSffimiIP26QG5WcN2K        Chord Overstreet   \n",
       " \n",
       "                                           album_name  \\\n",
       " 0                                             Comedy   \n",
       " 1                                   Ghost (Acoustic)   \n",
       " 2                                     To Begin Again   \n",
       " 3  Crazy Rich Asians (Original Motion Picture Sou...   \n",
       " 4                                            Hold On   \n",
       " \n",
       "                    track_name  popularity  duration_ms  explicit  \\\n",
       " 0                      Comedy          73       230666     False   \n",
       " 1            Ghost - Acoustic          55       149610     False   \n",
       " 2              To Begin Again          57       210826     False   \n",
       " 3  Can't Help Falling In Love          71       201933     False   \n",
       " 4                     Hold On          82       198853     False   \n",
       " \n",
       "    danceability  energy  ...  loudness  mode  speechiness  acousticness  \\\n",
       " 0         0.676  0.4610  ...    -6.746     0       0.1430        0.0322   \n",
       " 1         0.420  0.1660  ...   -17.235     1       0.0763        0.9240   \n",
       " 2         0.438  0.3590  ...    -9.734     1       0.0557        0.2100   \n",
       " 3         0.266  0.0596  ...   -18.515     1       0.0363        0.9050   \n",
       " 4         0.618  0.4430  ...    -9.681     1       0.0526        0.4690   \n",
       " \n",
       "    instrumentalness  liveness  valence    tempo  time_signature  track_genre  \n",
       " 0          0.000001    0.3580    0.715   87.917               4     acoustic  \n",
       " 1          0.000006    0.1010    0.267   77.489               4     acoustic  \n",
       " 2          0.000000    0.1170    0.120   76.332               4     acoustic  \n",
       " 3          0.000071    0.1320    0.143  181.740               3     acoustic  \n",
       " 4          0.000000    0.0829    0.167  119.949               4     acoustic  \n",
       " \n",
       " [5 rows x 21 columns])"
      ]
     },
     "execution_count": 3,
     "metadata": {},
     "output_type": "execute_result"
    }
   ],
   "source": [
    "dataset.info(), dataset.head()"
   ]
  },
  {
   "cell_type": "code",
   "execution_count": 4,
   "metadata": {},
   "outputs": [
    {
     "name": "stdout",
     "output_type": "stream",
     "text": [
      "<class 'pandas.core.frame.DataFrame'>\n",
      "RangeIndex: 114000 entries, 0 to 113999\n",
      "Data columns (total 19 columns):\n",
      " #   Column            Non-Null Count   Dtype  \n",
      "---  ------            --------------   -----  \n",
      " 0   artists           113999 non-null  object \n",
      " 1   album_name        113999 non-null  object \n",
      " 2   track_name        113999 non-null  object \n",
      " 3   popularity        114000 non-null  int64  \n",
      " 4   duration_ms       114000 non-null  int64  \n",
      " 5   explicit          114000 non-null  bool   \n",
      " 6   danceability      114000 non-null  float64\n",
      " 7   energy            114000 non-null  float64\n",
      " 8   key               114000 non-null  int64  \n",
      " 9   loudness          114000 non-null  float64\n",
      " 10  mode              114000 non-null  int64  \n",
      " 11  speechiness       114000 non-null  float64\n",
      " 12  acousticness      114000 non-null  float64\n",
      " 13  instrumentalness  114000 non-null  float64\n",
      " 14  liveness          114000 non-null  float64\n",
      " 15  valence           114000 non-null  float64\n",
      " 16  tempo             114000 non-null  float64\n",
      " 17  time_signature    114000 non-null  int64  \n",
      " 18  track_genre       114000 non-null  object \n",
      "dtypes: bool(1), float64(9), int64(5), object(4)\n",
      "memory usage: 15.8+ MB\n"
     ]
    },
    {
     "data": {
      "text/plain": [
       "(None,\n",
       "                   artists                                         album_name  \\\n",
       " 0             Gen Hoshino                                             Comedy   \n",
       " 1            Ben Woodward                                   Ghost (Acoustic)   \n",
       " 2  Ingrid Michaelson;ZAYN                                     To Begin Again   \n",
       " 3            Kina Grannis  Crazy Rich Asians (Original Motion Picture Sou...   \n",
       " 4        Chord Overstreet                                            Hold On   \n",
       " \n",
       "                    track_name  popularity  duration_ms  explicit  \\\n",
       " 0                      Comedy          73       230666     False   \n",
       " 1            Ghost - Acoustic          55       149610     False   \n",
       " 2              To Begin Again          57       210826     False   \n",
       " 3  Can't Help Falling In Love          71       201933     False   \n",
       " 4                     Hold On          82       198853     False   \n",
       " \n",
       "    danceability  energy  key  loudness  mode  speechiness  acousticness  \\\n",
       " 0         0.676  0.4610    1    -6.746     0       0.1430        0.0322   \n",
       " 1         0.420  0.1660    1   -17.235     1       0.0763        0.9240   \n",
       " 2         0.438  0.3590    0    -9.734     1       0.0557        0.2100   \n",
       " 3         0.266  0.0596    0   -18.515     1       0.0363        0.9050   \n",
       " 4         0.618  0.4430    2    -9.681     1       0.0526        0.4690   \n",
       " \n",
       "    instrumentalness  liveness  valence    tempo  time_signature track_genre  \n",
       " 0          0.000001    0.3580    0.715   87.917               4    acoustic  \n",
       " 1          0.000006    0.1010    0.267   77.489               4    acoustic  \n",
       " 2          0.000000    0.1170    0.120   76.332               4    acoustic  \n",
       " 3          0.000071    0.1320    0.143  181.740               3    acoustic  \n",
       " 4          0.000000    0.0829    0.167  119.949               4    acoustic  )"
      ]
     },
     "execution_count": 4,
     "metadata": {},
     "output_type": "execute_result"
    }
   ],
   "source": [
    "# Primero tenemos que eliminar columnas irrelevantes o que no aporten nada a la recomendación de las canciones como  el id_track o 'unnamed'\n",
    "dataset.drop(['Unnamed: 0', 'track_id'], axis=1, inplace=True)\n",
    "dataset.info(), dataset.head()"
   ]
  },
  {
   "cell_type": "code",
   "execution_count": 5,
   "metadata": {},
   "outputs": [
    {
     "name": "stdout",
     "output_type": "stream",
     "text": [
      "<class 'pandas.core.frame.DataFrame'>\n",
      "Int64Index: 113999 entries, 0 to 113999\n",
      "Data columns (total 19 columns):\n",
      " #   Column            Non-Null Count   Dtype  \n",
      "---  ------            --------------   -----  \n",
      " 0   artists           113999 non-null  object \n",
      " 1   album_name        113999 non-null  object \n",
      " 2   track_name        113999 non-null  object \n",
      " 3   popularity        113999 non-null  int64  \n",
      " 4   duration_ms       113999 non-null  int64  \n",
      " 5   explicit          113999 non-null  bool   \n",
      " 6   danceability      113999 non-null  float64\n",
      " 7   energy            113999 non-null  float64\n",
      " 8   key               113999 non-null  int64  \n",
      " 9   loudness          113999 non-null  float64\n",
      " 10  mode              113999 non-null  int64  \n",
      " 11  speechiness       113999 non-null  float64\n",
      " 12  acousticness      113999 non-null  float64\n",
      " 13  instrumentalness  113999 non-null  float64\n",
      " 14  liveness          113999 non-null  float64\n",
      " 15  valence           113999 non-null  float64\n",
      " 16  tempo             113999 non-null  float64\n",
      " 17  time_signature    113999 non-null  int64  \n",
      " 18  track_genre       113999 non-null  object \n",
      "dtypes: bool(1), float64(9), int64(5), object(4)\n",
      "memory usage: 16.6+ MB\n"
     ]
    },
    {
     "data": {
      "text/plain": [
       "(None,\n",
       "                   artists                                         album_name  \\\n",
       " 0             Gen Hoshino                                             Comedy   \n",
       " 1            Ben Woodward                                   Ghost (Acoustic)   \n",
       " 2  Ingrid Michaelson;ZAYN                                     To Begin Again   \n",
       " 3            Kina Grannis  Crazy Rich Asians (Original Motion Picture Sou...   \n",
       " 4        Chord Overstreet                                            Hold On   \n",
       " \n",
       "                    track_name  popularity  duration_ms  explicit  \\\n",
       " 0                      Comedy          73       230666     False   \n",
       " 1            Ghost - Acoustic          55       149610     False   \n",
       " 2              To Begin Again          57       210826     False   \n",
       " 3  Can't Help Falling In Love          71       201933     False   \n",
       " 4                     Hold On          82       198853     False   \n",
       " \n",
       "    danceability  energy  key  loudness  mode  speechiness  acousticness  \\\n",
       " 0         0.676  0.4610    1    -6.746     0       0.1430        0.0322   \n",
       " 1         0.420  0.1660    1   -17.235     1       0.0763        0.9240   \n",
       " 2         0.438  0.3590    0    -9.734     1       0.0557        0.2100   \n",
       " 3         0.266  0.0596    0   -18.515     1       0.0363        0.9050   \n",
       " 4         0.618  0.4430    2    -9.681     1       0.0526        0.4690   \n",
       " \n",
       "    instrumentalness  liveness  valence    tempo  time_signature track_genre  \n",
       " 0          0.000001    0.3580    0.715   87.917               4    acoustic  \n",
       " 1          0.000006    0.1010    0.267   77.489               4    acoustic  \n",
       " 2          0.000000    0.1170    0.120   76.332               4    acoustic  \n",
       " 3          0.000071    0.1320    0.143  181.740               3    acoustic  \n",
       " 4          0.000000    0.0829    0.167  119.949               4    acoustic  )"
      ]
     },
     "execution_count": 5,
     "metadata": {},
     "output_type": "execute_result"
    }
   ],
   "source": [
    "# Ahora vamos a eliminar los valores codificados como na o (non-defined)\n",
    "dataset.dropna(inplace=True)\n",
    "dataset.info(), dataset.head()"
   ]
  },
  {
   "cell_type": "code",
   "execution_count": 6,
   "metadata": {},
   "outputs": [
    {
     "name": "stdout",
     "output_type": "stream",
     "text": [
      "<class 'pandas.core.frame.DataFrame'>\n",
      "Int64Index: 113999 entries, 0 to 113999\n",
      "Data columns (total 19 columns):\n",
      " #   Column            Non-Null Count   Dtype  \n",
      "---  ------            --------------   -----  \n",
      " 0   artists           113999 non-null  int64  \n",
      " 1   album_name        113999 non-null  int64  \n",
      " 2   track_name        113999 non-null  object \n",
      " 3   popularity        113999 non-null  int64  \n",
      " 4   duration_ms       113999 non-null  int64  \n",
      " 5   explicit          113999 non-null  bool   \n",
      " 6   danceability      113999 non-null  float64\n",
      " 7   energy            113999 non-null  float64\n",
      " 8   key               113999 non-null  int64  \n",
      " 9   loudness          113999 non-null  float64\n",
      " 10  mode              113999 non-null  int64  \n",
      " 11  speechiness       113999 non-null  float64\n",
      " 12  acousticness      113999 non-null  float64\n",
      " 13  instrumentalness  113999 non-null  float64\n",
      " 14  liveness          113999 non-null  float64\n",
      " 15  valence           113999 non-null  float64\n",
      " 16  tempo             113999 non-null  float64\n",
      " 17  time_signature    113999 non-null  int64  \n",
      " 18  track_genre       113999 non-null  int64  \n",
      "dtypes: bool(1), float64(9), int64(8), object(1)\n",
      "memory usage: 16.6+ MB\n"
     ]
    },
    {
     "data": {
      "text/plain": [
       "(None,\n",
       "    artists  album_name                  track_name  popularity  duration_ms  \\\n",
       " 0    10357        8100                      Comedy          73       230666   \n",
       " 1     3287       14796            Ghost - Acoustic          55       149610   \n",
       " 2    12397       39162              To Begin Again          57       210826   \n",
       " 3    14839        8580  Can't Help Falling In Love          71       201933   \n",
       " 4     5255       16899                     Hold On          82       198853   \n",
       " \n",
       "    explicit  danceability  energy  key  loudness  mode  speechiness  \\\n",
       " 0     False         0.676  0.4610    1    -6.746     0       0.1430   \n",
       " 1     False         0.420  0.1660    1   -17.235     1       0.0763   \n",
       " 2     False         0.438  0.3590    0    -9.734     1       0.0557   \n",
       " 3     False         0.266  0.0596    0   -18.515     1       0.0363   \n",
       " 4     False         0.618  0.4430    2    -9.681     1       0.0526   \n",
       " \n",
       "    acousticness  instrumentalness  liveness  valence    tempo  time_signature  \\\n",
       " 0        0.0322          0.000001    0.3580    0.715   87.917               4   \n",
       " 1        0.9240          0.000006    0.1010    0.267   77.489               4   \n",
       " 2        0.2100          0.000000    0.1170    0.120   76.332               4   \n",
       " 3        0.9050          0.000071    0.1320    0.143  181.740               3   \n",
       " 4        0.4690          0.000000    0.0829    0.167  119.949               4   \n",
       " \n",
       "    track_genre  \n",
       " 0            0  \n",
       " 1            0  \n",
       " 2            0  \n",
       " 3            0  \n",
       " 4            0  )"
      ]
     },
     "execution_count": 6,
     "metadata": {},
     "output_type": "execute_result"
    }
   ],
   "source": [
    "# Ahora vamos a codificar como variables categóricas la columna de artistas, álbum y género\n",
    "labelEncoder = LabelEncoder()\n",
    "dataset['artists'] = labelEncoder.fit_transform(dataset['artists'])\n",
    "dataset['album_name'] = labelEncoder.fit_transform(dataset['album_name'])\n",
    "dataset['track_genre'] = labelEncoder.fit_transform(dataset['track_genre'])\n",
    "dataset.info(), dataset.head()"
   ]
  },
  {
   "cell_type": "code",
   "execution_count": 7,
   "metadata": {},
   "outputs": [
    {
     "data": {
      "text/plain": [
       "((113999, 18), (113999,))"
      ]
     },
     "execution_count": 7,
     "metadata": {},
     "output_type": "execute_result"
    }
   ],
   "source": [
    "# Ahora vamos a crear el modelo\n",
    "\n",
    "# Primero tenemos que crear las variables X e Y\n",
    "X = dataset.drop(['track_name'], axis=1)\n",
    "Y = dataset['track_name']\n",
    "X.shape, Y.shape"
   ]
  },
  {
   "cell_type": "code",
   "execution_count": 8,
   "metadata": {},
   "outputs": [
    {
     "data": {
      "text/plain": [
       "((79799, 18), (34200, 18), (79799,), (34200,))"
      ]
     },
     "execution_count": 8,
     "metadata": {},
     "output_type": "execute_result"
    }
   ],
   "source": [
    "# Dividimos en entrenamiento y testeo\n",
    "X_train, X_test, Y_train, Y_test = train_test_split(X, Y, test_size=0.3) # Pruebo 0.3 y luego cambiamos\n",
    "X_train.shape, X_test.shape, Y_train.shape, Y_test.shape"
   ]
  },
  {
   "cell_type": "code",
   "execution_count": 9,
   "metadata": {},
   "outputs": [
    {
     "data": {
      "text/plain": [
       "((79799,), numpy.ndarray, numpy.int64)"
      ]
     },
     "execution_count": 9,
     "metadata": {},
     "output_type": "execute_result"
    }
   ],
   "source": [
    "# Estandarizamos las características\n",
    "scaler = StandardScaler()\n",
    "X_train_scaled = scaler.fit_transform(X_train)\n",
    "X_test_scaled = scaler.fit_transform(X_test)\n",
    "X_train_scaled.shape, X_test_scaled.shape\n",
    "\n",
    "labelEncoder = LabelEncoder()\n",
    "Y_train_encoded = labelEncoder.fit_transform(Y_train)\n",
    "Y_train_encoded.shape, type(Y_train_encoded), type(Y_train_encoded[0])"
   ]
  },
  {
   "cell_type": "code",
   "execution_count": 21,
   "metadata": {},
   "outputs": [],
   "source": [
    "# Aseguramos error en las etiquetas de y_train_encoded\n",
    "#Y_train_encoded = [int(label) for label in Y_train_encoded]\n",
    "\n",
    "# Pasamos los datos a tensores pytorch\n",
    "X_train_tensor = torch.tensor(X_train_scaled,   dtype=torch.int)\n",
    "Y_train_tensor = torch.tensor(Y_train_encoded,  dtype=torch.long)"
   ]
  },
  {
   "cell_type": "code",
   "execution_count": 22,
   "metadata": {},
   "outputs": [
    {
     "name": "stdout",
     "output_type": "stream",
     "text": [
      "artists               int64\n",
      "album_name            int64\n",
      "track_name           object\n",
      "popularity            int64\n",
      "duration_ms           int64\n",
      "explicit               bool\n",
      "danceability        float64\n",
      "energy              float64\n",
      "key                   int64\n",
      "loudness            float64\n",
      "mode                  int64\n",
      "speechiness         float64\n",
      "acousticness        float64\n",
      "instrumentalness    float64\n",
      "liveness            float64\n",
      "valence             float64\n",
      "tempo               float64\n",
      "time_signature        int64\n",
      "track_genre           int64\n",
      "dtype: object\n"
     ]
    }
   ],
   "source": [
    "# mostramos todos los tipos de datos de las columnas\n",
    "print(dataset.dtypes)"
   ]
  },
  {
   "cell_type": "code",
   "execution_count": 31,
   "metadata": {},
   "outputs": [],
   "source": [
    "# Creamos el modelo\n",
    "modelo = TabTransformer(\n",
    "    categories=[len(dataset[col].unique()) for col in X.columns],\n",
    "    num_continuous=len(X.columns),\n",
    "    dim=32,\n",
    "    depth=6,\n",
    "    heads=8,\n",
    "    attn_dropout=0.1,\n",
    "    ff_dropout=.1,\n",
    "    mlp_hidden_mults=(4,2),\n",
    ")"
   ]
  },
  {
   "cell_type": "code",
   "execution_count": null,
   "metadata": {},
   "outputs": [],
   "source": [
    "X_train_tensor.dtype"
   ]
  },
  {
   "cell_type": "code",
   "execution_count": 33,
   "metadata": {},
   "outputs": [
    {
     "ename": "",
     "evalue": "",
     "output_type": "error",
     "traceback": [
      "\u001b[1;31mEl kernel se bloqueó al ejecutar código en la celda actual o en una celda anterior. \n",
      "\u001b[1;31mRevise el código de las celdas para identificar una posible causa del error. \n",
      "\u001b[1;31mHaga clic <a href='https://aka.ms/vscodeJupyterKernelCrash'>aquí</a> para obtener más información. \n",
      "\u001b[1;31mVea Jupyter <a href='command:jupyter.viewOutput'>log</a> para obtener más detalles."
     ]
    }
   ],
   "source": [
    "# Entrenamos el modelo\n",
    "predicciones = modelo(X_train_tensor, Y_train_encoded)"
   ]
  },
  {
   "cell_type": "code",
   "execution_count": null,
   "metadata": {},
   "outputs": [],
   "source": [
    "accuracy = modelo.score(X_train_scaled, Y_train)\n",
    "print(f\"Precisión del modelo: accuracy = {accuracy}\")\n"
   ]
  }
 ],
 "metadata": {
  "kernelspec": {
   "display_name": ".python-venv",
   "language": "python",
   "name": "python3"
  },
  "language_info": {
   "codemirror_mode": {
    "name": "ipython",
    "version": 3
   },
   "file_extension": ".py",
   "mimetype": "text/x-python",
   "name": "python",
   "nbconvert_exporter": "python",
   "pygments_lexer": "ipython3",
   "version": "3.9.6"
  }
 },
 "nbformat": 4,
 "nbformat_minor": 2
}
