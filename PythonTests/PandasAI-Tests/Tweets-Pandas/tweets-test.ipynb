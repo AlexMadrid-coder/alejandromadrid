{
 "cells": [
  {
   "cell_type": "code",
   "execution_count": 3,
   "metadata": {},
   "outputs": [],
   "source": [
    "# Imports\n",
    "import os \n",
    "from pandasai import SmartDataframe\n",
    "import pandas as pd\n",
    "from dotenv import dotenv_values\n",
    "# Keys\n",
    "keys = dotenv_values(\"../../.env-token\")\n",
    "os.environ[\"PANDASAI_API_KEY\"] = keys[\"PANDASAI_API_KEY\"]\n"
   ]
  },
  {
   "cell_type": "code",
   "execution_count": 4,
   "metadata": {},
   "outputs": [
    {
     "data": {
      "text/plain": [
       "(3561, 13)"
      ]
     },
     "execution_count": 4,
     "metadata": {},
     "output_type": "execute_result"
    }
   ],
   "source": [
    "# I'm gonna make a test asking a few things about the DataFrame of tweets i have in Assets/Datasets/CSV/Tweets folder\n",
    "df = pd.read_csv(\"Tweets/Train/sem_eval_train_es.csv\")\n",
    "df.shape"
   ]
  },
  {
   "cell_type": "code",
   "execution_count": 5,
   "metadata": {},
   "outputs": [
    {
     "data": {
      "text/html": [
       "<div>\n",
       "<style scoped>\n",
       "    .dataframe tbody tr th:only-of-type {\n",
       "        vertical-align: middle;\n",
       "    }\n",
       "\n",
       "    .dataframe tbody tr th {\n",
       "        vertical-align: top;\n",
       "    }\n",
       "\n",
       "    .dataframe thead th {\n",
       "        text-align: right;\n",
       "    }\n",
       "</style>\n",
       "<table border=\"1\" class=\"dataframe\">\n",
       "  <thead>\n",
       "    <tr style=\"text-align: right;\">\n",
       "      <th></th>\n",
       "      <th>ID</th>\n",
       "      <th>Tweet</th>\n",
       "      <th>anger</th>\n",
       "      <th>anticipation</th>\n",
       "      <th>disgust</th>\n",
       "      <th>fear</th>\n",
       "      <th>joy</th>\n",
       "      <th>love</th>\n",
       "      <th>optimism</th>\n",
       "      <th>pessimism</th>\n",
       "      <th>sadness</th>\n",
       "      <th>surprise</th>\n",
       "      <th>trust</th>\n",
       "    </tr>\n",
       "  </thead>\n",
       "  <tbody>\n",
       "    <tr>\n",
       "      <th>0</th>\n",
       "      <td>2018-Es-01643</td>\n",
       "      <td>@aliciaenp Ajajjaa somos del clan twitteras pe...</td>\n",
       "      <td>False</td>\n",
       "      <td>False</td>\n",
       "      <td>False</td>\n",
       "      <td>False</td>\n",
       "      <td>True</td>\n",
       "      <td>False</td>\n",
       "      <td>False</td>\n",
       "      <td>False</td>\n",
       "      <td>False</td>\n",
       "      <td>False</td>\n",
       "      <td>False</td>\n",
       "    </tr>\n",
       "    <tr>\n",
       "      <th>1</th>\n",
       "      <td>2018-Es-05142</td>\n",
       "      <td>@AwadaNai la mala suerte del gato fichame la c...</td>\n",
       "      <td>False</td>\n",
       "      <td>False</td>\n",
       "      <td>False</td>\n",
       "      <td>True</td>\n",
       "      <td>False</td>\n",
       "      <td>False</td>\n",
       "      <td>False</td>\n",
       "      <td>True</td>\n",
       "      <td>False</td>\n",
       "      <td>False</td>\n",
       "      <td>False</td>\n",
       "    </tr>\n",
       "    <tr>\n",
       "      <th>2</th>\n",
       "      <td>2018-Es-05379</td>\n",
       "      <td>@audiomano A mí tampoco me agrado mucho eso. E...</td>\n",
       "      <td>True</td>\n",
       "      <td>False</td>\n",
       "      <td>False</td>\n",
       "      <td>False</td>\n",
       "      <td>False</td>\n",
       "      <td>False</td>\n",
       "      <td>False</td>\n",
       "      <td>False</td>\n",
       "      <td>False</td>\n",
       "      <td>False</td>\n",
       "      <td>False</td>\n",
       "    </tr>\n",
       "    <tr>\n",
       "      <th>3</th>\n",
       "      <td>2018-Es-00208</td>\n",
       "      <td>Para llevar a los bebes de un lugar a otro deb...</td>\n",
       "      <td>False</td>\n",
       "      <td>False</td>\n",
       "      <td>False</td>\n",
       "      <td>False</td>\n",
       "      <td>True</td>\n",
       "      <td>False</td>\n",
       "      <td>False</td>\n",
       "      <td>False</td>\n",
       "      <td>False</td>\n",
       "      <td>False</td>\n",
       "      <td>False</td>\n",
       "    </tr>\n",
       "    <tr>\n",
       "      <th>4</th>\n",
       "      <td>2018-Es-01385</td>\n",
       "      <td>@DalasReview me encanta la terrible hipocresia...</td>\n",
       "      <td>True</td>\n",
       "      <td>False</td>\n",
       "      <td>True</td>\n",
       "      <td>False</td>\n",
       "      <td>False</td>\n",
       "      <td>False</td>\n",
       "      <td>False</td>\n",
       "      <td>False</td>\n",
       "      <td>False</td>\n",
       "      <td>False</td>\n",
       "      <td>False</td>\n",
       "    </tr>\n",
       "  </tbody>\n",
       "</table>\n",
       "</div>"
      ],
      "text/plain": [
       "              ID                                              Tweet  anger  \\\n",
       "0  2018-Es-01643  @aliciaenp Ajajjaa somos del clan twitteras pe...  False   \n",
       "1  2018-Es-05142  @AwadaNai la mala suerte del gato fichame la c...  False   \n",
       "2  2018-Es-05379  @audiomano A mí tampoco me agrado mucho eso. E...   True   \n",
       "3  2018-Es-00208  Para llevar a los bebes de un lugar a otro deb...  False   \n",
       "4  2018-Es-01385  @DalasReview me encanta la terrible hipocresia...   True   \n",
       "\n",
       "   anticipation  disgust   fear    joy   love  optimism  pessimism  sadness  \\\n",
       "0         False    False  False   True  False     False      False    False   \n",
       "1         False    False   True  False  False     False       True    False   \n",
       "2         False    False  False  False  False     False      False    False   \n",
       "3         False    False  False   True  False     False      False    False   \n",
       "4         False     True  False  False  False     False      False    False   \n",
       "\n",
       "   surprise  trust  \n",
       "0     False  False  \n",
       "1     False  False  \n",
       "2     False  False  \n",
       "3     False  False  \n",
       "4     False  False  "
      ]
     },
     "execution_count": 5,
     "metadata": {},
     "output_type": "execute_result"
    }
   ],
   "source": [
    "df.head()"
   ]
  },
  {
   "cell_type": "code",
   "execution_count": 6,
   "metadata": {},
   "outputs": [
    {
     "name": "stdout",
     "output_type": "stream",
     "text": [
      "                 ID                                              Tweet  anger  \\\n",
      "2     2018-Es-05379  @audiomano A mí tampoco me agrado mucho eso. E...   True   \n",
      "4     2018-Es-01385  @DalasReview me encanta la terrible hipocresia...   True   \n",
      "7     2018-Es-02108            @tctelevision @calle7tc Terrible  esto!   True   \n",
      "11    2018-Es-04296  Qué perra rabia cuando tienes sueño pero no pu...   True   \n",
      "12    2018-Es-06944          Le dije por su nombre y cerró la cuenta 😆   True   \n",
      "...             ...                                                ...    ...   \n",
      "3549  2018-Es-01947  me siento super miserable ahorita porque soy u...   True   \n",
      "3552  2018-Es-01700  \"Hombres cuya única preocupación pasa por si s...   True   \n",
      "3555  2018-Es-00840                 @BursiFrancisco sos amargo jugando   True   \n",
      "3557  2018-Es-00439  El mayor criminal del país diciéndole “delincu...   True   \n",
      "3558  2018-Es-04919  Mi prima de 4 años se ha enfadado conmigo porq...   True   \n",
      "\n",
      "      anticipation  disgust   fear    joy   love  optimism  pessimism  \\\n",
      "2            False    False  False  False  False     False      False   \n",
      "4            False     True  False  False  False     False      False   \n",
      "7            False     True  False  False  False     False      False   \n",
      "11           False    False  False  False  False     False      False   \n",
      "12           False    False  False   True  False     False      False   \n",
      "...            ...      ...    ...    ...    ...       ...        ...   \n",
      "3549         False    False  False  False  False     False       True   \n",
      "3552         False     True  False  False  False     False       True   \n",
      "3555         False     True  False  False  False     False      False   \n",
      "3557         False     True  False  False  False     False      False   \n",
      "3558         False    False  False  False  False     False      False   \n",
      "\n",
      "      sadness  surprise  trust  \n",
      "2       False     False  False  \n",
      "4       False     False  False  \n",
      "7        True     False  False  \n",
      "11      False     False  False  \n",
      "12       True     False  False  \n",
      "...       ...       ...    ...  \n",
      "3549     True     False  False  \n",
      "3552    False     False  False  \n",
      "3555    False     False  False  \n",
      "3557    False     False  False  \n",
      "3558    False      True  False  \n",
      "\n",
      "[1155 rows x 13 columns]\n"
     ]
    }
   ],
   "source": [
    "# We start the communication with pandasai\n",
    "sdf = SmartDataframe(df)\n",
    "response = sdf.chat(\"Show the tweets with the anger flag True and how many of them there are\")\n",
    "print(response)"
   ]
  },
  {
   "cell_type": "markdown",
   "metadata": {},
   "source": [
    "# To compare we show the exact but made by myself\n",
    "print(df[df[\"anger\"] == True])"
   ]
  },
  {
   "cell_type": "code",
   "execution_count": null,
   "metadata": {},
   "outputs": [],
   "source": []
  }
 ],
 "metadata": {
  "kernelspec": {
   "display_name": ".python-venv",
   "language": "python",
   "name": "python3"
  },
  "language_info": {
   "codemirror_mode": {
    "name": "ipython",
    "version": 3
   },
   "file_extension": ".py",
   "mimetype": "text/x-python",
   "name": "python",
   "nbconvert_exporter": "python",
   "pygments_lexer": "ipython3",
   "version": "3.9.6"
  }
 },
 "nbformat": 4,
 "nbformat_minor": 2
}
